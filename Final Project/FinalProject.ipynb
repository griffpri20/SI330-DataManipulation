{
 "cells": [
  {
   "cell_type": "code",
   "execution_count": 6,
   "metadata": {},
   "outputs": [],
   "source": [
    "import pandas as pd\n",
    "import re\n",
    "import numpy as np\n",
    "import matplotlib.pyplot as plt"
   ]
  },
  {
   "cell_type": "code",
   "execution_count": 2,
   "metadata": {},
   "outputs": [],
   "source": [
    "l1 = \"social-power-nba/nba_2017_salary.csv\"\n",
    "l2 = \"https://www.basketball-reference.com/leagues/NBA_2018_per_game.html\""
   ]
  },
  {
   "cell_type": "code",
   "execution_count": 3,
   "metadata": {},
   "outputs": [],
   "source": [
    "## Function to merge the two datasets I am using\n",
    "def mergedfs(link1, link2):\n",
    "    df1 = pd.read_csv(l1)\n",
    "    df2 = pd.read_html(l2)\n",
    "    df2 = df2[0]\n",
    "    ## There are some players that got traded so the data tracked will be with the team \n",
    "    ## a player was on for the longest time \n",
    "    df2 = df2.drop_duplicates(subset='Rk', keep='first')\n",
    "    comp = df2.merge(df1, how='inner', left_on='Player', right_on='NAME')\n",
    "    comp = comp.drop(['Rk', 'POSITION', 'NAME'], axis = 1)\n",
    "    comp = comp.drop_duplicates(subset = 'Player', keep='first')\n",
    "    return comp\n"
   ]
  },
  {
   "cell_type": "code",
   "execution_count": 7,
   "metadata": {},
   "outputs": [],
   "source": [
    "# merges the datasets and saves to variable \"comp\"\n",
    "l1 = \"social-power-nba/nba_2017_salary.csv\"\n",
    "l2 = \"https://www.basketball-reference.com/leagues/NBA_2018_per_game.html\"\n",
    "comp = mergedfs(l1, l2)"
   ]
  },
  {
   "cell_type": "markdown",
   "metadata": {},
   "source": [
    "Question 1: Do NBA players that receive higher salaries have better statistics during a season?"
   ]
  },
  {
   "cell_type": "code",
   "execution_count": 6,
   "metadata": {},
   "outputs": [],
   "source": [
    "## Set up numbers trying to make each group size as even as possible \n",
    "def q1help(df):\n",
    "    if df > 8350000:\n",
    "        return 'Large'\n",
    "    elif df > 2700000:\n",
    "        return 'Medium'\n",
    "    else: \n",
    "        return 'Small'"
   ]
  },
  {
   "cell_type": "code",
   "execution_count": 7,
   "metadata": {},
   "outputs": [
    {
     "name": "stderr",
     "output_type": "stream",
     "text": [
      "/anaconda3/lib/python3.6/site-packages/pandas/core/frame.py:3391: SettingWithCopyWarning: \n",
      "A value is trying to be set on a copy of a slice from a DataFrame.\n",
      "Try using .loc[row_indexer,col_indexer] = value instead\n",
      "\n",
      "See the caveats in the documentation: http://pandas.pydata.org/pandas-docs/stable/indexing.html#indexing-view-versus-copy\n",
      "  self[k1] = value[k2]\n"
     ]
    },
    {
     "data": {
      "text/html": [
       "<div>\n",
       "<style scoped>\n",
       "    .dataframe tbody tr th:only-of-type {\n",
       "        vertical-align: middle;\n",
       "    }\n",
       "\n",
       "    .dataframe tbody tr th {\n",
       "        vertical-align: top;\n",
       "    }\n",
       "\n",
       "    .dataframe thead th {\n",
       "        text-align: right;\n",
       "    }\n",
       "</style>\n",
       "<table border=\"1\" class=\"dataframe\">\n",
       "  <thead>\n",
       "    <tr style=\"text-align: right;\">\n",
       "      <th></th>\n",
       "      <th>AST</th>\n",
       "      <th>STL</th>\n",
       "      <th>BLK</th>\n",
       "      <th>TRB</th>\n",
       "      <th>PTS</th>\n",
       "    </tr>\n",
       "    <tr>\n",
       "      <th>Sal Size</th>\n",
       "      <th></th>\n",
       "      <th></th>\n",
       "      <th></th>\n",
       "      <th></th>\n",
       "      <th></th>\n",
       "    </tr>\n",
       "  </thead>\n",
       "  <tbody>\n",
       "    <tr>\n",
       "      <th>Large</th>\n",
       "      <td>2.882407</td>\n",
       "      <td>0.811111</td>\n",
       "      <td>0.541667</td>\n",
       "      <td>4.825000</td>\n",
       "      <td>12.769444</td>\n",
       "    </tr>\n",
       "    <tr>\n",
       "      <th>Medium</th>\n",
       "      <td>1.998165</td>\n",
       "      <td>0.708257</td>\n",
       "      <td>0.414679</td>\n",
       "      <td>3.825688</td>\n",
       "      <td>9.573394</td>\n",
       "    </tr>\n",
       "    <tr>\n",
       "      <th>Small</th>\n",
       "      <td>1.482407</td>\n",
       "      <td>0.550926</td>\n",
       "      <td>0.326852</td>\n",
       "      <td>2.911111</td>\n",
       "      <td>6.520370</td>\n",
       "    </tr>\n",
       "  </tbody>\n",
       "</table>\n",
       "</div>"
      ],
      "text/plain": [
       "               AST       STL       BLK       TRB        PTS\n",
       "Sal Size                                                   \n",
       "Large     2.882407  0.811111  0.541667  4.825000  12.769444\n",
       "Medium    1.998165  0.708257  0.414679  3.825688   9.573394\n",
       "Small     1.482407  0.550926  0.326852  2.911111   6.520370"
      ]
     },
     "execution_count": 7,
     "metadata": {},
     "output_type": "execute_result"
    }
   ],
   "source": [
    "q1 = comp.copy()\n",
    "# Create new column that catagorizes player salary as small/medium/large\n",
    "q1['Sal Size'] = q1['SALARY'].apply(q1help)\n",
    "# Get only relevant information \n",
    "q1info = q1[['AST', 'STL', 'BLK', 'TRB', 'PTS', 'Sal Size']]\n",
    "# Make columns numbers so they can be manipulated \n",
    "q1info[['AST', 'STL', 'BLK', 'TRB', 'PTS']] = q1info[['AST', 'STL', 'BLK', 'TRB', 'PTS']].apply(pd.to_numeric)\n",
    "# Group by thte new column to get information on each salary range \n",
    "inf = q1info.groupby('Sal Size').mean()\n",
    "inf\n"
   ]
  },
  {
   "cell_type": "code",
   "execution_count": 8,
   "metadata": {},
   "outputs": [
    {
     "data": {
      "text/plain": [
       "[]"
      ]
     },
     "execution_count": 8,
     "metadata": {},
     "output_type": "execute_result"
    },
    {
     "data": {
      "image/png": "[encoded data removed]",
      "text/plain": [
       "<Figure size 432x288 with 1 Axes>"
      ]
     },
     "metadata": {
      "needs_background": "light"
     },
     "output_type": "display_data"
    }
   ],
   "source": [
    "l = list()\n",
    "m = list()\n",
    "s = list()\n",
    "for i, x in inf.iteritems():\n",
    "    l.append(x[0])\n",
    "    m.append(x[1])\n",
    "    s.append(x[2])\n",
    "i = np.arange(5)\n",
    "bw = .27\n",
    "ax = plt.subplot(111)\n",
    "lar = ax.bar(i-bw, l, bw, label=\"Large\")\n",
    "med = ax.bar(i, m, bw, label=\"Medium\")\n",
    "sma = ax.bar(i+bw, s, bw, label=\"Small\")\n",
    "\n",
    "ax.set_xticklabels([\"\",\"AST\", \"STL\", \"BLK\", \"TRB\", \"PTS\"])\n",
    "ax.legend()\n",
    "ax.set_ylabel('Avg # of stat')\n",
    "ax.set_title(\"Bar Chart of Key Stats for \\nPlayers in Different Salary Groups\")\n",
    "ax.plot()"
   ]
  },
  {
   "cell_type": "markdown",
   "metadata": {},
   "source": [
    "As the chart above shows, in every category players that are given more money preform better when looking at the main 5 overall stats (assists, steals, blocks, rebounds, and points). In every aspect, the amount of money players are making decreases parallel to their statistics per game. "
   ]
  },
  {
   "cell_type": "markdown",
   "metadata": {},
   "source": [
    "Question 2: How does a players age impact how much they make, on average?"
   ]
  },
  {
   "cell_type": "code",
   "execution_count": 10,
   "metadata": {},
   "outputs": [],
   "source": [
    "def q2help(df):\n",
    "    if int(df) > 33:\n",
    "        return 'Veteran'\n",
    "    elif int(df) > 24:\n",
    "        return 'Prime'\n",
    "    else: \n",
    "        return 'Young'"
   ]
  },
  {
   "cell_type": "code",
   "execution_count": 11,
   "metadata": {},
   "outputs": [],
   "source": [
    "q2 = comp.copy()\n",
    "# Apply age catagorizing function to create new column \n",
    "q2['Age Group'] = q2['Age'].apply(q2help)\n",
    "# Only get relevant information\n",
    "q2info = q2[['Age Group', 'SALARY']]\n",
    "# Group by the newly created column \n",
    "q2df = q2info.groupby('Age Group').mean()\n",
    "# Change column type to make it manipulatable \n",
    "q2df['SALARY'] = q2df['SALARY'].astype('int64')\n",
    "# Sort the salaries to find the top ones \n",
    "q2ans = q2df.sort_values('SALARY', ascending = False)"
   ]
  },
  {
   "cell_type": "code",
   "execution_count": 13,
   "metadata": {},
   "outputs": [
    {
     "data": {
      "text/plain": [
       "Text(0.5, 1.0, 'Bar Chart for NBA Players and Their \\nPay Reletive to Age for 2017-2018 Season')"
      ]
     },
     "execution_count": 13,
     "metadata": {},
     "output_type": "execute_result"
    },
    {
     "data": {
      "image/png": "[encoded data removed]",
      "text/plain": [
       "<Figure size 432x288 with 1 Axes>"
      ]
     },
     "metadata": {
      "needs_background": "light"
     },
     "output_type": "display_data"
    }
   ],
   "source": [
    "q2ans.plot(kind='barh', colormap='hsv')\n",
    "plt.ylabel('Tenure of Player')\n",
    "plt.xlabel('Average Player Salary')\n",
    "plt.title('Bar Chart for NBA Players and Their \\nPay Reletive to Age for 2017-2018 Season')"
   ]
  },
  {
   "cell_type": "markdown",
   "metadata": {},
   "source": [
    "As shown in the graph above, players veterans get paid the most, players in their prime the second most, and young players the least. This remains true for almost all ages of playrs one wound consdier to be a \"veteran\" (up until age 40). "
   ]
  },
  {
   "cell_type": "markdown",
   "metadata": {},
   "source": [
    "Question 3: Does a teams success during a season correlate to the money that the team spends on its players?"
   ]
  },
  {
   "cell_type": "code",
   "execution_count": 14,
   "metadata": {},
   "outputs": [],
   "source": [
    "l3 = 'https://www.basketball-reference.com/leagues/NBA_2018_standings.html'\n",
    "# Get correct tables and change column names to easily concat \n",
    "df1 = pd.read_html(l3)[0]\n",
    "df1 = df1.rename(index=str, columns = {'Eastern Conference': 'Team'})\n",
    "df2 = pd.read_html(l3)[1]\n",
    "df2 = df2.rename(index=str, columns = {'Western Conference': 'Team'})\n",
    "stand = pd.concat([df1, df2])\n",
    "# Only get relevant information \n",
    "stand = stand[['Team', 'W', 'L']]\n",
    "# Sort by number of wins \n",
    "sorted_standings = stand.sort_values(by = 'W', ascending = False).reset_index()"
   ]
  },
  {
   "cell_type": "code",
   "execution_count": 15,
   "metadata": {},
   "outputs": [],
   "source": [
    "# Change column to have no digits and extraneous characters \n",
    "sorted_standings['Team'] = sorted_standings['Team'].apply(lambda x: re.sub(r'\\W+', '', x))\\\n",
    "                                                            .apply(lambda y: re.sub(\"\\d+\", \"\", y))"
   ]
  },
  {
   "cell_type": "code",
   "execution_count": 16,
   "metadata": {},
   "outputs": [
    {
     "name": "stderr",
     "output_type": "stream",
     "text": [
      "/anaconda3/lib/python3.6/site-packages/ipykernel_launcher.py:2: SettingWithCopyWarning: \n",
      "A value is trying to be set on a copy of a slice from a DataFrame.\n",
      "Try using .loc[row_indexer,col_indexer] = value instead\n",
      "\n",
      "See the caveats in the documentation: http://pandas.pydata.org/pandas-docs/stable/indexing.html#indexing-view-versus-copy\n",
      "  \n"
     ]
    }
   ],
   "source": [
    "# Get only relevant informaiton from original df \n",
    "q3 = comp[['TEAM', 'SALARY']]\n",
    "# Clean data from original df \n",
    "q3['TEAM'] = q3['TEAM'].apply(lambda x: re.sub(r'\\W+', '', x))\n",
    "# Group by newly cleaned column \n",
    "q3sal = q3.groupby('TEAM').mean().sort_values('SALARY', ascending = True)\n",
    "ss2 = q3sal.sort_values('TEAM').reset_index()\n",
    "# Reset index for visual purposes and drop extraneous columns \n",
    "ss = sorted_standings.sort_values('Team').reset_index().drop(columns=['level_0', 'index'])\n",
    "# Merge the two dataframes, drop extraneous columns, and reset index again\n",
    "fin = pd.merge(ss, ss2, left_index=True, right_index=True).drop(columns=['TEAM', 'L'])\\\n",
    "                .sort_values('W', ascending=False).reset_index().drop(columns=['index'])"
   ]
  },
  {
   "cell_type": "code",
   "execution_count": 17,
   "metadata": {},
   "outputs": [
    {
     "name": "stdout",
     "output_type": "stream",
     "text": [
      "The correlation coefficient is 0.014466382420785287\n"
     ]
    },
    {
     "data": {
      "image/png": "[encoded data removed]",
      "text/plain": [
       "<Figure size 432x288 with 1 Axes>"
      ]
     },
     "metadata": {
      "needs_background": "light"
     },
     "output_type": "display_data"
    }
   ],
   "source": [
    "t = list()\n",
    "s = list()\n",
    "w = list()\n",
    "for i, x in fin.iterrows():\n",
    "    t.append(str(x[0]))\n",
    "    w.append(int(x[1]))\n",
    "    s.append(int(x[2]))\n",
    "\n",
    "plt.scatter(w, s)\n",
    "plt.xlabel('# of wins')\n",
    "plt.ylabel('Average Player Salary')\n",
    "plt.title('Scatter Plot of NBA Team # of Wins vs \\n Average Team Salary for 2017-2018 Season')\n",
    "\n",
    "cc = np.corrcoef(w, s)[1][0]\n",
    "print('The correlation coefficient is {}'.format(cc))\n",
    "z = np.polyfit(w, s, 1)\n",
    "p = np.poly1d(z)\n",
    "plt.plot(w, p(w), \"r-\")\n",
    "plt.show()"
   ]
  },
  {
   "cell_type": "markdown",
   "metadata": {},
   "source": [
    "This scatter plot proves that there is 0 correlation between the cost of players on an NBA team and how many wins a team is able to get during the regular season. "
   ]
  },
  {
   "cell_type": "code",
   "execution_count": null,
   "metadata": {},
   "outputs": [],
   "source": []
  },
  {
   "cell_type": "code",
   "execution_count": null,
   "metadata": {},
   "outputs": [],
   "source": []
  }
 ],
 "metadata": {
  "kernelspec": {
   "display_name": "Python 3",
   "language": "python",
   "name": "python3"
  },
  "language_info": {
   "codemirror_mode": {
    "name": "ipython",
    "version": 3
   },
   "file_extension": ".py",
   "mimetype": "text/x-python",
   "name": "python",
   "nbconvert_exporter": "python",
   "pygments_lexer": "ipython3",
   "version": "3.6.8"
  }
 },
 "nbformat": 4,
 "nbformat_minor": 2
}
