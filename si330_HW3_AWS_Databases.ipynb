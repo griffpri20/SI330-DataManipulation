{
 "cells": [
  {
   "cell_type": "markdown",
   "metadata": {},
   "source": [
    "# SI 330 - Homework 3: AWS, RDS, MySQL, and Visualization\n",
    "## Top-level goal:\n",
    "To explore the goodreads database that we created during the past few classes.\n",
    "\n",
    "**NOTE**: You will need to review your notebooks from the past few classes to complete this assignment."
   ]
  },
  {
   "cell_type": "markdown",
   "metadata": {},
   "source": [
    "Take a look at the first few entries in the ```books``` table.  Specifically, take a look at the ```authors``` field.  \n",
    "\n",
    "You'll notice that some entries contain multiple authors such as:\n",
    ">  'Anne Frank, Eleanor Roosevelt, B.M. Mooyaart-Doubleday'\n",
    "\n",
    "(that's from iloc[14])\n",
    "\n",
    "Note too that some non-ASCII characters in the author names are misformed.  That's my fault and can be ignored for the purposes of this assignment."
   ]
  },
  {
   "cell_type": "markdown",
   "metadata": {},
   "source": [
    "Your task is to \"break out\" those authors into a separate dataframe, then use either merge, join, or any other functionality from pandas to answer the following questions.  Please note that there are multiple ways to figure out the answers.  You can, of course, choose to do things in a \"pythonic\" way rather than a \"pandorable\" way, but it will be more difficult to get full points if you do so.\n",
    "\n",
    "You will also need to use some of the visualization techniques we learned when we covered matplotlib a few weeks ago."
   ]
  },
  {
   "cell_type": "code",
   "execution_count": 2,
   "metadata": {},
   "outputs": [],
   "source": [
    "import pandas as pd\n",
    "import matplotlib.pyplot as plt\n",
    "import pymysql\n",
    "%matplotlib inline"
   ]
  },
  {
   "cell_type": "code",
   "execution_count": 3,
   "metadata": {},
   "outputs": [],
   "source": [
    "connection = pymysql.connect(host='si330-gprime-instance.cst7dbvgzgvt.us-east-1.rds.amazonaws.com', # remove this before submitting\n",
    "                             user='...', # remove this before submitting\n",
    "                             password='...', # remove this before submitting\n",
    "                             db='goodreads',\n",
    "                             charset='utf8mb4',\n",
    "                             cursorclass=pymysql.cursors.DictCursor)"
   ]
  },
  {
   "cell_type": "markdown",
   "metadata": {},
   "source": [
    "### Q1: How many unique authors are there?"
   ]
  },
  {
   "cell_type": "code",
   "execution_count": 3,
   "metadata": {},
   "outputs": [
    {
     "data": {
      "text/html": [
       "<div>\n",
       "<style scoped>\n",
       "    .dataframe tbody tr th:only-of-type {\n",
       "        vertical-align: middle;\n",
       "    }\n",
       "\n",
       "    .dataframe tbody tr th {\n",
       "        vertical-align: top;\n",
       "    }\n",
       "\n",
       "    .dataframe thead th {\n",
       "        text-align: right;\n",
       "    }\n",
       "</style>\n",
       "<table border=\"1\" class=\"dataframe\">\n",
       "  <thead>\n",
       "    <tr style=\"text-align: right;\">\n",
       "      <th></th>\n",
       "      <th>authors</th>\n",
       "    </tr>\n",
       "  </thead>\n",
       "  <tbody>\n",
       "    <tr>\n",
       "      <th>0</th>\n",
       "      <td>Suzanne Collins</td>\n",
       "    </tr>\n",
       "    <tr>\n",
       "      <th>1</th>\n",
       "      <td>J.K. Rowling, Mary GrandPrÃ©</td>\n",
       "    </tr>\n",
       "    <tr>\n",
       "      <th>2</th>\n",
       "      <td>Stephenie Meyer</td>\n",
       "    </tr>\n",
       "    <tr>\n",
       "      <th>3</th>\n",
       "      <td>Harper Lee</td>\n",
       "    </tr>\n",
       "    <tr>\n",
       "      <th>4</th>\n",
       "      <td>F. Scott Fitzgerald</td>\n",
       "    </tr>\n",
       "  </tbody>\n",
       "</table>\n",
       "</div>"
      ],
      "text/plain": [
       "                        authors\n",
       "0               Suzanne Collins\n",
       "1  J.K. Rowling, Mary GrandPrÃ©\n",
       "2               Stephenie Meyer\n",
       "3                    Harper Lee\n",
       "4           F. Scott Fitzgerald"
      ]
     },
     "execution_count": 3,
     "metadata": {},
     "output_type": "execute_result"
    }
   ],
   "source": [
    "q1 = pd.read_sql('SELECT authors FROM books', con=connection)\n",
    "q1.head()"
   ]
  },
  {
   "cell_type": "code",
   "execution_count": 4,
   "metadata": {},
   "outputs": [],
   "source": [
    "def numunique(l):\n",
    "    d = dict()\n",
    "    for x in l: \n",
    "        d[x] = d.get(x, 0) + 1\n",
    "    return len(d)\n",
    "            "
   ]
  },
  {
   "cell_type": "code",
   "execution_count": 5,
   "metadata": {},
   "outputs": [
    {
     "data": {
      "text/plain": [
       "5944"
      ]
     },
     "execution_count": 5,
     "metadata": {},
     "output_type": "execute_result"
    }
   ],
   "source": [
    "names = list()\n",
    "final = list()\n",
    "for index, x in q1.itertuples():\n",
    "    names.append(x)\n",
    "for y in names:\n",
    "    if ',' in y:\n",
    "        z = y.split(',')\n",
    "        final = z + final\n",
    "    else:\n",
    "        final.append(y)\n",
    "numunique(final)\n"
   ]
  },
  {
   "cell_type": "markdown",
   "metadata": {},
   "source": [
    "There are 5,944 unique authors in this dataset. "
   ]
  },
  {
   "cell_type": "markdown",
   "metadata": {},
   "source": [
    "### Q2: Create a barchart that has the number of authors from 1 to n across the horizontal axis and the number of books having that number of authors as the vertical axis."
   ]
  },
  {
   "cell_type": "code",
   "execution_count": 39,
   "metadata": {},
   "outputs": [],
   "source": [
    "def numauth(l):\n",
    "    return len(l.split(','))"
   ]
  },
  {
   "cell_type": "code",
   "execution_count": 40,
   "metadata": {},
   "outputs": [
    {
     "data": {
      "text/plain": [
       "Text(0.5, 0, 'Number of Authors on a Book')"
      ]
     },
     "execution_count": 40,
     "metadata": {},
     "output_type": "execute_result"
    },
    {
     "data": {
      "image/png": "[encoded data removed]",
      "text/plain": [
       "<Figure size 432x288 with 1 Axes>"
      ]
     },
     "metadata": {
      "needs_background": "light"
     },
     "output_type": "display_data"
    }
   ],
   "source": [
    "q2 = pd.read_sql('SELECT authors, original_title FROM books', con=connection)\n",
    "q2['NumAuthors'] = q2['authors'].apply(numauth)\n",
    "q2plot = q2.groupby('NumAuthors').size().plot(kind = \"bar\", y = 'Number of Books', title = \"Number of Books for Number of Authors on Book\")\n",
    "q2plot.set_ylabel('# of Books')\n",
    "q2plot.set_xlabel('Number of Authors on a Book')\n",
    "\n",
    "\n",
    "\n"
   ]
  },
  {
   "cell_type": "markdown",
   "metadata": {},
   "source": [
    "### Q3: How many books as J.K. Rowling co-authored with someone else?"
   ]
  },
  {
   "cell_type": "code",
   "execution_count": 41,
   "metadata": {},
   "outputs": [
    {
     "data": {
      "text/plain": [
       "19"
      ]
     },
     "execution_count": 41,
     "metadata": {},
     "output_type": "execute_result"
    }
   ],
   "source": [
    "q3 = pd.read_sql('''SELECT authors\n",
    "                  FROM books\n",
    "                  WHERE authors LIKE \"%J.K. Rowling%\"''', con=connection)\n",
    "q3['NumAuthors'] = q3['authors'].apply(numauth)\n",
    "q3 = q3[q3['NumAuthors'] > 1]\n",
    "len(q3)"
   ]
  },
  {
   "cell_type": "markdown",
   "metadata": {},
   "source": [
    "J.K. Rowling has co-authored 19 books with someone else. "
   ]
  },
  {
   "cell_type": "markdown",
   "metadata": {},
   "source": [
    "### Q4: Who has co-authored books with J.K Rowling?"
   ]
  },
  {
   "cell_type": "code",
   "execution_count": 42,
   "metadata": {},
   "outputs": [
    {
     "name": "stdout",
     "output_type": "stream",
     "text": [
      "The authors that have co-authored books with J.K. Rowling are:\n"
     ]
    },
    {
     "data": {
      "text/plain": [
       "['Albus Dumbledore',\n",
       " 'Robert Galbraith',\n",
       " 'Newt Scamander',\n",
       " 'John Tiffany',\n",
       " 'Rufus Beck',\n",
       " 'MinaLima',\n",
       " 'Kennilworthy Whisp',\n",
       " 'Joel Holland',\n",
       " 'Jack Thorne',\n",
       " 'Melissa Anelli',\n",
       " 'Mary GrandPrÃ©']"
      ]
     },
     "execution_count": 42,
     "metadata": {},
     "output_type": "execute_result"
    }
   ],
   "source": [
    "q4 = q3.copy()\n",
    "q4lst = q4.authors.tolist()\n",
    "a = list()\n",
    "for x in q4lst:\n",
    "    if ',' in x:\n",
    "        y = x.split(', ')\n",
    "        a = y + a\n",
    "    else:\n",
    "        a.append(x)\n",
    "print('The authors that have co-authored books with J.K. Rowling are:')\n",
    "list(set([z for z in a if z != 'J.K. Rowling']))\n",
    "\n"
   ]
  },
  {
   "cell_type": "markdown",
   "metadata": {},
   "source": [
    "### Q5: Which book has the largest number of authors?  How many authors?  Who are the authors?"
   ]
  },
  {
   "cell_type": "code",
   "execution_count": 43,
   "metadata": {},
   "outputs": [
    {
     "name": "stdout",
     "output_type": "stream",
     "text": [
      "There were multiple books with the largest number of authors. They are listed below.\n",
      "\n",
      "Title: The Sandman: The Kindly Ones\n",
      "# Authors: 8\n",
      "Author Names: ['Neil Gaiman', ' Marc Hempel', ' Richard Case', \" D'Israeli\", ' Teddy Kristiansen', ' Glyn Dillon', ' Charles Vess', ' Dea']\n",
      "\n",
      "Title: The Sandman: A Game of You\n",
      "# Authors: 8\n",
      "Author Names: ['Neil Gaiman', ' Shawn McManus', ' Colleen Doran', ' Bryan Talbot', ' George Pratt', ' Stan Woch', ' Dick Giordano', ' Tod']\n",
      "\n",
      "Title: The Sandman: Fables and Reflections\n",
      "# Authors: 8\n",
      "Author Names: ['Neil Gaiman', ' Bryan Talbot', ' Stan Woch', ' P. Craig Russell', ' Shawn McManus', ' John Watkiss', ' Jill Thompson', ' ']\n",
      "\n",
      "Title: America (The Book): A Citizen's Guide to Democracy Inaction\n",
      "# Authors: 8\n",
      "Author Names: ['Jon Stewart', ' Ben Karlin', ' David Javerbaum', ' Rich Bloomquist', ' Steve Bodow', ' Tim Carvell', ' Eric Drysdale', ' ']\n",
      "\n",
      "Title: Earth: A Visitor's Guide to the Human Race \n",
      "# Authors: 8\n",
      "Author Names: ['Jon Stewart', ' Rory Albanese', ' Kevin Bleyer', ' Rich Bloomquist', ' Steve Bodow', ' Tim Carvell', ' Wyatt Cenac', ' Ha']\n",
      "\n",
      "Title: The Sandman: Worlds' End\n",
      "# Authors: 8\n",
      "Author Names: ['Neil Gaiman', ' Mike Allred', ' Gary Amaro', ' Mark Buckingham', ' David Giordano', ' Tony Harris', ' Steve Leialoha', ' ']\n",
      "\n",
      "Title: SÃ¤mtliche ErzÃ¤hlungen\n",
      "# Authors: 8\n",
      "Author Names: ['Franz Kafka', ' Nahum N. Glatzer', ' John Updike', ' Willa Muir', ' Edwin Muir', ' Tania Stern', ' James Stern', ' Ernst ']\n",
      "\n"
     ]
    }
   ],
   "source": [
    "q5 = q2.copy()\n",
    "bignum = q5.sort_values(by='NumAuthors', ascending = False)\n",
    "big = bignum[bignum['NumAuthors'] == bignum['NumAuthors'].max()]\n",
    "print('There were multiple books with the largest number of authors. They are listed below.\\n')\n",
    "use = big.values.tolist()\n",
    "for x in use:\n",
    "    names = x[0].split(',')\n",
    "    print('Title: {}'.format(x[1]))\n",
    "    print('# Authors: {}'.format(x[2]))\n",
    "    print('Author Names: {}\\n'.format(names))"
   ]
  },
  {
   "cell_type": "markdown",
   "metadata": {},
   "source": [
    "### Q6: Which author's books have been tagged with the largest number of unique tags?"
   ]
  },
  {
   "cell_type": "code",
   "execution_count": 36,
   "metadata": {},
   "outputs": [
    {
     "data": {
      "text/plain": [
       "[('James Patterson', 9827),\n",
       " ('Stephen King', 9532),\n",
       " ('Nora Roberts', 6439),\n",
       " ('Dean Koontz', 6400),\n",
       " ('Terry Pratchett', 5000)]"
      ]
     },
     "execution_count": 36,
     "metadata": {},
     "output_type": "execute_result"
    }
   ],
   "source": [
    "q6 = pd.read_sql('''SELECT title, authors, COUNT(DISTINCT books_tags.tag_id) as \"UniTags\"\n",
    "                    FROM books, books_tags\n",
    "                    WHERE books.goodreads_book_id = books_tags.goodreads_book_id\n",
    "                    GROUP BY title\n",
    "                    ORDER BY UniTags DESC;\n",
    "                    ''', con=connection)\n",
    "sep = q6['authors'].str.split(', ', expand = True)\n",
    "temp = pd.merge(q6, sep, left_on = q6.index, right_on = sep.index)\n",
    "d = dict()\n",
    "for x in temp.values.tolist():\n",
    "    auths = x[4:]\n",
    "    for y in auths:\n",
    "        if type(y) == str:\n",
    "            d[y] = d.get(y, 0) + x[3]\n",
    "sorted(d.items(), key = lambda x: x[1], reverse = True)[:5]"
   ]
  },
  {
   "cell_type": "markdown",
   "metadata": {},
   "source": [
    "The author that has been tagged with the largest number of unique tags is James Patterson. \n",
    "\n",
    "He has 9827 unique tags. "
   ]
  }
 ],
 "metadata": {
  "kernelspec": {
   "display_name": "Python 3",
   "language": "python",
   "name": "python3"
  },
  "language_info": {
   "codemirror_mode": {
    "name": "ipython",
    "version": 3
   },
   "file_extension": ".py",
   "mimetype": "text/x-python",
   "name": "python",
   "nbconvert_exporter": "python",
   "pygments_lexer": "ipython3",
   "version": "3.6.8"
  }
 },
 "nbformat": 4,
 "nbformat_minor": 2
}
