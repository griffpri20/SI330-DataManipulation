{
 "cells": [
  {
   "cell_type": "markdown",
   "metadata": {
    "slideshow": {
     "slide_type": "slide"
    }
   },
   "source": [
    "# SI 330: Data Manipulation \n",
    "## 02 - Introduction to Pandas\n",
    "\n",
    "### Dr. Chris Teplovs, School of Information, University of Michigan\n",
    "<small><a rel=\"license\" href=\"http://creativecommons.org/licenses/by-nc-sa/4.0/\"><img alt=\"Creative Commons License\" style=\"border-width:0\" src=\"https://i.creativecommons.org/l/by-nc-sa/4.0/88x31.png\" /></a>This work is licensed under a <a rel=\"license\" href=\"http://creativecommons.org/licenses/by-nc-sa/4.0/\">Creative Commons Attribution-NonCommercial-ShareAlike 4.0 International License</a>."
   ]
  },
  {
   "cell_type": "markdown",
   "metadata": {
    "slideshow": {
     "slide_type": "slide"
    }
   },
   "source": [
    "# Reminders\n",
    "* Slack (see link via Canvas announcements)"
   ]
  },
  {
   "cell_type": "markdown",
   "metadata": {
    "slideshow": {
     "slide_type": "slide"
    }
   },
   "source": [
    "## Learning Objectives\n",
    "\n",
    "* Pandas introduction\n",
    "* explain how pandas operations differ from \"traditional\" python\n",
    "* be able to load a CSV file into a Pandas DataFrame\n",
    "* explain how to extract columns from a DataFrame\n",
    "* sort a DataFrame\n",
    "* assign a column as the index of a DataFrame\n",
    "* filter a DataFrame according to some criteria\n",
    "* explain how boolean masks work in filtering DataFrames"
   ]
  },
  {
   "cell_type": "markdown",
   "metadata": {
    "slideshow": {
     "slide_type": "subslide"
    }
   },
   "source": [
    "### IMPORTANT: Replace ```?``` in the following code with your uniqname."
   ]
  },
  {
   "cell_type": "code",
   "execution_count": null,
   "metadata": {},
   "outputs": [],
   "source": [
    "MY_UNIQNAME = 'gprime'"
   ]
  },
  {
   "cell_type": "markdown",
   "metadata": {
    "slideshow": {
     "slide_type": "slide"
    }
   },
   "source": [
    "## <font color=\"magenta\"> Exercise 1 (1 point): Based on the readings ([Chapter 4](https://learning.oreilly.com/library/view/python-for-data/9781491957653/ch04.html#numpy) of Python for Data Analysis), what is the key feature of numpy that underpins much of the functionality of pandas? </font>"
   ]
  },
  {
   "cell_type": "markdown",
   "metadata": {},
   "source": [
    "Arrays"
   ]
  },
  {
   "cell_type": "markdown",
   "metadata": {
    "slideshow": {
     "slide_type": "slide"
    }
   },
   "source": [
    "## Pandas\n",
    "* high-level library to support data manipulation and analysis\n",
    "* DataFrame is the primary object we’ll be dealing with\n",
    "* similar to R’s dataframe\n",
    "* maps onto tabular structure\n",
    "* good for time series and econometric data"
   ]
  },
  {
   "cell_type": "markdown",
   "metadata": {
    "slideshow": {
     "slide_type": "subslide"
    }
   },
   "source": [
    "## Shift from \"pythonic\" to \"pandorable\""
   ]
  },
  {
   "cell_type": "markdown",
   "metadata": {},
   "source": [
    "* less looping over elements\n",
    "* lots of built-in functionality\n",
    "* a \"paradigm shift\""
   ]
  },
  {
   "cell_type": "markdown",
   "metadata": {
    "slideshow": {
     "slide_type": "subslide"
    }
   },
   "source": [
    "# Data structures\n",
    "\n",
    "We're all familiar with lists:"
   ]
  },
  {
   "cell_type": "code",
   "execution_count": 2,
   "metadata": {},
   "outputs": [],
   "source": [
    "names = [\"Charlotte\", \"Ingrid\", \"Ian\", \"Eric\"]\n",
    "scores = [80, 95, 85, 70]"
   ]
  },
  {
   "cell_type": "markdown",
   "metadata": {
    "slideshow": {
     "slide_type": "subslide"
    }
   },
   "source": [
    "Now let's say that we wanted to divide each of those scores by two and assign the results to another variable. Go ahead and write some code that does that... There are lots of ways to do this, so go ahead and write one way to do it (without importing any additional python packages) and assign the results to a \n",
    "variable called ```half```:"
   ]
  },
  {
   "cell_type": "markdown",
   "metadata": {},
   "source": [
    "## <font color=\"magenta\"> Exercise 2 (1 point): Write some python code to divide all the scores by 2.  The results should be saved to a variable called ```half```. </font>"
   ]
  },
  {
   "cell_type": "code",
   "execution_count": 6,
   "metadata": {},
   "outputs": [],
   "source": [
    "# insert your code here\n",
    "half = [x / 2 for x in scores]"
   ]
  },
  {
   "cell_type": "markdown",
   "metadata": {
    "slideshow": {
     "slide_type": "subslide"
    }
   },
   "source": [
    "If you followed the above instructions, the following cell block should print\n",
    "a list of floats that looks like ```\n",
    "[40.0, 47.5, 42.5, 35.0]```\n"
   ]
  },
  {
   "cell_type": "code",
   "execution_count": 7,
   "metadata": {},
   "outputs": [
    {
     "data": {
      "text/plain": [
       "[40.0, 47.5, 42.5, 35.0]"
      ]
     },
     "execution_count": 7,
     "metadata": {},
     "output_type": "execute_result"
    }
   ],
   "source": [
    "half"
   ]
  },
  {
   "cell_type": "markdown",
   "metadata": {
    "slideshow": {
     "slide_type": "subslide"
    }
   },
   "source": [
    "We can put data into an array structure that allows us to apply more powerful\n",
    "functions.  The data structure that we're interested in is called an ```ndarray``` and is from the ```numpy``` package:"
   ]
  },
  {
   "cell_type": "code",
   "execution_count": 12,
   "metadata": {
    "slideshow": {
     "slide_type": "subslide"
    }
   },
   "outputs": [],
   "source": [
    "import numpy as np\n",
    "ascores = np.array(scores)"
   ]
  },
  {
   "cell_type": "code",
   "execution_count": 13,
   "metadata": {
    "slideshow": {
     "slide_type": "-"
    }
   },
   "outputs": [
    {
     "data": {
      "text/plain": [
       "array([80, 95, 85, 70])"
      ]
     },
     "execution_count": 13,
     "metadata": {},
     "output_type": "execute_result"
    }
   ],
   "source": [
    "ascores "
   ]
  },
  {
   "cell_type": "code",
   "execution_count": 14,
   "metadata": {},
   "outputs": [],
   "source": [
    "ahalf = ascores / 2"
   ]
  },
  {
   "cell_type": "code",
   "execution_count": 22,
   "metadata": {},
   "outputs": [
    {
     "data": {
      "text/plain": [
       "array([40. , 47.5, 42.5, 35. ])"
      ]
     },
     "execution_count": 22,
     "metadata": {},
     "output_type": "execute_result"
    }
   ],
   "source": [
    "ahalf"
   ]
  },
  {
   "cell_type": "markdown",
   "metadata": {
    "slideshow": {
     "slide_type": "subslide"
    }
   },
   "source": [
    "Numpy arrays are powerful, but they have some limitations:  they can only \n",
    "consist of one type of data (e.g. int), etc.  pandas provides two additional\n",
    "data structures that are built on numpy ndarrays.\n",
    "\n",
    "The first are Series.  Let's create a simple pandas Series and examine it:"
   ]
  },
  {
   "cell_type": "code",
   "execution_count": 23,
   "metadata": {
    "slideshow": {
     "slide_type": "subslide"
    }
   },
   "outputs": [],
   "source": [
    "import pandas as pd"
   ]
  },
  {
   "cell_type": "code",
   "execution_count": 24,
   "metadata": {},
   "outputs": [],
   "source": [
    "from pandas import Series"
   ]
  },
  {
   "cell_type": "code",
   "execution_count": 25,
   "metadata": {},
   "outputs": [],
   "source": [
    "sscores = Series(scores,name='scores')"
   ]
  },
  {
   "cell_type": "code",
   "execution_count": 26,
   "metadata": {},
   "outputs": [
    {
     "data": {
      "text/plain": [
       "0    80\n",
       "1    95\n",
       "2    85\n",
       "3    70\n",
       "Name: scores, dtype: int64"
      ]
     },
     "execution_count": 26,
     "metadata": {},
     "output_type": "execute_result"
    }
   ],
   "source": [
    "sscores"
   ]
  },
  {
   "cell_type": "markdown",
   "metadata": {
    "slideshow": {
     "slide_type": "subslide"
    }
   },
   "source": [
    "So you see a couple of useful things: an index (0 to 3) and a data type (dtype), which in this case is an int64.\n",
    "\n",
    "**A Series is a one-dimensional ndarray with axis labels**"
   ]
  },
  {
   "cell_type": "code",
   "execution_count": 34,
   "metadata": {
    "slideshow": {
     "slide_type": "subslide"
    }
   },
   "outputs": [],
   "source": [
    "data = dict(zip(names,scores))"
   ]
  },
  {
   "cell_type": "code",
   "execution_count": 35,
   "metadata": {},
   "outputs": [],
   "source": [
    "import pandas as pd"
   ]
  },
  {
   "cell_type": "code",
   "execution_count": 36,
   "metadata": {},
   "outputs": [
    {
     "data": {
      "text/plain": [
       "{'Charlotte': 80, 'Ingrid': 95, 'Ian': 85, 'Eric': 70}"
      ]
     },
     "execution_count": 36,
     "metadata": {},
     "output_type": "execute_result"
    }
   ],
   "source": [
    "data"
   ]
  },
  {
   "cell_type": "code",
   "execution_count": 39,
   "metadata": {},
   "outputs": [],
   "source": [
    "sData = Series(data=data,name='score')"
   ]
  },
  {
   "cell_type": "code",
   "execution_count": 40,
   "metadata": {},
   "outputs": [
    {
     "data": {
      "text/plain": [
       "Charlotte    80\n",
       "Ingrid       95\n",
       "Ian          85\n",
       "Eric         70\n",
       "Name: score, dtype: int64"
      ]
     },
     "execution_count": 40,
     "metadata": {},
     "output_type": "execute_result"
    }
   ],
   "source": [
    "sData"
   ]
  },
  {
   "cell_type": "markdown",
   "metadata": {
    "slideshow": {
     "slide_type": "subslide"
    }
   },
   "source": [
    "So Series are a bit friendlier than numpy arrays, but they're still only one-dimensional.  Keep in mind that our basic data abstraction is a table, which can\n",
    "be thought of as a two-dimensional array.  Let's go ahead and create a simple DataFrame with just one column:"
   ]
  },
  {
   "cell_type": "code",
   "execution_count": 41,
   "metadata": {},
   "outputs": [],
   "source": [
    "from pandas import DataFrame\n"
   ]
  },
  {
   "cell_type": "code",
   "execution_count": 42,
   "metadata": {},
   "outputs": [
    {
     "data": {
      "text/html": [
       "<div>\n",
       "<style scoped>\n",
       "    .dataframe tbody tr th:only-of-type {\n",
       "        vertical-align: middle;\n",
       "    }\n",
       "\n",
       "    .dataframe tbody tr th {\n",
       "        vertical-align: top;\n",
       "    }\n",
       "\n",
       "    .dataframe thead th {\n",
       "        text-align: right;\n",
       "    }\n",
       "</style>\n",
       "<table border=\"1\" class=\"dataframe\">\n",
       "  <thead>\n",
       "    <tr style=\"text-align: right;\">\n",
       "      <th></th>\n",
       "      <th>score</th>\n",
       "    </tr>\n",
       "  </thead>\n",
       "  <tbody>\n",
       "    <tr>\n",
       "      <th>Charlotte</th>\n",
       "      <td>80</td>\n",
       "    </tr>\n",
       "    <tr>\n",
       "      <th>Ingrid</th>\n",
       "      <td>95</td>\n",
       "    </tr>\n",
       "    <tr>\n",
       "      <th>Ian</th>\n",
       "      <td>85</td>\n",
       "    </tr>\n",
       "    <tr>\n",
       "      <th>Eric</th>\n",
       "      <td>70</td>\n",
       "    </tr>\n",
       "  </tbody>\n",
       "</table>\n",
       "</div>"
      ],
      "text/plain": [
       "           score\n",
       "Charlotte     80\n",
       "Ingrid        95\n",
       "Ian           85\n",
       "Eric          70"
      ]
     },
     "execution_count": 42,
     "metadata": {},
     "output_type": "execute_result"
    }
   ],
   "source": [
    "sData.to_frame()"
   ]
  },
  {
   "cell_type": "markdown",
   "metadata": {
    "slideshow": {
     "slide_type": "slide"
    }
   },
   "source": [
    "## Today's focus: filtering, slicing and dicing"
   ]
  },
  {
   "cell_type": "markdown",
   "metadata": {
    "slideshow": {
     "slide_type": "subslide"
    }
   },
   "source": [
    "We're going to use some data from the [Nutrition Facts for McDonald's Menu](https://www.kaggle.com/mcdonalds/nutrition-facts) dataset on [Kaggle](www.kaggle.com)."
   ]
  },
  {
   "cell_type": "markdown",
   "metadata": {},
   "source": [
    "Go ahead and browse the file using JupyterLab."
   ]
  },
  {
   "cell_type": "markdown",
   "metadata": {},
   "source": [
    "Now let's load the file using ```read_csv```."
   ]
  },
  {
   "cell_type": "code",
   "execution_count": 2,
   "metadata": {},
   "outputs": [],
   "source": [
    "import pandas as pd"
   ]
  },
  {
   "cell_type": "code",
   "execution_count": 3,
   "metadata": {},
   "outputs": [],
   "source": [
    "menu = pd.read_csv('data/menu.csv')"
   ]
  },
  {
   "cell_type": "code",
   "execution_count": 4,
   "metadata": {},
   "outputs": [],
   "source": [
    "#menu"
   ]
  },
  {
   "cell_type": "markdown",
   "metadata": {
    "slideshow": {
     "slide_type": "slide"
    }
   },
   "source": [
    "## <font color=\"magenta\"> Exercise 3 (1 point): How many rows and columns are in this dataset?  Include one cell block to determine the number and one markdown block that presents the answer as a complete sentence (i.e. \"The McDonald's nutrition data set contains X rows and Y columns\"). </font>"
   ]
  },
  {
   "cell_type": "code",
   "execution_count": 53,
   "metadata": {
    "scrolled": false,
    "slideshow": {
     "slide_type": "-"
    }
   },
   "outputs": [
    {
     "data": {
      "text/plain": [
       "260"
      ]
     },
     "execution_count": 53,
     "metadata": {},
     "output_type": "execute_result"
    }
   ],
   "source": [
    "len(menu)\n"
   ]
  },
  {
   "cell_type": "code",
   "execution_count": 55,
   "metadata": {},
   "outputs": [
    {
     "data": {
      "text/plain": [
       "24"
      ]
     },
     "execution_count": 55,
     "metadata": {},
     "output_type": "execute_result"
    }
   ],
   "source": [
    "len(menu.columns)"
   ]
  },
  {
   "cell_type": "code",
   "execution_count": 57,
   "metadata": {},
   "outputs": [
    {
     "data": {
      "text/plain": [
       "(260, 24)"
      ]
     },
     "execution_count": 57,
     "metadata": {},
     "output_type": "execute_result"
    }
   ],
   "source": [
    "menu.shape"
   ]
  },
  {
   "cell_type": "markdown",
   "metadata": {},
   "source": [
    "The McDonald's nutrition data set contains X rows and Y columns"
   ]
  },
  {
   "cell_type": "markdown",
   "metadata": {
    "slideshow": {
     "slide_type": "slide"
    }
   },
   "source": [
    "## Extracting columns "
   ]
  },
  {
   "cell_type": "markdown",
   "metadata": {},
   "source": [
    "Getting column names is easy:"
   ]
  },
  {
   "cell_type": "code",
   "execution_count": 58,
   "metadata": {},
   "outputs": [
    {
     "data": {
      "text/plain": [
       "Index(['Category', 'Item', 'Serving Size', 'Calories', 'Calories from Fat',\n",
       "       'Total Fat', 'Total Fat (% Daily Value)', 'Saturated Fat',\n",
       "       'Saturated Fat (% Daily Value)', 'Trans Fat', 'Cholesterol',\n",
       "       'Cholesterol (% Daily Value)', 'Sodium', 'Sodium (% Daily Value)',\n",
       "       'Carbohydrates', 'Carbohydrates (% Daily Value)', 'Dietary Fiber',\n",
       "       'Dietary Fiber (% Daily Value)', 'Sugars', 'Protein',\n",
       "       'Vitamin A (% Daily Value)', 'Vitamin C (% Daily Value)',\n",
       "       'Calcium (% Daily Value)', 'Iron (% Daily Value)'],\n",
       "      dtype='object')"
      ]
     },
     "execution_count": 58,
     "metadata": {},
     "output_type": "execute_result"
    }
   ],
   "source": [
    "menu.columns"
   ]
  },
  {
   "cell_type": "markdown",
   "metadata": {
    "slideshow": {
     "slide_type": "subslide"
    }
   },
   "source": [
    "Similarly, extracting a specific columns is also easy:"
   ]
  },
  {
   "cell_type": "code",
   "execution_count": 6,
   "metadata": {},
   "outputs": [
    {
     "data": {
      "text/plain": [
       "0               Breakfast\n",
       "1               Breakfast\n",
       "2               Breakfast\n",
       "3               Breakfast\n",
       "4               Breakfast\n",
       "5               Breakfast\n",
       "6               Breakfast\n",
       "7               Breakfast\n",
       "8               Breakfast\n",
       "9               Breakfast\n",
       "10              Breakfast\n",
       "11              Breakfast\n",
       "12              Breakfast\n",
       "13              Breakfast\n",
       "14              Breakfast\n",
       "15              Breakfast\n",
       "16              Breakfast\n",
       "17              Breakfast\n",
       "18              Breakfast\n",
       "19              Breakfast\n",
       "20              Breakfast\n",
       "21              Breakfast\n",
       "22              Breakfast\n",
       "23              Breakfast\n",
       "24              Breakfast\n",
       "25              Breakfast\n",
       "26              Breakfast\n",
       "27              Breakfast\n",
       "28              Breakfast\n",
       "29              Breakfast\n",
       "              ...        \n",
       "230          Coffee & Tea\n",
       "231          Coffee & Tea\n",
       "232    Smoothies & Shakes\n",
       "233    Smoothies & Shakes\n",
       "234    Smoothies & Shakes\n",
       "235    Smoothies & Shakes\n",
       "236    Smoothies & Shakes\n",
       "237    Smoothies & Shakes\n",
       "238    Smoothies & Shakes\n",
       "239    Smoothies & Shakes\n",
       "240    Smoothies & Shakes\n",
       "241    Smoothies & Shakes\n",
       "242    Smoothies & Shakes\n",
       "243    Smoothies & Shakes\n",
       "244    Smoothies & Shakes\n",
       "245    Smoothies & Shakes\n",
       "246    Smoothies & Shakes\n",
       "247    Smoothies & Shakes\n",
       "248    Smoothies & Shakes\n",
       "249    Smoothies & Shakes\n",
       "250    Smoothies & Shakes\n",
       "251    Smoothies & Shakes\n",
       "252    Smoothies & Shakes\n",
       "253    Smoothies & Shakes\n",
       "254    Smoothies & Shakes\n",
       "255    Smoothies & Shakes\n",
       "256    Smoothies & Shakes\n",
       "257    Smoothies & Shakes\n",
       "258    Smoothies & Shakes\n",
       "259    Smoothies & Shakes\n",
       "Name: Category, Length: 260, dtype: object"
      ]
     },
     "execution_count": 6,
     "metadata": {},
     "output_type": "execute_result"
    }
   ],
   "source": [
    "menu['Category']\n",
    "# menu.Category"
   ]
  },
  {
   "cell_type": "markdown",
   "metadata": {
    "slideshow": {
     "slide_type": "subslide"
    }
   },
   "source": [
    "And multiple columns can also be extracted by passing a list of column names"
   ]
  },
  {
   "cell_type": "code",
   "execution_count": 7,
   "metadata": {},
   "outputs": [
    {
     "data": {
      "text/html": [
       "<div>\n",
       "<style scoped>\n",
       "    .dataframe tbody tr th:only-of-type {\n",
       "        vertical-align: middle;\n",
       "    }\n",
       "\n",
       "    .dataframe tbody tr th {\n",
       "        vertical-align: top;\n",
       "    }\n",
       "\n",
       "    .dataframe thead th {\n",
       "        text-align: right;\n",
       "    }\n",
       "</style>\n",
       "<table border=\"1\" class=\"dataframe\">\n",
       "  <thead>\n",
       "    <tr style=\"text-align: right;\">\n",
       "      <th></th>\n",
       "      <th>Item</th>\n",
       "      <th>Calories</th>\n",
       "    </tr>\n",
       "  </thead>\n",
       "  <tbody>\n",
       "    <tr>\n",
       "      <th>0</th>\n",
       "      <td>Egg McMuffin</td>\n",
       "      <td>300</td>\n",
       "    </tr>\n",
       "    <tr>\n",
       "      <th>1</th>\n",
       "      <td>Egg White Delight</td>\n",
       "      <td>250</td>\n",
       "    </tr>\n",
       "    <tr>\n",
       "      <th>2</th>\n",
       "      <td>Sausage McMuffin</td>\n",
       "      <td>370</td>\n",
       "    </tr>\n",
       "    <tr>\n",
       "      <th>3</th>\n",
       "      <td>Sausage McMuffin with Egg</td>\n",
       "      <td>450</td>\n",
       "    </tr>\n",
       "    <tr>\n",
       "      <th>4</th>\n",
       "      <td>Sausage McMuffin with Egg Whites</td>\n",
       "      <td>400</td>\n",
       "    </tr>\n",
       "    <tr>\n",
       "      <th>5</th>\n",
       "      <td>Steak &amp; Egg McMuffin</td>\n",
       "      <td>430</td>\n",
       "    </tr>\n",
       "    <tr>\n",
       "      <th>6</th>\n",
       "      <td>Bacon, Egg &amp; Cheese Biscuit (Regular Biscuit)</td>\n",
       "      <td>460</td>\n",
       "    </tr>\n",
       "    <tr>\n",
       "      <th>7</th>\n",
       "      <td>Bacon, Egg &amp; Cheese Biscuit (Large Biscuit)</td>\n",
       "      <td>520</td>\n",
       "    </tr>\n",
       "    <tr>\n",
       "      <th>8</th>\n",
       "      <td>Bacon, Egg &amp; Cheese Biscuit with Egg Whites (R...</td>\n",
       "      <td>410</td>\n",
       "    </tr>\n",
       "    <tr>\n",
       "      <th>9</th>\n",
       "      <td>Bacon, Egg &amp; Cheese Biscuit with Egg Whites (L...</td>\n",
       "      <td>470</td>\n",
       "    </tr>\n",
       "    <tr>\n",
       "      <th>10</th>\n",
       "      <td>Sausage Biscuit (Regular Biscuit)</td>\n",
       "      <td>430</td>\n",
       "    </tr>\n",
       "    <tr>\n",
       "      <th>11</th>\n",
       "      <td>Sausage Biscuit (Large Biscuit)</td>\n",
       "      <td>480</td>\n",
       "    </tr>\n",
       "    <tr>\n",
       "      <th>12</th>\n",
       "      <td>Sausage Biscuit with Egg (Regular Biscuit)</td>\n",
       "      <td>510</td>\n",
       "    </tr>\n",
       "    <tr>\n",
       "      <th>13</th>\n",
       "      <td>Sausage Biscuit with Egg (Large Biscuit)</td>\n",
       "      <td>570</td>\n",
       "    </tr>\n",
       "    <tr>\n",
       "      <th>14</th>\n",
       "      <td>Sausage Biscuit with Egg Whites (Regular Biscuit)</td>\n",
       "      <td>460</td>\n",
       "    </tr>\n",
       "    <tr>\n",
       "      <th>15</th>\n",
       "      <td>Sausage Biscuit with Egg Whites (Large Biscuit)</td>\n",
       "      <td>520</td>\n",
       "    </tr>\n",
       "    <tr>\n",
       "      <th>16</th>\n",
       "      <td>Southern Style Chicken Biscuit (Regular Biscuit)</td>\n",
       "      <td>410</td>\n",
       "    </tr>\n",
       "    <tr>\n",
       "      <th>17</th>\n",
       "      <td>Southern Style Chicken Biscuit (Large Biscuit)</td>\n",
       "      <td>470</td>\n",
       "    </tr>\n",
       "    <tr>\n",
       "      <th>18</th>\n",
       "      <td>Steak &amp; Egg Biscuit (Regular Biscuit)</td>\n",
       "      <td>540</td>\n",
       "    </tr>\n",
       "    <tr>\n",
       "      <th>19</th>\n",
       "      <td>Bacon, Egg &amp; Cheese McGriddles</td>\n",
       "      <td>460</td>\n",
       "    </tr>\n",
       "    <tr>\n",
       "      <th>20</th>\n",
       "      <td>Bacon, Egg &amp; Cheese McGriddles with Egg Whites</td>\n",
       "      <td>400</td>\n",
       "    </tr>\n",
       "    <tr>\n",
       "      <th>21</th>\n",
       "      <td>Sausage McGriddles</td>\n",
       "      <td>420</td>\n",
       "    </tr>\n",
       "    <tr>\n",
       "      <th>22</th>\n",
       "      <td>Sausage, Egg &amp; Cheese McGriddles</td>\n",
       "      <td>550</td>\n",
       "    </tr>\n",
       "    <tr>\n",
       "      <th>23</th>\n",
       "      <td>Sausage, Egg &amp; Cheese McGriddles with Egg Whites</td>\n",
       "      <td>500</td>\n",
       "    </tr>\n",
       "    <tr>\n",
       "      <th>24</th>\n",
       "      <td>Bacon, Egg &amp; Cheese Bagel</td>\n",
       "      <td>620</td>\n",
       "    </tr>\n",
       "    <tr>\n",
       "      <th>25</th>\n",
       "      <td>Bacon, Egg &amp; Cheese Bagel with Egg Whites</td>\n",
       "      <td>570</td>\n",
       "    </tr>\n",
       "    <tr>\n",
       "      <th>26</th>\n",
       "      <td>Steak, Egg &amp; Cheese Bagel</td>\n",
       "      <td>670</td>\n",
       "    </tr>\n",
       "    <tr>\n",
       "      <th>27</th>\n",
       "      <td>Big Breakfast (Regular Biscuit)</td>\n",
       "      <td>740</td>\n",
       "    </tr>\n",
       "    <tr>\n",
       "      <th>28</th>\n",
       "      <td>Big Breakfast (Large Biscuit)</td>\n",
       "      <td>800</td>\n",
       "    </tr>\n",
       "    <tr>\n",
       "      <th>29</th>\n",
       "      <td>Big Breakfast with Egg Whites (Regular Biscuit)</td>\n",
       "      <td>640</td>\n",
       "    </tr>\n",
       "    <tr>\n",
       "      <th>...</th>\n",
       "      <td>...</td>\n",
       "      <td>...</td>\n",
       "    </tr>\n",
       "    <tr>\n",
       "      <th>230</th>\n",
       "      <td>Frappé Chocolate Chip (Medium)</td>\n",
       "      <td>630</td>\n",
       "    </tr>\n",
       "    <tr>\n",
       "      <th>231</th>\n",
       "      <td>Frappé Chocolate Chip (Large)</td>\n",
       "      <td>760</td>\n",
       "    </tr>\n",
       "    <tr>\n",
       "      <th>232</th>\n",
       "      <td>Blueberry Pomegranate Smoothie (Small)</td>\n",
       "      <td>220</td>\n",
       "    </tr>\n",
       "    <tr>\n",
       "      <th>233</th>\n",
       "      <td>Blueberry Pomegranate Smoothie (Medium)</td>\n",
       "      <td>260</td>\n",
       "    </tr>\n",
       "    <tr>\n",
       "      <th>234</th>\n",
       "      <td>Blueberry Pomegranate Smoothie (Large)</td>\n",
       "      <td>340</td>\n",
       "    </tr>\n",
       "    <tr>\n",
       "      <th>235</th>\n",
       "      <td>Strawberry Banana Smoothie (Small)</td>\n",
       "      <td>210</td>\n",
       "    </tr>\n",
       "    <tr>\n",
       "      <th>236</th>\n",
       "      <td>Strawberry Banana Smoothie (Medium)</td>\n",
       "      <td>250</td>\n",
       "    </tr>\n",
       "    <tr>\n",
       "      <th>237</th>\n",
       "      <td>Strawberry Banana Smoothie (Large)</td>\n",
       "      <td>330</td>\n",
       "    </tr>\n",
       "    <tr>\n",
       "      <th>238</th>\n",
       "      <td>Mango Pineapple Smoothie (Small)</td>\n",
       "      <td>210</td>\n",
       "    </tr>\n",
       "    <tr>\n",
       "      <th>239</th>\n",
       "      <td>Mango Pineapple Smoothie (Medium)</td>\n",
       "      <td>260</td>\n",
       "    </tr>\n",
       "    <tr>\n",
       "      <th>240</th>\n",
       "      <td>Mango Pineapple Smoothie (Large)</td>\n",
       "      <td>340</td>\n",
       "    </tr>\n",
       "    <tr>\n",
       "      <th>241</th>\n",
       "      <td>Vanilla Shake (Small)</td>\n",
       "      <td>530</td>\n",
       "    </tr>\n",
       "    <tr>\n",
       "      <th>242</th>\n",
       "      <td>Vanilla Shake (Medium)</td>\n",
       "      <td>660</td>\n",
       "    </tr>\n",
       "    <tr>\n",
       "      <th>243</th>\n",
       "      <td>Vanilla Shake (Large)</td>\n",
       "      <td>820</td>\n",
       "    </tr>\n",
       "    <tr>\n",
       "      <th>244</th>\n",
       "      <td>Strawberry Shake (Small)</td>\n",
       "      <td>550</td>\n",
       "    </tr>\n",
       "    <tr>\n",
       "      <th>245</th>\n",
       "      <td>Strawberry Shake (Medium)</td>\n",
       "      <td>690</td>\n",
       "    </tr>\n",
       "    <tr>\n",
       "      <th>246</th>\n",
       "      <td>Strawberry Shake (Large)</td>\n",
       "      <td>850</td>\n",
       "    </tr>\n",
       "    <tr>\n",
       "      <th>247</th>\n",
       "      <td>Chocolate Shake (Small)</td>\n",
       "      <td>560</td>\n",
       "    </tr>\n",
       "    <tr>\n",
       "      <th>248</th>\n",
       "      <td>Chocolate Shake (Medium)</td>\n",
       "      <td>700</td>\n",
       "    </tr>\n",
       "    <tr>\n",
       "      <th>249</th>\n",
       "      <td>Chocolate Shake (Large)</td>\n",
       "      <td>850</td>\n",
       "    </tr>\n",
       "    <tr>\n",
       "      <th>250</th>\n",
       "      <td>Shamrock Shake (Medium)</td>\n",
       "      <td>660</td>\n",
       "    </tr>\n",
       "    <tr>\n",
       "      <th>251</th>\n",
       "      <td>Shamrock Shake (Large)</td>\n",
       "      <td>820</td>\n",
       "    </tr>\n",
       "    <tr>\n",
       "      <th>252</th>\n",
       "      <td>McFlurry with M&amp;M’s Candies (Small)</td>\n",
       "      <td>650</td>\n",
       "    </tr>\n",
       "    <tr>\n",
       "      <th>253</th>\n",
       "      <td>McFlurry with M&amp;M’s Candies (Medium)</td>\n",
       "      <td>930</td>\n",
       "    </tr>\n",
       "    <tr>\n",
       "      <th>254</th>\n",
       "      <td>McFlurry with M&amp;M’s Candies (Snack)</td>\n",
       "      <td>430</td>\n",
       "    </tr>\n",
       "    <tr>\n",
       "      <th>255</th>\n",
       "      <td>McFlurry with Oreo Cookies (Small)</td>\n",
       "      <td>510</td>\n",
       "    </tr>\n",
       "    <tr>\n",
       "      <th>256</th>\n",
       "      <td>McFlurry with Oreo Cookies (Medium)</td>\n",
       "      <td>690</td>\n",
       "    </tr>\n",
       "    <tr>\n",
       "      <th>257</th>\n",
       "      <td>McFlurry with Oreo Cookies (Snack)</td>\n",
       "      <td>340</td>\n",
       "    </tr>\n",
       "    <tr>\n",
       "      <th>258</th>\n",
       "      <td>McFlurry with Reese's Peanut Butter Cups (Medium)</td>\n",
       "      <td>810</td>\n",
       "    </tr>\n",
       "    <tr>\n",
       "      <th>259</th>\n",
       "      <td>McFlurry with Reese's Peanut Butter Cups (Snack)</td>\n",
       "      <td>410</td>\n",
       "    </tr>\n",
       "  </tbody>\n",
       "</table>\n",
       "<p>260 rows × 2 columns</p>\n",
       "</div>"
      ],
      "text/plain": [
       "                                                  Item  Calories\n",
       "0                                         Egg McMuffin       300\n",
       "1                                    Egg White Delight       250\n",
       "2                                     Sausage McMuffin       370\n",
       "3                            Sausage McMuffin with Egg       450\n",
       "4                     Sausage McMuffin with Egg Whites       400\n",
       "5                                 Steak & Egg McMuffin       430\n",
       "6        Bacon, Egg & Cheese Biscuit (Regular Biscuit)       460\n",
       "7          Bacon, Egg & Cheese Biscuit (Large Biscuit)       520\n",
       "8    Bacon, Egg & Cheese Biscuit with Egg Whites (R...       410\n",
       "9    Bacon, Egg & Cheese Biscuit with Egg Whites (L...       470\n",
       "10                   Sausage Biscuit (Regular Biscuit)       430\n",
       "11                     Sausage Biscuit (Large Biscuit)       480\n",
       "12          Sausage Biscuit with Egg (Regular Biscuit)       510\n",
       "13            Sausage Biscuit with Egg (Large Biscuit)       570\n",
       "14   Sausage Biscuit with Egg Whites (Regular Biscuit)       460\n",
       "15     Sausage Biscuit with Egg Whites (Large Biscuit)       520\n",
       "16    Southern Style Chicken Biscuit (Regular Biscuit)       410\n",
       "17      Southern Style Chicken Biscuit (Large Biscuit)       470\n",
       "18               Steak & Egg Biscuit (Regular Biscuit)       540\n",
       "19                      Bacon, Egg & Cheese McGriddles       460\n",
       "20      Bacon, Egg & Cheese McGriddles with Egg Whites       400\n",
       "21                                  Sausage McGriddles       420\n",
       "22                    Sausage, Egg & Cheese McGriddles       550\n",
       "23    Sausage, Egg & Cheese McGriddles with Egg Whites       500\n",
       "24                           Bacon, Egg & Cheese Bagel       620\n",
       "25           Bacon, Egg & Cheese Bagel with Egg Whites       570\n",
       "26                           Steak, Egg & Cheese Bagel       670\n",
       "27                     Big Breakfast (Regular Biscuit)       740\n",
       "28                       Big Breakfast (Large Biscuit)       800\n",
       "29     Big Breakfast with Egg Whites (Regular Biscuit)       640\n",
       "..                                                 ...       ...\n",
       "230                     Frappé Chocolate Chip (Medium)       630\n",
       "231                      Frappé Chocolate Chip (Large)       760\n",
       "232             Blueberry Pomegranate Smoothie (Small)       220\n",
       "233            Blueberry Pomegranate Smoothie (Medium)       260\n",
       "234             Blueberry Pomegranate Smoothie (Large)       340\n",
       "235                 Strawberry Banana Smoothie (Small)       210\n",
       "236                Strawberry Banana Smoothie (Medium)       250\n",
       "237                 Strawberry Banana Smoothie (Large)       330\n",
       "238                   Mango Pineapple Smoothie (Small)       210\n",
       "239                  Mango Pineapple Smoothie (Medium)       260\n",
       "240                   Mango Pineapple Smoothie (Large)       340\n",
       "241                              Vanilla Shake (Small)       530\n",
       "242                             Vanilla Shake (Medium)       660\n",
       "243                              Vanilla Shake (Large)       820\n",
       "244                           Strawberry Shake (Small)       550\n",
       "245                          Strawberry Shake (Medium)       690\n",
       "246                           Strawberry Shake (Large)       850\n",
       "247                            Chocolate Shake (Small)       560\n",
       "248                           Chocolate Shake (Medium)       700\n",
       "249                            Chocolate Shake (Large)       850\n",
       "250                            Shamrock Shake (Medium)       660\n",
       "251                             Shamrock Shake (Large)       820\n",
       "252                McFlurry with M&M’s Candies (Small)       650\n",
       "253               McFlurry with M&M’s Candies (Medium)       930\n",
       "254                McFlurry with M&M’s Candies (Snack)       430\n",
       "255                 McFlurry with Oreo Cookies (Small)       510\n",
       "256                McFlurry with Oreo Cookies (Medium)       690\n",
       "257                 McFlurry with Oreo Cookies (Snack)       340\n",
       "258  McFlurry with Reese's Peanut Butter Cups (Medium)       810\n",
       "259   McFlurry with Reese's Peanut Butter Cups (Snack)       410\n",
       "\n",
       "[260 rows x 2 columns]"
      ]
     },
     "execution_count": 7,
     "metadata": {},
     "output_type": "execute_result"
    }
   ],
   "source": [
    "menu[['Item','Calories']]"
   ]
  },
  {
   "cell_type": "markdown",
   "metadata": {
    "slideshow": {
     "slide_type": "slide"
    }
   },
   "source": [
    "## Extracting rows"
   ]
  },
  {
   "cell_type": "code",
   "execution_count": 63,
   "metadata": {
    "scrolled": true,
    "slideshow": {
     "slide_type": "subslide"
    }
   },
   "outputs": [
    {
     "data": {
      "text/plain": [
       "Category                              Breakfast\n",
       "Item                               Egg McMuffin\n",
       "Serving Size                     4.8 oz (136 g)\n",
       "Calories                                    300\n",
       "Calories from Fat                           120\n",
       "Total Fat                                    13\n",
       "Total Fat (% Daily Value)                    20\n",
       "Saturated Fat                                 5\n",
       "Saturated Fat (% Daily Value)                25\n",
       "Trans Fat                                     0\n",
       "Cholesterol                                 260\n",
       "Cholesterol (% Daily Value)                  87\n",
       "Sodium                                      750\n",
       "Sodium (% Daily Value)                       31\n",
       "Carbohydrates                                31\n",
       "Carbohydrates (% Daily Value)                10\n",
       "Dietary Fiber                                 4\n",
       "Dietary Fiber (% Daily Value)                17\n",
       "Sugars                                        3\n",
       "Protein                                      17\n",
       "Vitamin A (% Daily Value)                    10\n",
       "Vitamin C (% Daily Value)                     0\n",
       "Calcium (% Daily Value)                      25\n",
       "Iron (% Daily Value)                         15\n",
       "Name: 0, dtype: object"
      ]
     },
     "execution_count": 63,
     "metadata": {},
     "output_type": "execute_result"
    }
   ],
   "source": [
    "#menu.iloc[0]"
   ]
  },
  {
   "cell_type": "code",
   "execution_count": null,
   "metadata": {},
   "outputs": [],
   "source": [
    "menu"
   ]
  },
  {
   "cell_type": "markdown",
   "metadata": {
    "slideshow": {
     "slide_type": "subslide"
    }
   },
   "source": [
    "You'll notice that the index column is just a series of integers starting with 0.  Sometimes that's fine.  \n",
    "Other times we want to assign a more useful row as the index.  Note that the values in the index do not need to be unique."
   ]
  },
  {
   "cell_type": "code",
   "execution_count": null,
   "metadata": {
    "slideshow": {
     "slide_type": "subslide"
    }
   },
   "outputs": [],
   "source": [
    "menu_i = menu.set_index('Item')"
   ]
  },
  {
   "cell_type": "code",
   "execution_count": null,
   "metadata": {},
   "outputs": [],
   "source": [
    "menu_i"
   ]
  },
  {
   "cell_type": "code",
   "execution_count": null,
   "metadata": {
    "slideshow": {
     "slide_type": "subslide"
    }
   },
   "outputs": [],
   "source": [
    "menu_i.loc[0]"
   ]
  },
  {
   "cell_type": "code",
   "execution_count": null,
   "metadata": {
    "slideshow": {
     "slide_type": "subslide"
    }
   },
   "outputs": [],
   "source": [
    "menu_i.iloc[0]"
   ]
  },
  {
   "cell_type": "markdown",
   "metadata": {
    "slideshow": {
     "slide_type": "subslide"
    }
   },
   "source": [
    "We can also extract a row and a slice of its columns"
   ]
  },
  {
   "cell_type": "code",
   "execution_count": null,
   "metadata": {},
   "outputs": [],
   "source": [
    "menu_i.iloc[0,0:2]"
   ]
  },
  {
   "cell_type": "markdown",
   "metadata": {
    "slideshow": {
     "slide_type": "subslide"
    }
   },
   "source": [
    "Or we can extract a column and a slice of its rows\n"
   ]
  },
  {
   "cell_type": "code",
   "execution_count": null,
   "metadata": {},
   "outputs": [],
   "source": [
    "menu_i.iloc[1:3,:]"
   ]
  },
  {
   "cell_type": "markdown",
   "metadata": {
    "slideshow": {
     "slide_type": "slide"
    }
   },
   "source": [
    "## Sorting\n",
    "Sorting is supported using sort_index and sort_values:\n"
   ]
  },
  {
   "cell_type": "code",
   "execution_count": 65,
   "metadata": {},
   "outputs": [],
   "source": [
    "menu_sorted_by_cals = menu.sort_values('Calories',ascending=True)"
   ]
  },
  {
   "cell_type": "code",
   "execution_count": 67,
   "metadata": {},
   "outputs": [],
   "source": [
    "#menu_sorted_by_cals"
   ]
  },
  {
   "cell_type": "markdown",
   "metadata": {
    "slideshow": {
     "slide_type": "slide"
    }
   },
   "source": [
    "## <font color=\"magenta\"> Exercise 4 (2 points): Display the four menu items that have the most Saturated Fat (the absolute amount, not the % Daily Value).</font>"
   ]
  },
  {
   "cell_type": "code",
   "execution_count": 68,
   "metadata": {},
   "outputs": [
    {
     "data": {
      "text/plain": [
       "Index(['Category', 'Item', 'Serving Size', 'Calories', 'Calories from Fat',\n",
       "       'Total Fat', 'Total Fat (% Daily Value)', 'Saturated Fat',\n",
       "       'Saturated Fat (% Daily Value)', 'Trans Fat', 'Cholesterol',\n",
       "       'Cholesterol (% Daily Value)', 'Sodium', 'Sodium (% Daily Value)',\n",
       "       'Carbohydrates', 'Carbohydrates (% Daily Value)', 'Dietary Fiber',\n",
       "       'Dietary Fiber (% Daily Value)', 'Sugars', 'Protein',\n",
       "       'Vitamin A (% Daily Value)', 'Vitamin C (% Daily Value)',\n",
       "       'Calcium (% Daily Value)', 'Iron (% Daily Value)'],\n",
       "      dtype='object')"
      ]
     },
     "execution_count": 68,
     "metadata": {},
     "output_type": "execute_result"
    }
   ],
   "source": [
    "#menu.columns"
   ]
  },
  {
   "cell_type": "code",
   "execution_count": 79,
   "metadata": {},
   "outputs": [],
   "source": [
    "satFat = menu.sort_values('Saturated Fat', ascending=False)"
   ]
  },
  {
   "cell_type": "code",
   "execution_count": 80,
   "metadata": {},
   "outputs": [
    {
     "data": {
      "text/html": [
       "<div>\n",
       "<style scoped>\n",
       "    .dataframe tbody tr th:only-of-type {\n",
       "        vertical-align: middle;\n",
       "    }\n",
       "\n",
       "    .dataframe tbody tr th {\n",
       "        vertical-align: top;\n",
       "    }\n",
       "\n",
       "    .dataframe thead th {\n",
       "        text-align: right;\n",
       "    }\n",
       "</style>\n",
       "<table border=\"1\" class=\"dataframe\">\n",
       "  <thead>\n",
       "    <tr style=\"text-align: right;\">\n",
       "      <th></th>\n",
       "      <th>Category</th>\n",
       "      <th>Item</th>\n",
       "      <th>Serving Size</th>\n",
       "      <th>Calories</th>\n",
       "      <th>Calories from Fat</th>\n",
       "      <th>Total Fat</th>\n",
       "      <th>Total Fat (% Daily Value)</th>\n",
       "      <th>Saturated Fat</th>\n",
       "      <th>Saturated Fat (% Daily Value)</th>\n",
       "      <th>Trans Fat</th>\n",
       "      <th>...</th>\n",
       "      <th>Carbohydrates</th>\n",
       "      <th>Carbohydrates (% Daily Value)</th>\n",
       "      <th>Dietary Fiber</th>\n",
       "      <th>Dietary Fiber (% Daily Value)</th>\n",
       "      <th>Sugars</th>\n",
       "      <th>Protein</th>\n",
       "      <th>Vitamin A (% Daily Value)</th>\n",
       "      <th>Vitamin C (% Daily Value)</th>\n",
       "      <th>Calcium (% Daily Value)</th>\n",
       "      <th>Iron (% Daily Value)</th>\n",
       "    </tr>\n",
       "  </thead>\n",
       "  <tbody>\n",
       "    <tr>\n",
       "      <th>231</th>\n",
       "      <td>Coffee &amp; Tea</td>\n",
       "      <td>Frappé Chocolate Chip (Large)</td>\n",
       "      <td>22 fl oz cup</td>\n",
       "      <td>760</td>\n",
       "      <td>280</td>\n",
       "      <td>31.0</td>\n",
       "      <td>48</td>\n",
       "      <td>20.0</td>\n",
       "      <td>101</td>\n",
       "      <td>1.5</td>\n",
       "      <td>...</td>\n",
       "      <td>111</td>\n",
       "      <td>37</td>\n",
       "      <td>1</td>\n",
       "      <td>5</td>\n",
       "      <td>99</td>\n",
       "      <td>12</td>\n",
       "      <td>20</td>\n",
       "      <td>0</td>\n",
       "      <td>35</td>\n",
       "      <td>6</td>\n",
       "    </tr>\n",
       "    <tr>\n",
       "      <th>82</th>\n",
       "      <td>Chicken &amp; Fish</td>\n",
       "      <td>Chicken McNuggets (40 piece)</td>\n",
       "      <td>22.8 oz (646 g)</td>\n",
       "      <td>1880</td>\n",
       "      <td>1060</td>\n",
       "      <td>118.0</td>\n",
       "      <td>182</td>\n",
       "      <td>20.0</td>\n",
       "      <td>101</td>\n",
       "      <td>1.0</td>\n",
       "      <td>...</td>\n",
       "      <td>118</td>\n",
       "      <td>39</td>\n",
       "      <td>6</td>\n",
       "      <td>24</td>\n",
       "      <td>1</td>\n",
       "      <td>87</td>\n",
       "      <td>0</td>\n",
       "      <td>15</td>\n",
       "      <td>8</td>\n",
       "      <td>25</td>\n",
       "    </tr>\n",
       "    <tr>\n",
       "      <th>32</th>\n",
       "      <td>Breakfast</td>\n",
       "      <td>Big Breakfast with Hotcakes (Large Biscuit)</td>\n",
       "      <td>15.3 oz (434 g)</td>\n",
       "      <td>1150</td>\n",
       "      <td>540</td>\n",
       "      <td>60.0</td>\n",
       "      <td>93</td>\n",
       "      <td>20.0</td>\n",
       "      <td>100</td>\n",
       "      <td>0.0</td>\n",
       "      <td>...</td>\n",
       "      <td>116</td>\n",
       "      <td>39</td>\n",
       "      <td>7</td>\n",
       "      <td>28</td>\n",
       "      <td>17</td>\n",
       "      <td>36</td>\n",
       "      <td>15</td>\n",
       "      <td>2</td>\n",
       "      <td>30</td>\n",
       "      <td>40</td>\n",
       "    </tr>\n",
       "    <tr>\n",
       "      <th>253</th>\n",
       "      <td>Smoothies &amp; Shakes</td>\n",
       "      <td>McFlurry with M&amp;M’s Candies (Medium)</td>\n",
       "      <td>16.2 oz (460 g)</td>\n",
       "      <td>930</td>\n",
       "      <td>290</td>\n",
       "      <td>33.0</td>\n",
       "      <td>50</td>\n",
       "      <td>20.0</td>\n",
       "      <td>102</td>\n",
       "      <td>1.0</td>\n",
       "      <td>...</td>\n",
       "      <td>139</td>\n",
       "      <td>46</td>\n",
       "      <td>2</td>\n",
       "      <td>7</td>\n",
       "      <td>128</td>\n",
       "      <td>20</td>\n",
       "      <td>25</td>\n",
       "      <td>0</td>\n",
       "      <td>70</td>\n",
       "      <td>10</td>\n",
       "    </tr>\n",
       "  </tbody>\n",
       "</table>\n",
       "<p>4 rows × 24 columns</p>\n",
       "</div>"
      ],
      "text/plain": [
       "               Category                                         Item  \\\n",
       "231        Coffee & Tea                Frappé Chocolate Chip (Large)   \n",
       "82       Chicken & Fish                 Chicken McNuggets (40 piece)   \n",
       "32            Breakfast  Big Breakfast with Hotcakes (Large Biscuit)   \n",
       "253  Smoothies & Shakes         McFlurry with M&M’s Candies (Medium)   \n",
       "\n",
       "        Serving Size  Calories  Calories from Fat  Total Fat  \\\n",
       "231     22 fl oz cup       760                280       31.0   \n",
       "82   22.8 oz (646 g)      1880               1060      118.0   \n",
       "32   15.3 oz (434 g)      1150                540       60.0   \n",
       "253  16.2 oz (460 g)       930                290       33.0   \n",
       "\n",
       "     Total Fat (% Daily Value)  Saturated Fat  Saturated Fat (% Daily Value)  \\\n",
       "231                         48           20.0                            101   \n",
       "82                         182           20.0                            101   \n",
       "32                          93           20.0                            100   \n",
       "253                         50           20.0                            102   \n",
       "\n",
       "     Trans Fat          ...           Carbohydrates  \\\n",
       "231        1.5          ...                     111   \n",
       "82         1.0          ...                     118   \n",
       "32         0.0          ...                     116   \n",
       "253        1.0          ...                     139   \n",
       "\n",
       "     Carbohydrates (% Daily Value)  Dietary Fiber  \\\n",
       "231                             37              1   \n",
       "82                              39              6   \n",
       "32                              39              7   \n",
       "253                             46              2   \n",
       "\n",
       "     Dietary Fiber (% Daily Value)  Sugars  Protein  \\\n",
       "231                              5      99       12   \n",
       "82                              24       1       87   \n",
       "32                              28      17       36   \n",
       "253                              7     128       20   \n",
       "\n",
       "     Vitamin A (% Daily Value)  Vitamin C (% Daily Value)  \\\n",
       "231                         20                          0   \n",
       "82                           0                         15   \n",
       "32                          15                          2   \n",
       "253                         25                          0   \n",
       "\n",
       "     Calcium (% Daily Value)  Iron (% Daily Value)  \n",
       "231                       35                     6  \n",
       "82                         8                    25  \n",
       "32                        30                    40  \n",
       "253                       70                    10  \n",
       "\n",
       "[4 rows x 24 columns]"
      ]
     },
     "execution_count": 80,
     "metadata": {},
     "output_type": "execute_result"
    }
   ],
   "source": [
    "satFat.iloc[:4]"
   ]
  },
  {
   "cell_type": "markdown",
   "metadata": {
    "slideshow": {
     "slide_type": "slide"
    }
   },
   "source": [
    "## Filtering\n",
    "\n",
    "More often than extracting a particular row, we want to extract one or more rows that match\n",
    "some criteria.  For example, to find all the menu items that contain Trans Fats, we could use:\n"
   ]
  },
  {
   "cell_type": "code",
   "execution_count": 91,
   "metadata": {},
   "outputs": [],
   "source": [
    "#menu['Trans Fat' ] > 0"
   ]
  },
  {
   "cell_type": "code",
   "execution_count": 85,
   "metadata": {},
   "outputs": [],
   "source": [
    "menu_trans_fats = menu[menu['Trans Fat'] > 0.0]"
   ]
  },
  {
   "cell_type": "markdown",
   "metadata": {},
   "source": [
    "We're going to spend time in class explaining what just happened there."
   ]
  },
  {
   "cell_type": "code",
   "execution_count": 86,
   "metadata": {},
   "outputs": [
    {
     "data": {
      "text/plain": [
       "0      0.0\n",
       "1      0.0\n",
       "2      0.0\n",
       "3      0.0\n",
       "4      0.0\n",
       "5      1.0\n",
       "6      0.0\n",
       "7      0.0\n",
       "8      0.0\n",
       "9      0.0\n",
       "10     0.0\n",
       "11     0.0\n",
       "12     0.0\n",
       "13     0.0\n",
       "14     0.0\n",
       "15     0.0\n",
       "16     0.0\n",
       "17     0.0\n",
       "18     1.0\n",
       "19     0.0\n",
       "20     0.0\n",
       "21     0.0\n",
       "22     0.0\n",
       "23     0.0\n",
       "24     0.5\n",
       "25     0.5\n",
       "26     1.5\n",
       "27     0.0\n",
       "28     0.0\n",
       "29     0.0\n",
       "      ... \n",
       "230    1.0\n",
       "231    1.5\n",
       "232    0.0\n",
       "233    0.0\n",
       "234    0.0\n",
       "235    0.0\n",
       "236    0.0\n",
       "237    0.0\n",
       "238    0.0\n",
       "239    0.0\n",
       "240    0.0\n",
       "241    1.0\n",
       "242    1.0\n",
       "243    1.0\n",
       "244    1.0\n",
       "245    1.0\n",
       "246    1.0\n",
       "247    1.0\n",
       "248    1.0\n",
       "249    1.0\n",
       "250    1.0\n",
       "251    1.0\n",
       "252    0.5\n",
       "253    1.0\n",
       "254    0.0\n",
       "255    0.5\n",
       "256    1.0\n",
       "257    0.0\n",
       "258    1.0\n",
       "259    0.0\n",
       "Name: Trans Fat, Length: 260, dtype: float64"
      ]
     },
     "execution_count": 86,
     "metadata": {},
     "output_type": "execute_result"
    }
   ],
   "source": [
    "menu['Trans Fat']"
   ]
  },
  {
   "cell_type": "code",
   "execution_count": 87,
   "metadata": {},
   "outputs": [
    {
     "data": {
      "text/plain": [
       "0      False\n",
       "1      False\n",
       "2      False\n",
       "3      False\n",
       "4      False\n",
       "5       True\n",
       "6      False\n",
       "7      False\n",
       "8      False\n",
       "9      False\n",
       "10     False\n",
       "11     False\n",
       "12     False\n",
       "13     False\n",
       "14     False\n",
       "15     False\n",
       "16     False\n",
       "17     False\n",
       "18      True\n",
       "19     False\n",
       "20     False\n",
       "21     False\n",
       "22     False\n",
       "23     False\n",
       "24      True\n",
       "25      True\n",
       "26      True\n",
       "27     False\n",
       "28     False\n",
       "29     False\n",
       "       ...  \n",
       "230     True\n",
       "231     True\n",
       "232    False\n",
       "233    False\n",
       "234    False\n",
       "235    False\n",
       "236    False\n",
       "237    False\n",
       "238    False\n",
       "239    False\n",
       "240    False\n",
       "241     True\n",
       "242     True\n",
       "243     True\n",
       "244     True\n",
       "245     True\n",
       "246     True\n",
       "247     True\n",
       "248     True\n",
       "249     True\n",
       "250     True\n",
       "251     True\n",
       "252     True\n",
       "253     True\n",
       "254    False\n",
       "255     True\n",
       "256     True\n",
       "257    False\n",
       "258     True\n",
       "259    False\n",
       "Name: Trans Fat, Length: 260, dtype: bool"
      ]
     },
     "execution_count": 87,
     "metadata": {},
     "output_type": "execute_result"
    }
   ],
   "source": [
    "menu['Trans Fat'] > 0.0"
   ]
  },
  {
   "cell_type": "code",
   "execution_count": 89,
   "metadata": {},
   "outputs": [],
   "source": [
    "#menu[menu['Trans Fat'] > 0.0]"
   ]
  },
  {
   "cell_type": "code",
   "execution_count": 90,
   "metadata": {},
   "outputs": [
    {
     "data": {
      "text/plain": [
       "Index(['Category', 'Item', 'Serving Size', 'Calories', 'Calories from Fat',\n",
       "       'Total Fat', 'Total Fat (% Daily Value)', 'Saturated Fat',\n",
       "       'Saturated Fat (% Daily Value)', 'Trans Fat', 'Cholesterol',\n",
       "       'Cholesterol (% Daily Value)', 'Sodium', 'Sodium (% Daily Value)',\n",
       "       'Carbohydrates', 'Carbohydrates (% Daily Value)', 'Dietary Fiber',\n",
       "       'Dietary Fiber (% Daily Value)', 'Sugars', 'Protein',\n",
       "       'Vitamin A (% Daily Value)', 'Vitamin C (% Daily Value)',\n",
       "       'Calcium (% Daily Value)', 'Iron (% Daily Value)'],\n",
       "      dtype='object')"
      ]
     },
     "execution_count": 90,
     "metadata": {},
     "output_type": "execute_result"
    }
   ],
   "source": [
    "menu.columns"
   ]
  },
  {
   "cell_type": "markdown",
   "metadata": {
    "slideshow": {
     "slide_type": "slide"
    }
   },
   "source": [
    "## <font color=\"magenta\">Exercise 5 (2 points): List the top 3 breakfast items have the most Dietary Fiber.</font>"
   ]
  },
  {
   "cell_type": "code",
   "execution_count": 94,
   "metadata": {},
   "outputs": [
    {
     "data": {
      "text/html": [
       "<div>\n",
       "<style scoped>\n",
       "    .dataframe tbody tr th:only-of-type {\n",
       "        vertical-align: middle;\n",
       "    }\n",
       "\n",
       "    .dataframe tbody tr th {\n",
       "        vertical-align: top;\n",
       "    }\n",
       "\n",
       "    .dataframe thead th {\n",
       "        text-align: right;\n",
       "    }\n",
       "</style>\n",
       "<table border=\"1\" class=\"dataframe\">\n",
       "  <thead>\n",
       "    <tr style=\"text-align: right;\">\n",
       "      <th></th>\n",
       "      <th>Category</th>\n",
       "      <th>Item</th>\n",
       "      <th>Serving Size</th>\n",
       "      <th>Calories</th>\n",
       "      <th>Calories from Fat</th>\n",
       "      <th>Total Fat</th>\n",
       "      <th>Total Fat (% Daily Value)</th>\n",
       "      <th>Saturated Fat</th>\n",
       "      <th>Saturated Fat (% Daily Value)</th>\n",
       "      <th>Trans Fat</th>\n",
       "      <th>...</th>\n",
       "      <th>Carbohydrates</th>\n",
       "      <th>Carbohydrates (% Daily Value)</th>\n",
       "      <th>Dietary Fiber</th>\n",
       "      <th>Dietary Fiber (% Daily Value)</th>\n",
       "      <th>Sugars</th>\n",
       "      <th>Protein</th>\n",
       "      <th>Vitamin A (% Daily Value)</th>\n",
       "      <th>Vitamin C (% Daily Value)</th>\n",
       "      <th>Calcium (% Daily Value)</th>\n",
       "      <th>Iron (% Daily Value)</th>\n",
       "    </tr>\n",
       "  </thead>\n",
       "  <tbody>\n",
       "    <tr>\n",
       "      <th>34</th>\n",
       "      <td>Breakfast</td>\n",
       "      <td>Big Breakfast with Hotcakes and Egg Whites (La...</td>\n",
       "      <td>15.4 oz (437 g)</td>\n",
       "      <td>1050</td>\n",
       "      <td>450</td>\n",
       "      <td>50.0</td>\n",
       "      <td>77</td>\n",
       "      <td>16.0</td>\n",
       "      <td>81</td>\n",
       "      <td>0.0</td>\n",
       "      <td>...</td>\n",
       "      <td>115</td>\n",
       "      <td>38</td>\n",
       "      <td>7</td>\n",
       "      <td>28</td>\n",
       "      <td>18</td>\n",
       "      <td>35</td>\n",
       "      <td>4</td>\n",
       "      <td>2</td>\n",
       "      <td>25</td>\n",
       "      <td>30</td>\n",
       "    </tr>\n",
       "    <tr>\n",
       "      <th>32</th>\n",
       "      <td>Breakfast</td>\n",
       "      <td>Big Breakfast with Hotcakes (Large Biscuit)</td>\n",
       "      <td>15.3 oz (434 g)</td>\n",
       "      <td>1150</td>\n",
       "      <td>540</td>\n",
       "      <td>60.0</td>\n",
       "      <td>93</td>\n",
       "      <td>20.0</td>\n",
       "      <td>100</td>\n",
       "      <td>0.0</td>\n",
       "      <td>...</td>\n",
       "      <td>116</td>\n",
       "      <td>39</td>\n",
       "      <td>7</td>\n",
       "      <td>28</td>\n",
       "      <td>17</td>\n",
       "      <td>36</td>\n",
       "      <td>15</td>\n",
       "      <td>2</td>\n",
       "      <td>30</td>\n",
       "      <td>40</td>\n",
       "    </tr>\n",
       "    <tr>\n",
       "      <th>33</th>\n",
       "      <td>Breakfast</td>\n",
       "      <td>Big Breakfast with Hotcakes and Egg Whites (Re...</td>\n",
       "      <td>14.9 oz (423 g)</td>\n",
       "      <td>990</td>\n",
       "      <td>410</td>\n",
       "      <td>46.0</td>\n",
       "      <td>70</td>\n",
       "      <td>16.0</td>\n",
       "      <td>78</td>\n",
       "      <td>0.0</td>\n",
       "      <td>...</td>\n",
       "      <td>110</td>\n",
       "      <td>37</td>\n",
       "      <td>6</td>\n",
       "      <td>23</td>\n",
       "      <td>17</td>\n",
       "      <td>35</td>\n",
       "      <td>0</td>\n",
       "      <td>2</td>\n",
       "      <td>25</td>\n",
       "      <td>30</td>\n",
       "    </tr>\n",
       "  </tbody>\n",
       "</table>\n",
       "<p>3 rows × 24 columns</p>\n",
       "</div>"
      ],
      "text/plain": [
       "     Category                                               Item  \\\n",
       "34  Breakfast  Big Breakfast with Hotcakes and Egg Whites (La...   \n",
       "32  Breakfast        Big Breakfast with Hotcakes (Large Biscuit)   \n",
       "33  Breakfast  Big Breakfast with Hotcakes and Egg Whites (Re...   \n",
       "\n",
       "       Serving Size  Calories  Calories from Fat  Total Fat  \\\n",
       "34  15.4 oz (437 g)      1050                450       50.0   \n",
       "32  15.3 oz (434 g)      1150                540       60.0   \n",
       "33  14.9 oz (423 g)       990                410       46.0   \n",
       "\n",
       "    Total Fat (% Daily Value)  Saturated Fat  Saturated Fat (% Daily Value)  \\\n",
       "34                         77           16.0                             81   \n",
       "32                         93           20.0                            100   \n",
       "33                         70           16.0                             78   \n",
       "\n",
       "    Trans Fat          ...           Carbohydrates  \\\n",
       "34        0.0          ...                     115   \n",
       "32        0.0          ...                     116   \n",
       "33        0.0          ...                     110   \n",
       "\n",
       "    Carbohydrates (% Daily Value)  Dietary Fiber  \\\n",
       "34                             38              7   \n",
       "32                             39              7   \n",
       "33                             37              6   \n",
       "\n",
       "    Dietary Fiber (% Daily Value)  Sugars  Protein  Vitamin A (% Daily Value)  \\\n",
       "34                             28      18       35                          4   \n",
       "32                             28      17       36                         15   \n",
       "33                             23      17       35                          0   \n",
       "\n",
       "    Vitamin C (% Daily Value)  Calcium (% Daily Value)  Iron (% Daily Value)  \n",
       "34                          2                       25                    30  \n",
       "32                          2                       30                    40  \n",
       "33                          2                       25                    30  \n",
       "\n",
       "[3 rows x 24 columns]"
      ]
     },
     "execution_count": 94,
     "metadata": {},
     "output_type": "execute_result"
    }
   ],
   "source": [
    "bfast = menu[menu['Category'] == 'Breakfast']\n",
    "temp = bfast.sort_values('Dietary Fiber', ascending=False)\n",
    "temp.iloc[:3]"
   ]
  },
  {
   "cell_type": "markdown",
   "metadata": {
    "slideshow": {
     "slide_type": "slide"
    }
   },
   "source": [
    "## <font color=\"magenta\">Exercise 6 (3 points): Show up to three of the best choices for someone who is following the \"Atkin's Diet\" (Google it).  Justify your choices in a markdown block that follows your code.</font>"
   ]
  },
  {
   "cell_type": "code",
   "execution_count": 6,
   "metadata": {},
   "outputs": [
    {
     "data": {
      "text/html": [
       "<div>\n",
       "<style scoped>\n",
       "    .dataframe tbody tr th:only-of-type {\n",
       "        vertical-align: middle;\n",
       "    }\n",
       "\n",
       "    .dataframe tbody tr th {\n",
       "        vertical-align: top;\n",
       "    }\n",
       "\n",
       "    .dataframe thead th {\n",
       "        text-align: right;\n",
       "    }\n",
       "</style>\n",
       "<table border=\"1\" class=\"dataframe\">\n",
       "  <thead>\n",
       "    <tr style=\"text-align: right;\">\n",
       "      <th></th>\n",
       "      <th>Category</th>\n",
       "      <th>Item</th>\n",
       "      <th>Serving Size</th>\n",
       "      <th>Calories</th>\n",
       "      <th>Calories from Fat</th>\n",
       "      <th>Total Fat</th>\n",
       "      <th>Total Fat (% Daily Value)</th>\n",
       "      <th>Saturated Fat</th>\n",
       "      <th>Saturated Fat (% Daily Value)</th>\n",
       "      <th>Trans Fat</th>\n",
       "      <th>...</th>\n",
       "      <th>Carbohydrates</th>\n",
       "      <th>Carbohydrates (% Daily Value)</th>\n",
       "      <th>Dietary Fiber</th>\n",
       "      <th>Dietary Fiber (% Daily Value)</th>\n",
       "      <th>Sugars</th>\n",
       "      <th>Protein</th>\n",
       "      <th>Vitamin A (% Daily Value)</th>\n",
       "      <th>Vitamin C (% Daily Value)</th>\n",
       "      <th>Calcium (% Daily Value)</th>\n",
       "      <th>Iron (% Daily Value)</th>\n",
       "    </tr>\n",
       "  </thead>\n",
       "  <tbody>\n",
       "    <tr>\n",
       "      <th>136</th>\n",
       "      <td>Beverages</td>\n",
       "      <td>Dasani Water Bottle</td>\n",
       "      <td>16.9 fl oz</td>\n",
       "      <td>0</td>\n",
       "      <td>0</td>\n",
       "      <td>0.0</td>\n",
       "      <td>0</td>\n",
       "      <td>0.0</td>\n",
       "      <td>0</td>\n",
       "      <td>0.0</td>\n",
       "      <td>...</td>\n",
       "      <td>0</td>\n",
       "      <td>0</td>\n",
       "      <td>0</td>\n",
       "      <td>0</td>\n",
       "      <td>0</td>\n",
       "      <td>0</td>\n",
       "      <td>0</td>\n",
       "      <td>0</td>\n",
       "      <td>0</td>\n",
       "      <td>0</td>\n",
       "    </tr>\n",
       "    <tr>\n",
       "      <th>145</th>\n",
       "      <td>Coffee &amp; Tea</td>\n",
       "      <td>Coffee (Small)</td>\n",
       "      <td>12 fl oz cup</td>\n",
       "      <td>0</td>\n",
       "      <td>0</td>\n",
       "      <td>0.0</td>\n",
       "      <td>0</td>\n",
       "      <td>0.0</td>\n",
       "      <td>0</td>\n",
       "      <td>0.0</td>\n",
       "      <td>...</td>\n",
       "      <td>0</td>\n",
       "      <td>0</td>\n",
       "      <td>0</td>\n",
       "      <td>0</td>\n",
       "      <td>0</td>\n",
       "      <td>0</td>\n",
       "      <td>0</td>\n",
       "      <td>0</td>\n",
       "      <td>0</td>\n",
       "      <td>0</td>\n",
       "    </tr>\n",
       "    <tr>\n",
       "      <th>140</th>\n",
       "      <td>Coffee &amp; Tea</td>\n",
       "      <td>Iced Tea (Child)</td>\n",
       "      <td>12 fl oz cup</td>\n",
       "      <td>0</td>\n",
       "      <td>0</td>\n",
       "      <td>0.0</td>\n",
       "      <td>0</td>\n",
       "      <td>0.0</td>\n",
       "      <td>0</td>\n",
       "      <td>0.0</td>\n",
       "      <td>...</td>\n",
       "      <td>0</td>\n",
       "      <td>0</td>\n",
       "      <td>0</td>\n",
       "      <td>0</td>\n",
       "      <td>0</td>\n",
       "      <td>0</td>\n",
       "      <td>0</td>\n",
       "      <td>0</td>\n",
       "      <td>0</td>\n",
       "      <td>0</td>\n",
       "    </tr>\n",
       "  </tbody>\n",
       "</table>\n",
       "<p>3 rows × 24 columns</p>\n",
       "</div>"
      ],
      "text/plain": [
       "         Category                 Item  Serving Size  Calories  \\\n",
       "136     Beverages  Dasani Water Bottle    16.9 fl oz         0   \n",
       "145  Coffee & Tea       Coffee (Small)  12 fl oz cup         0   \n",
       "140  Coffee & Tea     Iced Tea (Child)  12 fl oz cup         0   \n",
       "\n",
       "     Calories from Fat  Total Fat  Total Fat (% Daily Value)  Saturated Fat  \\\n",
       "136                  0        0.0                          0            0.0   \n",
       "145                  0        0.0                          0            0.0   \n",
       "140                  0        0.0                          0            0.0   \n",
       "\n",
       "     Saturated Fat (% Daily Value)  Trans Fat          ...           \\\n",
       "136                              0        0.0          ...            \n",
       "145                              0        0.0          ...            \n",
       "140                              0        0.0          ...            \n",
       "\n",
       "     Carbohydrates  Carbohydrates (% Daily Value)  Dietary Fiber  \\\n",
       "136              0                              0              0   \n",
       "145              0                              0              0   \n",
       "140              0                              0              0   \n",
       "\n",
       "     Dietary Fiber (% Daily Value)  Sugars  Protein  \\\n",
       "136                              0       0        0   \n",
       "145                              0       0        0   \n",
       "140                              0       0        0   \n",
       "\n",
       "     Vitamin A (% Daily Value)  Vitamin C (% Daily Value)  \\\n",
       "136                          0                          0   \n",
       "145                          0                          0   \n",
       "140                          0                          0   \n",
       "\n",
       "     Calcium (% Daily Value)  Iron (% Daily Value)  \n",
       "136                        0                     0  \n",
       "145                        0                     0  \n",
       "140                        0                     0  \n",
       "\n",
       "[3 rows x 24 columns]"
      ]
     },
     "execution_count": 6,
     "metadata": {},
     "output_type": "execute_result"
    }
   ],
   "source": [
    "temp = menu.sort_values('Carbohydrates', ascending=True)\n",
    "temp.iloc[:3]"
   ]
  },
  {
   "cell_type": "code",
   "execution_count": null,
   "metadata": {},
   "outputs": [],
   "source": [
    "menu[(menu['Category'] != 'Beverages') & (menu['Category'] != 'Coffee & Tea')].sort_values(['Carbohydrates'], ascending = False)"
   ]
  },
  {
   "cell_type": "markdown",
   "metadata": {
    "slideshow": {
     "slide_type": "subslide"
    }
   },
   "source": [
    "# <font color=\"magenta\">END OF NOTEBOOK</font>\n",
    "## Remember to submit this file in HTML and IPYNB formats via Canvas."
   ]
  },
  {
   "cell_type": "code",
   "execution_count": null,
   "metadata": {},
   "outputs": [],
   "source": []
  }
 ],
 "metadata": {
  "celltoolbar": "Slideshow",
  "kernelspec": {
   "display_name": "Python 3",
   "language": "python",
   "name": "python3"
  },
  "language_info": {
   "codemirror_mode": {
    "name": "ipython",
    "version": 3
   },
   "file_extension": ".py",
   "mimetype": "text/x-python",
   "name": "python",
   "nbconvert_exporter": "python",
   "pygments_lexer": "ipython3",
   "version": "3.6.8"
  },
  "livereveal": {
   "theme": "sky"
  }
 },
 "nbformat": 4,
 "nbformat_minor": 2
}
