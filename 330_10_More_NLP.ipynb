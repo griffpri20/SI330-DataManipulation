{
 "cells": [
  {
   "cell_type": "markdown",
   "metadata": {},
   "source": [
    "# SI 330: Data Manipulation \n",
    "## 10 - More Natural Language Processing\n",
    "\n",
    "### Dr. Chris Teplovs, School of Information, University of Michigan\n",
    "<small><a rel=\"license\" href=\"http://creativecommons.org/licenses/by-nc-sa/4.0/\"><img alt=\"Creative Commons License\" style=\"border-width:0\" src=\"https://i.creativecommons.org/l/by-nc-sa/4.0/88x31.png\" /></a>This work is licensed under a <a rel=\"license\" href=\"http://creativecommons.org/licenses/by-nc-sa/4.0/\">Creative Commons Attribution-NonCommercial-ShareAlike 4.0 International License</a>."
   ]
  },
  {
   "cell_type": "markdown",
   "metadata": {
    "toc-hr-collapsed": false
   },
   "source": [
    "# Why learn NLP?\n",
    "- Natural language = human language\n",
    "- We use language to learn about the world\n",
    "- How machines understand human langauge?\n",
    "- How can we quantify the meaning of language?"
   ]
  },
  {
   "cell_type": "markdown",
   "metadata": {},
   "source": [
    "## Applications?\n",
    "- Probabily any service that uses text as information\n",
    "- Search engine, SNS\n",
    "    - What's the document about?\n",
    "    - How do you determine the similarity?\n",
    "- Virtual assistants: Alexa, Google Assistant, Cortana, etc. \n",
    "    - Understand the semantic information from your speech from parsed text\n",
    "- Biology, genetics\n",
    "    - Genetic information / DNA sequence as text\n",
    "    - Draw networks of proteins/molecules from vast amount of scientific papers "
   ]
  },
  {
   "cell_type": "markdown",
   "metadata": {},
   "source": [
    "# Outline for today\n",
    "- ```spaCy```\n",
    "    - Cleaning the data\n",
    "    - Extracting linguistic features\n",
    "- ```Word2Vec``` (if we have time)\n",
    "    - Vector representation of words\n",
    "    - Word similarities\n",
    "    - Vector algebra for semantics"
   ]
  },
  {
   "cell_type": "code",
   "execution_count": 1,
   "metadata": {},
   "outputs": [],
   "source": [
    "import pandas as pd\n",
    "import numpy as np\n",
    "import re\n",
    "import seaborn as sns\n",
    "import matplotlib.pyplot as plt\n",
    "%matplotlib inline"
   ]
  },
  {
   "cell_type": "markdown",
   "metadata": {},
   "source": [
    "# spaCy?"
   ]
  },
  {
   "cell_type": "markdown",
   "metadata": {},
   "source": [
    "- Fast, and extensible NLP package for Python\n",
    "- <https://spacy.io/>"
   ]
  },
  {
   "cell_type": "code",
   "execution_count": 9,
   "metadata": {},
   "outputs": [
    {
     "name": "stdout",
     "output_type": "stream",
     "text": [
      "Collecting package metadata: done\n",
      "Solving environment: done\n",
      "\n",
      "# All requested packages already installed.\n",
      "\n"
     ]
    }
   ],
   "source": [
    "#!conda install -y spacy"
   ]
  },
  {
   "cell_type": "code",
   "execution_count": 2,
   "metadata": {},
   "outputs": [],
   "source": [
    "import spacy"
   ]
  },
  {
   "cell_type": "code",
   "execution_count": 3,
   "metadata": {},
   "outputs": [],
   "source": [
    "#!python -m spacy download en"
   ]
  },
  {
   "cell_type": "code",
   "execution_count": 5,
   "metadata": {},
   "outputs": [],
   "source": [
    "# loading up the language model: English\n",
    "nlp = spacy.load('en')"
   ]
  },
  {
   "cell_type": "markdown",
   "metadata": {},
   "source": [
    "# 0. Data cleaning"
   ]
  },
  {
   "cell_type": "code",
   "execution_count": 6,
   "metadata": {},
   "outputs": [],
   "source": [
    "some_text = \"\"\"Letter 1\n",
    "\n",
    "_To Mrs. Saville, England._\n",
    "\n",
    "\n",
    "St. Petersburgh, Dec. 11th, 17—.\n",
    "\n",
    "\n",
    "You will rejoice to hear that no disaster has accompanied the\n",
    "commencement of an enterprise which you have regarded with such evil\n",
    "forebodings.  I arrived here yesterday, and my first task is to assure\n",
    "my dear sister of my welfare and increasing confidence in the success\n",
    "of my undertaking.\n",
    "\n",
    "I am already far north of London, and as I walk in the streets of\n",
    "Petersburgh, I feel a cold northern breeze play upon my cheeks, which\n",
    "braces my nerves and fills me with delight.  Do you understand this\n",
    "feeling?  This breeze, which has travelled from the regions towards\n",
    "which I am advancing, gives me a foretaste of those icy climes.\n",
    "Inspirited by this wind of promise, my daydreams become more fervent\n",
    "and vivid.  I try in vain to be persuaded that the pole is the seat of\n",
    "frost and desolation; it ever presents itself to my imagination as the\n",
    "region of beauty and delight.  There, Margaret, the sun is for ever\n",
    "visible, its broad disk just skirting the horizon and diffusing a\n",
    "perpetual splendour.  There—for with your leave, my sister, I will put\n",
    "some trust in preceding navigators—there snow and frost are banished;\n",
    "and, sailing over a calm sea, we may be wafted to a land surpassing in\n",
    "wonders and in beauty every region hitherto discovered on the habitable\n",
    "globe.  Its productions and features may be without example, as the\n",
    "phenomena of the heavenly bodies undoubtedly are in those undiscovered\n",
    "solitudes.  What may not be expected in a country of eternal light?  I\n",
    "may there discover the wondrous power which attracts the needle and may\n",
    "regulate a thousand celestial observations that require only this\n",
    "voyage to render their seeming eccentricities consistent for ever.  I\n",
    "shall satiate my ardent curiosity with the sight of a part of the world\n",
    "never before visited, and may tread a land never before imprinted by\n",
    "the foot of man. These are my enticements, and they are sufficient to\n",
    "conquer all fear of danger or death and to induce me to commence this\n",
    "laborious voyage with the joy a child feels when he embarks in a little\n",
    "boat, with his holiday mates, on an expedition of discovery up his\n",
    "native river. But supposing all these conjectures to be false, you\n",
    "cannot contest the inestimable benefit which I shall confer on all\n",
    "mankind, to the last generation, by discovering a passage near the pole\n",
    "to those countries, to reach which at present so many months are\n",
    "requisite; or by ascertaining the secret of the magnet, which, if at\n",
    "all possible, can only be effected by an undertaking such as mine.\n",
    "\n",
    "These reflections have dispelled the agitation with which I began my\n",
    "letter, and I feel my heart glow with an enthusiasm which elevates me\n",
    "to heaven, for nothing contributes so much to tranquillise the mind as\n",
    "a steady purpose—a point on which the soul may fix its intellectual\n",
    "eye.  This expedition has been the favourite dream of my early years. I\n",
    "have read with ardour the accounts of the various voyages which have\n",
    "been made in the prospect of arriving at the North Pacific Ocean\n",
    "through the seas which surround the pole.  You may remember that a\n",
    "history of all the voyages made for purposes of discovery composed the\n",
    "whole of our good Uncle Thomas’ library.  My education was neglected,\n",
    "yet I was passionately fond of reading.  These volumes were my study\n",
    "day and night, and my familiarity with them increased that regret which\n",
    "I had felt, as a child, on learning that my father’s dying injunction\n",
    "had forbidden my uncle to allow me to embark in a seafaring life.\n",
    "\n",
    "These visions faded when I perused, for the first time, those poets\n",
    "whose effusions entranced my soul and lifted it to heaven.  I also\n",
    "became a poet and for one year lived in a paradise of my own creation;\n",
    "I imagined that I also might obtain a niche in the temple where the\n",
    "names of Homer and Shakespeare are consecrated.  You are well\n",
    "acquainted with my failure and how heavily I bore the disappointment.\n",
    "But just at that time I inherited the fortune of my cousin, and my\n",
    "thoughts were turned into the channel of their earlier bent.\n",
    "\n",
    "Six years have passed since I resolved on my present undertaking.  I\n",
    "can, even now, remember the hour from which I dedicated myself to this\n",
    "great enterprise.  I commenced by inuring my body to hardship.  I\n",
    "accompanied the whale-fishers on several expeditions to the North Sea;\n",
    "I voluntarily endured cold, famine, thirst, and want of sleep; I often\n",
    "worked harder than the common sailors during the day and devoted my\n",
    "nights to the study of mathematics, the theory of medicine, and those\n",
    "branches of physical science from which a naval adventurer might derive\n",
    "the greatest practical advantage.  Twice I actually hired myself as an\n",
    "under-mate in a Greenland whaler, and acquitted myself to admiration. I\n",
    "must own I felt a little proud when my captain offered me the second\n",
    "dignity in the vessel and entreated me to remain with the greatest\n",
    "earnestness, so valuable did he consider my services.\n",
    "\n",
    "And now, dear Margaret, do I not deserve to accomplish some great purpose?\n",
    "My life might have been passed in ease and luxury, but I preferred glory to\n",
    "every enticement that wealth placed in my path. Oh, that some encouraging\n",
    "voice would answer in the affirmative! My courage and my resolution is\n",
    "firm; but my hopes fluctuate, and my spirits are often depressed. I am\n",
    "about to proceed on a long and difficult voyage, the emergencies of which\n",
    "will demand all my fortitude: I am required not only to raise the spirits\n",
    "of others, but sometimes to sustain my own, when theirs are failing.\n",
    "\n",
    "This is the most favourable period for travelling in Russia.  They fly\n",
    "quickly over the snow in their sledges; the motion is pleasant, and, in\n",
    "my opinion, far more agreeable than that of an English stagecoach.  The\n",
    "cold is not excessive, if you are wrapped in furs—a dress which I have\n",
    "already adopted, for there is a great difference between walking the\n",
    "deck and remaining seated motionless for hours, when no exercise\n",
    "prevents the blood from actually freezing in your veins.  I have no\n",
    "ambition to lose my life on the post-road between St. Petersburgh and\n",
    "Archangel.\n",
    "\n",
    "I shall depart for the latter town in a fortnight or three weeks; and my\n",
    "intention is to hire a ship there, which can easily be done by paying the\n",
    "insurance for the owner, and to engage as many sailors as I think necessary\n",
    "among those who are accustomed to the whale-fishing. I do not intend to\n",
    "sail until the month of June; and when shall I return? Ah, dear sister, how\n",
    "can I answer this question? If I succeed, many, many months, perhaps years,\n",
    "will pass before you and I may meet. If I fail, you will see me again soon,\n",
    "or never.\n",
    "\n",
    "Farewell, my dear, excellent Margaret. Heaven shower down blessings on you,\n",
    "and save me, that I may again and again testify my gratitude for all your\n",
    "love and kindness.\n",
    "\n",
    "Your affectionate brother,\n",
    "\n",
    "R. Walton\"\"\""
   ]
  },
  {
   "cell_type": "markdown",
   "metadata": {},
   "source": [
    "### Section goal: calculate the frequency of each word\n",
    "- See which words are more frequent.\n",
    "- Generate more meaningful summary for the above paragraph."
   ]
  },
  {
   "cell_type": "markdown",
   "metadata": {},
   "source": [
    "## 0-1. lowering the case"
   ]
  },
  {
   "cell_type": "code",
   "execution_count": 7,
   "metadata": {},
   "outputs": [
    {
     "data": {
      "text/plain": [
       "str"
      ]
     },
     "execution_count": 7,
     "metadata": {},
     "output_type": "execute_result"
    }
   ],
   "source": [
    "type(some_text)"
   ]
  },
  {
   "cell_type": "code",
   "execution_count": 8,
   "metadata": {},
   "outputs": [
    {
     "data": {
      "text/plain": [
       "'Letter 1\\n\\n_To Mrs. Saville, England._\\n\\n\\nSt. Petersburgh, Dec. 11th, 17—.\\n\\n\\nYou will rejoice to hear that no disaster has accompanied the\\ncommencement of an enterprise which you have regarded with such evil\\nforebodings.  I arrived here yesterday, and my first task is to assure\\nmy dear sister of my welfare and increasing confidence in the success\\nof my undertaking.\\n\\nI am already far north of London, and as I walk in the streets of\\nPetersburgh, I feel a cold northern breeze play upon my cheeks, which\\nbraces my nerves and fills me with delight.  Do you understand this\\nfeeling?  This breeze, which has travelled from the regions towards\\nwhich I am advancing, gives me a foretaste of those icy climes.\\nInspirited by this wind of promise, my daydreams become more fervent\\nand vivid.  I try in vain to be persuaded that the pole is the seat of\\nfrost and desolation; it ever presents itself to my imagination as the\\nregion of beauty and delight.  There, Margaret, the sun is for ever\\nvisible, its broad disk just skirting the horizon and diffusing a\\nperpetual splendour.  There—for with your leave, my sister, I will put\\nsome trust in preceding navigators—there snow and frost are banished;\\nand, sailing over a calm sea, we may be wafted to a land surpassing in\\nwonders and in beauty every region hitherto discovered on the habitable\\nglobe.  Its productions and features may be without example, as the\\nphenomena of the heavenly bodies undoubtedly are in those undiscovered\\nsolitudes.  What may not be expected in a country of eternal light?  I\\nmay there discover the wondrous power which attracts the needle and may\\nregulate a thousand celestial observations that require only this\\nvoyage to render their seeming eccentricities consistent for ever.  I\\nshall satiate my ardent curiosity with the sight of a part of the world\\nnever before visited, and may tread a land never before imprinted by\\nthe foot of man. These are my enticements, and they are sufficient to\\nconquer all fear of danger or death and to induce me to commence this\\nlaborious voyage with the joy a child feels when he embarks in a little\\nboat, with his holiday mates, on an expedition of discovery up his\\nnative river. But supposing all these conjectures to be false, you\\ncannot contest the inestimable benefit which I shall confer on all\\nmankind, to the last generation, by discovering a passage near the pole\\nto those countries, to reach which at present so many months are\\nrequisite; or by ascertaining the secret of the magnet, which, if at\\nall possible, can only be effected by an undertaking such as mine.\\n\\nThese reflections have dispelled the agitation with which I began my\\nletter, and I feel my heart glow with an enthusiasm which elevates me\\nto heaven, for nothing contributes so much to tranquillise the mind as\\na steady purpose—a point on which the soul may fix its intellectual\\neye.  This expedition has been the favourite dream of my early years. I\\nhave read with ardour the accounts of the various voyages which have\\nbeen made in the prospect of arriving at the North Pacific Ocean\\nthrough the seas which surround the pole.  You may remember that a\\nhistory of all the voyages made for purposes of discovery composed the\\nwhole of our good Uncle Thomas’ library.  My education was neglected,\\nyet I was passionately fond of reading.  These volumes were my study\\nday and night, and my familiarity with them increased that regret which\\nI had felt, as a child, on learning that my father’s dying injunction\\nhad forbidden my uncle to allow me to embark in a seafaring life.\\n\\nThese visions faded when I perused, for the first time, those poets\\nwhose effusions entranced my soul and lifted it to heaven.  I also\\nbecame a poet and for one year lived in a paradise of my own creation;\\nI imagined that I also might obtain a niche in the temple where the\\nnames of Homer and Shakespeare are consecrated.  You are well\\nacquainted with my failure and how heavily I bore the disappointment.\\nBut just at that time I inherited the fortune of my cousin, and my\\nthoughts were turned into the channel of their earlier bent.\\n\\nSix years have passed since I resolved on my present undertaking.  I\\ncan, even now, remember the hour from which I dedicated myself to this\\ngreat enterprise.  I commenced by inuring my body to hardship.  I\\naccompanied the whale-fishers on several expeditions to the North Sea;\\nI voluntarily endured cold, famine, thirst, and want of sleep; I often\\nworked harder than the common sailors during the day and devoted my\\nnights to the study of mathematics, the theory of medicine, and those\\nbranches of physical science from which a naval adventurer might derive\\nthe greatest practical advantage.  Twice I actually hired myself as an\\nunder-mate in a Greenland whaler, and acquitted myself to admiration. I\\nmust own I felt a little proud when my captain offered me the second\\ndignity in the vessel and entreated me to remain with the greatest\\nearnestness, so valuable did he consider my services.\\n\\nAnd now, dear Margaret, do I not deserve to accomplish some great purpose?\\nMy life might have been passed in ease and luxury, but I preferred glory to\\nevery enticement that wealth placed in my path. Oh, that some encouraging\\nvoice would answer in the affirmative! My courage and my resolution is\\nfirm; but my hopes fluctuate, and my spirits are often depressed. I am\\nabout to proceed on a long and difficult voyage, the emergencies of which\\nwill demand all my fortitude: I am required not only to raise the spirits\\nof others, but sometimes to sustain my own, when theirs are failing.\\n\\nThis is the most favourable period for travelling in Russia.  They fly\\nquickly over the snow in their sledges; the motion is pleasant, and, in\\nmy opinion, far more agreeable than that of an English stagecoach.  The\\ncold is not excessive, if you are wrapped in furs—a dress which I have\\nalready adopted, for there is a great difference between walking the\\ndeck and remaining seated motionless for hours, when no exercise\\nprevents the blood from actually freezing in your veins.  I have no\\nambition to lose my life on the post-road between St. Petersburgh and\\nArchangel.\\n\\nI shall depart for the latter town in a fortnight or three weeks; and my\\nintention is to hire a ship there, which can easily be done by paying the\\ninsurance for the owner, and to engage as many sailors as I think necessary\\namong those who are accustomed to the whale-fishing. I do not intend to\\nsail until the month of June; and when shall I return? Ah, dear sister, how\\ncan I answer this question? If I succeed, many, many months, perhaps years,\\nwill pass before you and I may meet. If I fail, you will see me again soon,\\nor never.\\n\\nFarewell, my dear, excellent Margaret. Heaven shower down blessings on you,\\nand save me, that I may again and again testify my gratitude for all your\\nlove and kindness.\\n\\nYour affectionate brother,\\n\\nR. Walton'"
      ]
     },
     "execution_count": 8,
     "metadata": {},
     "output_type": "execute_result"
    }
   ],
   "source": [
    "some_text"
   ]
  },
  {
   "cell_type": "code",
   "execution_count": 9,
   "metadata": {},
   "outputs": [],
   "source": [
    "some_text_lower = some_text.lower()"
   ]
  },
  {
   "cell_type": "code",
   "execution_count": 10,
   "metadata": {},
   "outputs": [
    {
     "data": {
      "text/plain": [
       "'letter 1\\n\\n_to mrs. saville, england._\\n\\n\\nst. petersburgh, dec. 11th, 17—.\\n\\n\\nyou will rejoice to hear that no disaster has accompanied the\\ncommencement of an enterprise which you have regarded with such evil\\nforebodings.  i arrived here yesterday, and my first task is to assure\\nmy dear sister of my welfare and increasing confidence in the success\\nof my undertaking.\\n\\ni am already far north of london, and as i walk in the streets of\\npetersburgh, i feel a cold northern breeze play upon my cheeks, which\\nbraces my nerves and fills me with delight.  do you understand this\\nfeeling?  this breeze, which has travelled from the regions towards\\nwhich i am advancing, gives me a foretaste of those icy climes.\\ninspirited by this wind of promise, my daydreams become more fervent\\nand vivid.  i try in vain to be persuaded that the pole is the seat of\\nfrost and desolation; it ever presents itself to my imagination as the\\nregion of beauty and delight.  there, margaret, the sun is for ever\\nvisible, its broad disk just skirting the horizon and diffusing a\\nperpetual splendour.  there—for with your leave, my sister, i will put\\nsome trust in preceding navigators—there snow and frost are banished;\\nand, sailing over a calm sea, we may be wafted to a land surpassing in\\nwonders and in beauty every region hitherto discovered on the habitable\\nglobe.  its productions and features may be without example, as the\\nphenomena of the heavenly bodies undoubtedly are in those undiscovered\\nsolitudes.  what may not be expected in a country of eternal light?  i\\nmay there discover the wondrous power which attracts the needle and may\\nregulate a thousand celestial observations that require only this\\nvoyage to render their seeming eccentricities consistent for ever.  i\\nshall satiate my ardent curiosity with the sight of a part of the world\\nnever before visited, and may tread a land never before imprinted by\\nthe foot of man. these are my enticements, and they are sufficient to\\nconquer all fear of danger or death and to induce me to commence this\\nlaborious voyage with the joy a child feels when he embarks in a little\\nboat, with his holiday mates, on an expedition of discovery up his\\nnative river. but supposing all these conjectures to be false, you\\ncannot contest the inestimable benefit which i shall confer on all\\nmankind, to the last generation, by discovering a passage near the pole\\nto those countries, to reach which at present so many months are\\nrequisite; or by ascertaining the secret of the magnet, which, if at\\nall possible, can only be effected by an undertaking such as mine.\\n\\nthese reflections have dispelled the agitation with which i began my\\nletter, and i feel my heart glow with an enthusiasm which elevates me\\nto heaven, for nothing contributes so much to tranquillise the mind as\\na steady purpose—a point on which the soul may fix its intellectual\\neye.  this expedition has been the favourite dream of my early years. i\\nhave read with ardour the accounts of the various voyages which have\\nbeen made in the prospect of arriving at the north pacific ocean\\nthrough the seas which surround the pole.  you may remember that a\\nhistory of all the voyages made for purposes of discovery composed the\\nwhole of our good uncle thomas’ library.  my education was neglected,\\nyet i was passionately fond of reading.  these volumes were my study\\nday and night, and my familiarity with them increased that regret which\\ni had felt, as a child, on learning that my father’s dying injunction\\nhad forbidden my uncle to allow me to embark in a seafaring life.\\n\\nthese visions faded when i perused, for the first time, those poets\\nwhose effusions entranced my soul and lifted it to heaven.  i also\\nbecame a poet and for one year lived in a paradise of my own creation;\\ni imagined that i also might obtain a niche in the temple where the\\nnames of homer and shakespeare are consecrated.  you are well\\nacquainted with my failure and how heavily i bore the disappointment.\\nbut just at that time i inherited the fortune of my cousin, and my\\nthoughts were turned into the channel of their earlier bent.\\n\\nsix years have passed since i resolved on my present undertaking.  i\\ncan, even now, remember the hour from which i dedicated myself to this\\ngreat enterprise.  i commenced by inuring my body to hardship.  i\\naccompanied the whale-fishers on several expeditions to the north sea;\\ni voluntarily endured cold, famine, thirst, and want of sleep; i often\\nworked harder than the common sailors during the day and devoted my\\nnights to the study of mathematics, the theory of medicine, and those\\nbranches of physical science from which a naval adventurer might derive\\nthe greatest practical advantage.  twice i actually hired myself as an\\nunder-mate in a greenland whaler, and acquitted myself to admiration. i\\nmust own i felt a little proud when my captain offered me the second\\ndignity in the vessel and entreated me to remain with the greatest\\nearnestness, so valuable did he consider my services.\\n\\nand now, dear margaret, do i not deserve to accomplish some great purpose?\\nmy life might have been passed in ease and luxury, but i preferred glory to\\nevery enticement that wealth placed in my path. oh, that some encouraging\\nvoice would answer in the affirmative! my courage and my resolution is\\nfirm; but my hopes fluctuate, and my spirits are often depressed. i am\\nabout to proceed on a long and difficult voyage, the emergencies of which\\nwill demand all my fortitude: i am required not only to raise the spirits\\nof others, but sometimes to sustain my own, when theirs are failing.\\n\\nthis is the most favourable period for travelling in russia.  they fly\\nquickly over the snow in their sledges; the motion is pleasant, and, in\\nmy opinion, far more agreeable than that of an english stagecoach.  the\\ncold is not excessive, if you are wrapped in furs—a dress which i have\\nalready adopted, for there is a great difference between walking the\\ndeck and remaining seated motionless for hours, when no exercise\\nprevents the blood from actually freezing in your veins.  i have no\\nambition to lose my life on the post-road between st. petersburgh and\\narchangel.\\n\\ni shall depart for the latter town in a fortnight or three weeks; and my\\nintention is to hire a ship there, which can easily be done by paying the\\ninsurance for the owner, and to engage as many sailors as i think necessary\\namong those who are accustomed to the whale-fishing. i do not intend to\\nsail until the month of june; and when shall i return? ah, dear sister, how\\ncan i answer this question? if i succeed, many, many months, perhaps years,\\nwill pass before you and i may meet. if i fail, you will see me again soon,\\nor never.\\n\\nfarewell, my dear, excellent margaret. heaven shower down blessings on you,\\nand save me, that i may again and again testify my gratitude for all your\\nlove and kindness.\\n\\nyour affectionate brother,\\n\\nr. walton'"
      ]
     },
     "execution_count": 10,
     "metadata": {},
     "output_type": "execute_result"
    }
   ],
   "source": [
    "some_text_lower"
   ]
  },
  {
   "cell_type": "markdown",
   "metadata": {
    "toc-hr-collapsed": false
   },
   "source": [
    "## 0-2. remove punctuations and special characters"
   ]
  },
  {
   "cell_type": "markdown",
   "metadata": {},
   "source": [
    "#### Alternatively, we can use regular expression to remove punctuations\n",
    "- So we don't have to list up all possible special characters that we want to remove\n",
    "- https://docs.python.org/3.4/library/re.html\n",
    "- https://en.wikipedia.org/wiki/Regular_expression"
   ]
  },
  {
   "cell_type": "markdown",
   "metadata": {},
   "source": [
    "### <font color=\"magenta\">Q1: Write a regular expression (regex) that will remove all punctuation from the above passage</font>"
   ]
  },
  {
   "cell_type": "code",
   "execution_count": 16,
   "metadata": {},
   "outputs": [],
   "source": [
    "import re\n",
    "some_text_lower_no_punct = re.sub(r'([^\\w\\s])|_+','', some_text_lower)"
   ]
  },
  {
   "cell_type": "code",
   "execution_count": 17,
   "metadata": {},
   "outputs": [
    {
     "name": "stdout",
     "output_type": "stream",
     "text": [
      "letter 1\n",
      "\n",
      "to mrs saville england\n",
      "\n",
      "\n",
      "st petersburgh dec 11th 17\n",
      "\n",
      "\n",
      "you will rejoice to hear that no disaster has accompanied the\n",
      "commencement of an enterprise which you have regarded with such evil\n",
      "forebodings  i arrived here yesterday and my first task is to assure\n",
      "my dear sister of my welfare and increasing confidence in the success\n",
      "of my undertaking\n",
      "\n",
      "i am already far north of london and as i walk in the streets of\n",
      "petersburgh i feel a cold northern breeze play upon my cheeks which\n",
      "braces my nerves and fills me with delight  do you understand this\n",
      "feeling  this breeze which has travelled from the regions towards\n",
      "which i am advancing gives me a foretaste of those icy climes\n",
      "inspirited by this wind of promise my daydreams become more fervent\n",
      "and vivid  i try in vain to be persuaded that the pole is the seat of\n",
      "frost and desolation it ever presents itself to my imagination as the\n",
      "region of beauty and delight  there margaret the sun is for ever\n",
      "visible its broad disk just skirting the horizon and diffusing a\n",
      "perpetual splendour  therefor with your leave my sister i will put\n",
      "some trust in preceding navigatorsthere snow and frost are banished\n",
      "and sailing over a calm sea we may be wafted to a land surpassing in\n",
      "wonders and in beauty every region hitherto discovered on the habitable\n",
      "globe  its productions and features may be without example as the\n",
      "phenomena of the heavenly bodies undoubtedly are in those undiscovered\n",
      "solitudes  what may not be expected in a country of eternal light  i\n",
      "may there discover the wondrous power which attracts the needle and may\n",
      "regulate a thousand celestial observations that require only this\n",
      "voyage to render their seeming eccentricities consistent for ever  i\n",
      "shall satiate my ardent curiosity with the sight of a part of the world\n",
      "never before visited and may tread a land never before imprinted by\n",
      "the foot of man these are my enticements and they are sufficient to\n",
      "conquer all fear of danger or death and to induce me to commence this\n",
      "laborious voyage with the joy a child feels when he embarks in a little\n",
      "boat with his holiday mates on an expedition of discovery up his\n",
      "native river but supposing all these conjectures to be false you\n",
      "cannot contest the inestimable benefit which i shall confer on all\n",
      "mankind to the last generation by discovering a passage near the pole\n",
      "to those countries to reach which at present so many months are\n",
      "requisite or by ascertaining the secret of the magnet which if at\n",
      "all possible can only be effected by an undertaking such as mine\n",
      "\n",
      "these reflections have dispelled the agitation with which i began my\n",
      "letter and i feel my heart glow with an enthusiasm which elevates me\n",
      "to heaven for nothing contributes so much to tranquillise the mind as\n",
      "a steady purposea point on which the soul may fix its intellectual\n",
      "eye  this expedition has been the favourite dream of my early years i\n",
      "have read with ardour the accounts of the various voyages which have\n",
      "been made in the prospect of arriving at the north pacific ocean\n",
      "through the seas which surround the pole  you may remember that a\n",
      "history of all the voyages made for purposes of discovery composed the\n",
      "whole of our good uncle thomas library  my education was neglected\n",
      "yet i was passionately fond of reading  these volumes were my study\n",
      "day and night and my familiarity with them increased that regret which\n",
      "i had felt as a child on learning that my fathers dying injunction\n",
      "had forbidden my uncle to allow me to embark in a seafaring life\n",
      "\n",
      "these visions faded when i perused for the first time those poets\n",
      "whose effusions entranced my soul and lifted it to heaven  i also\n",
      "became a poet and for one year lived in a paradise of my own creation\n",
      "i imagined that i also might obtain a niche in the temple where the\n",
      "names of homer and shakespeare are consecrated  you are well\n",
      "acquainted with my failure and how heavily i bore the disappointment\n",
      "but just at that time i inherited the fortune of my cousin and my\n",
      "thoughts were turned into the channel of their earlier bent\n",
      "\n",
      "six years have passed since i resolved on my present undertaking  i\n",
      "can even now remember the hour from which i dedicated myself to this\n",
      "great enterprise  i commenced by inuring my body to hardship  i\n",
      "accompanied the whalefishers on several expeditions to the north sea\n",
      "i voluntarily endured cold famine thirst and want of sleep i often\n",
      "worked harder than the common sailors during the day and devoted my\n",
      "nights to the study of mathematics the theory of medicine and those\n",
      "branches of physical science from which a naval adventurer might derive\n",
      "the greatest practical advantage  twice i actually hired myself as an\n",
      "undermate in a greenland whaler and acquitted myself to admiration i\n",
      "must own i felt a little proud when my captain offered me the second\n",
      "dignity in the vessel and entreated me to remain with the greatest\n",
      "earnestness so valuable did he consider my services\n",
      "\n",
      "and now dear margaret do i not deserve to accomplish some great purpose\n",
      "my life might have been passed in ease and luxury but i preferred glory to\n",
      "every enticement that wealth placed in my path oh that some encouraging\n",
      "voice would answer in the affirmative my courage and my resolution is\n",
      "firm but my hopes fluctuate and my spirits are often depressed i am\n",
      "about to proceed on a long and difficult voyage the emergencies of which\n",
      "will demand all my fortitude i am required not only to raise the spirits\n",
      "of others but sometimes to sustain my own when theirs are failing\n",
      "\n",
      "this is the most favourable period for travelling in russia  they fly\n",
      "quickly over the snow in their sledges the motion is pleasant and in\n",
      "my opinion far more agreeable than that of an english stagecoach  the\n",
      "cold is not excessive if you are wrapped in fursa dress which i have\n",
      "already adopted for there is a great difference between walking the\n",
      "deck and remaining seated motionless for hours when no exercise\n",
      "prevents the blood from actually freezing in your veins  i have no\n",
      "ambition to lose my life on the postroad between st petersburgh and\n",
      "archangel\n",
      "\n",
      "i shall depart for the latter town in a fortnight or three weeks and my\n",
      "intention is to hire a ship there which can easily be done by paying the\n",
      "insurance for the owner and to engage as many sailors as i think necessary\n",
      "among those who are accustomed to the whalefishing i do not intend to\n",
      "sail until the month of june and when shall i return ah dear sister how\n",
      "can i answer this question if i succeed many many months perhaps years\n",
      "will pass before you and i may meet if i fail you will see me again soon\n",
      "or never\n",
      "\n",
      "farewell my dear excellent margaret heaven shower down blessings on you\n",
      "and save me that i may again and again testify my gratitude for all your\n",
      "love and kindness\n",
      "\n",
      "your affectionate brother\n",
      "\n",
      "r walton\n"
     ]
    }
   ],
   "source": [
    "print(some_text_lower_no_punct)"
   ]
  },
  {
   "cell_type": "markdown",
   "metadata": {},
   "source": [
    "- However, special character ```\\n``` (linebreak) still exists in both cases. Let's remove these additionally."
   ]
  },
  {
   "cell_type": "code",
   "execution_count": 18,
   "metadata": {},
   "outputs": [
    {
     "data": {
      "text/plain": [
       "'\\n'"
      ]
     },
     "execution_count": 18,
     "metadata": {},
     "output_type": "execute_result"
    }
   ],
   "source": [
    "import os\n",
    "os.linesep"
   ]
  },
  {
   "cell_type": "code",
   "execution_count": 19,
   "metadata": {},
   "outputs": [
    {
     "name": "stdout",
     "output_type": "stream",
     "text": [
      "letter 1  to mrs saville england   st petersburgh dec 11th 17   you will rejoice to hear that no disaster has accompanied the commencement of an enterprise which you have regarded with such evil forebodings  i arrived here yesterday and my first task is to assure my dear sister of my welfare and increasing confidence in the success of my undertaking  i am already far north of london and as i walk in the streets of petersburgh i feel a cold northern breeze play upon my cheeks which braces my nerves and fills me with delight  do you understand this feeling  this breeze which has travelled from the regions towards which i am advancing gives me a foretaste of those icy climes inspirited by this wind of promise my daydreams become more fervent and vivid  i try in vain to be persuaded that the pole is the seat of frost and desolation it ever presents itself to my imagination as the region of beauty and delight  there margaret the sun is for ever visible its broad disk just skirting the horizon and diffusing a perpetual splendour  therefor with your leave my sister i will put some trust in preceding navigatorsthere snow and frost are banished and sailing over a calm sea we may be wafted to a land surpassing in wonders and in beauty every region hitherto discovered on the habitable globe  its productions and features may be without example as the phenomena of the heavenly bodies undoubtedly are in those undiscovered solitudes  what may not be expected in a country of eternal light  i may there discover the wondrous power which attracts the needle and may regulate a thousand celestial observations that require only this voyage to render their seeming eccentricities consistent for ever  i shall satiate my ardent curiosity with the sight of a part of the world never before visited and may tread a land never before imprinted by the foot of man these are my enticements and they are sufficient to conquer all fear of danger or death and to induce me to commence this laborious voyage with the joy a child feels when he embarks in a little boat with his holiday mates on an expedition of discovery up his native river but supposing all these conjectures to be false you cannot contest the inestimable benefit which i shall confer on all mankind to the last generation by discovering a passage near the pole to those countries to reach which at present so many months are requisite or by ascertaining the secret of the magnet which if at all possible can only be effected by an undertaking such as mine  these reflections have dispelled the agitation with which i began my letter and i feel my heart glow with an enthusiasm which elevates me to heaven for nothing contributes so much to tranquillise the mind as a steady purposea point on which the soul may fix its intellectual eye  this expedition has been the favourite dream of my early years i have read with ardour the accounts of the various voyages which have been made in the prospect of arriving at the north pacific ocean through the seas which surround the pole  you may remember that a history of all the voyages made for purposes of discovery composed the whole of our good uncle thomas library  my education was neglected yet i was passionately fond of reading  these volumes were my study day and night and my familiarity with them increased that regret which i had felt as a child on learning that my fathers dying injunction had forbidden my uncle to allow me to embark in a seafaring life  these visions faded when i perused for the first time those poets whose effusions entranced my soul and lifted it to heaven  i also became a poet and for one year lived in a paradise of my own creation i imagined that i also might obtain a niche in the temple where the names of homer and shakespeare are consecrated  you are well acquainted with my failure and how heavily i bore the disappointment but just at that time i inherited the fortune of my cousin and my thoughts were turned into the channel of their earlier bent  six years have passed since i resolved on my present undertaking  i can even now remember the hour from which i dedicated myself to this great enterprise  i commenced by inuring my body to hardship  i accompanied the whalefishers on several expeditions to the north sea i voluntarily endured cold famine thirst and want of sleep i often worked harder than the common sailors during the day and devoted my nights to the study of mathematics the theory of medicine and those branches of physical science from which a naval adventurer might derive the greatest practical advantage  twice i actually hired myself as an undermate in a greenland whaler and acquitted myself to admiration i must own i felt a little proud when my captain offered me the second dignity in the vessel and entreated me to remain with the greatest earnestness so valuable did he consider my services  and now dear margaret do i not deserve to accomplish some great purpose my life might have been passed in ease and luxury but i preferred glory to every enticement that wealth placed in my path oh that some encouraging voice would answer in the affirmative my courage and my resolution is firm but my hopes fluctuate and my spirits are often depressed i am about to proceed on a long and difficult voyage the emergencies of which will demand all my fortitude i am required not only to raise the spirits of others but sometimes to sustain my own when theirs are failing  this is the most favourable period for travelling in russia  they fly quickly over the snow in their sledges the motion is pleasant and in my opinion far more agreeable than that of an english stagecoach  the cold is not excessive if you are wrapped in fursa dress which i have already adopted for there is a great difference between walking the deck and remaining seated motionless for hours when no exercise prevents the blood from actually freezing in your veins  i have no ambition to lose my life on the postroad between st petersburgh and archangel  i shall depart for the latter town in a fortnight or three weeks and my intention is to hire a ship there which can easily be done by paying the insurance for the owner and to engage as many sailors as i think necessary among those who are accustomed to the whalefishing i do not intend to sail until the month of june and when shall i return ah dear sister how can i answer this question if i succeed many many months perhaps years will pass before you and i may meet if i fail you will see me again soon or never  farewell my dear excellent margaret heaven shower down blessings on you and save me that i may again and again testify my gratitude for all your love and kindness  your affectionate brother  r walton\n"
     ]
    }
   ],
   "source": [
    "some_clean_text = some_text_lower_no_punct.replace(os.linesep, \" \")\n",
    "print(some_clean_text)"
   ]
  },
  {
   "cell_type": "markdown",
   "metadata": {},
   "source": [
    "### <font color='magenta'> Q2. How would you remove numbers from the text? </font>"
   ]
  },
  {
   "cell_type": "code",
   "execution_count": 21,
   "metadata": {},
   "outputs": [],
   "source": [
    "no_numbers = re.sub(r'[\\d]', ' ', some_clean_text)"
   ]
  },
  {
   "cell_type": "code",
   "execution_count": 22,
   "metadata": {},
   "outputs": [
    {
     "data": {
      "text/plain": [
       "'letter    to mrs saville england   st petersburgh dec   th      you will rejoice to hear that no disaster has accompanied the commencement of an enterprise which you have regarded with such evil forebodings  i arrived here yesterday and my first task is to assure my dear sister of my welfare and increasing confidence in the success of my undertaking  i am already far north of london and as i walk in the streets of petersburgh i feel a cold northern breeze play upon my cheeks which braces my nerves and fills me with delight  do you understand this feeling  this breeze which has travelled from the regions towards which i am advancing gives me a foretaste of those icy climes inspirited by this wind of promise my daydreams become more fervent and vivid  i try in vain to be persuaded that the pole is the seat of frost and desolation it ever presents itself to my imagination as the region of beauty and delight  there margaret the sun is for ever visible its broad disk just skirting the horizon and diffusing a perpetual splendour  therefor with your leave my sister i will put some trust in preceding navigatorsthere snow and frost are banished and sailing over a calm sea we may be wafted to a land surpassing in wonders and in beauty every region hitherto discovered on the habitable globe  its productions and features may be without example as the phenomena of the heavenly bodies undoubtedly are in those undiscovered solitudes  what may not be expected in a country of eternal light  i may there discover the wondrous power which attracts the needle and may regulate a thousand celestial observations that require only this voyage to render their seeming eccentricities consistent for ever  i shall satiate my ardent curiosity with the sight of a part of the world never before visited and may tread a land never before imprinted by the foot of man these are my enticements and they are sufficient to conquer all fear of danger or death and to induce me to commence this laborious voyage with the joy a child feels when he embarks in a little boat with his holiday mates on an expedition of discovery up his native river but supposing all these conjectures to be false you cannot contest the inestimable benefit which i shall confer on all mankind to the last generation by discovering a passage near the pole to those countries to reach which at present so many months are requisite or by ascertaining the secret of the magnet which if at all possible can only be effected by an undertaking such as mine  these reflections have dispelled the agitation with which i began my letter and i feel my heart glow with an enthusiasm which elevates me to heaven for nothing contributes so much to tranquillise the mind as a steady purposea point on which the soul may fix its intellectual eye  this expedition has been the favourite dream of my early years i have read with ardour the accounts of the various voyages which have been made in the prospect of arriving at the north pacific ocean through the seas which surround the pole  you may remember that a history of all the voyages made for purposes of discovery composed the whole of our good uncle thomas library  my education was neglected yet i was passionately fond of reading  these volumes were my study day and night and my familiarity with them increased that regret which i had felt as a child on learning that my fathers dying injunction had forbidden my uncle to allow me to embark in a seafaring life  these visions faded when i perused for the first time those poets whose effusions entranced my soul and lifted it to heaven  i also became a poet and for one year lived in a paradise of my own creation i imagined that i also might obtain a niche in the temple where the names of homer and shakespeare are consecrated  you are well acquainted with my failure and how heavily i bore the disappointment but just at that time i inherited the fortune of my cousin and my thoughts were turned into the channel of their earlier bent  six years have passed since i resolved on my present undertaking  i can even now remember the hour from which i dedicated myself to this great enterprise  i commenced by inuring my body to hardship  i accompanied the whalefishers on several expeditions to the north sea i voluntarily endured cold famine thirst and want of sleep i often worked harder than the common sailors during the day and devoted my nights to the study of mathematics the theory of medicine and those branches of physical science from which a naval adventurer might derive the greatest practical advantage  twice i actually hired myself as an undermate in a greenland whaler and acquitted myself to admiration i must own i felt a little proud when my captain offered me the second dignity in the vessel and entreated me to remain with the greatest earnestness so valuable did he consider my services  and now dear margaret do i not deserve to accomplish some great purpose my life might have been passed in ease and luxury but i preferred glory to every enticement that wealth placed in my path oh that some encouraging voice would answer in the affirmative my courage and my resolution is firm but my hopes fluctuate and my spirits are often depressed i am about to proceed on a long and difficult voyage the emergencies of which will demand all my fortitude i am required not only to raise the spirits of others but sometimes to sustain my own when theirs are failing  this is the most favourable period for travelling in russia  they fly quickly over the snow in their sledges the motion is pleasant and in my opinion far more agreeable than that of an english stagecoach  the cold is not excessive if you are wrapped in fursa dress which i have already adopted for there is a great difference between walking the deck and remaining seated motionless for hours when no exercise prevents the blood from actually freezing in your veins  i have no ambition to lose my life on the postroad between st petersburgh and archangel  i shall depart for the latter town in a fortnight or three weeks and my intention is to hire a ship there which can easily be done by paying the insurance for the owner and to engage as many sailors as i think necessary among those who are accustomed to the whalefishing i do not intend to sail until the month of june and when shall i return ah dear sister how can i answer this question if i succeed many many months perhaps years will pass before you and i may meet if i fail you will see me again soon or never  farewell my dear excellent margaret heaven shower down blessings on you and save me that i may again and again testify my gratitude for all your love and kindness  your affectionate brother  r walton'"
      ]
     },
     "execution_count": 22,
     "metadata": {},
     "output_type": "execute_result"
    }
   ],
   "source": [
    "no_numbers"
   ]
  },
  {
   "cell_type": "markdown",
   "metadata": {},
   "source": [
    "## 0-3. Remove stop words"
   ]
  },
  {
   "cell_type": "markdown",
   "metadata": {},
   "source": [
    "- Stop words usually refers to the most common words in a language\n",
    "    - No single universial stopwords\n",
    "    - Often stopwords are removed to improve the performance of NLP models\n",
    "    - https://en.wikipedia.org/wiki/Stop_words\n",
    "    - https://en.wikipedia.org/wiki/Most_common_words_in_English"
   ]
  },
  {
   "cell_type": "markdown",
   "metadata": {},
   "source": [
    "#### Import the list of stop words from ```spaCy```"
   ]
  },
  {
   "cell_type": "code",
   "execution_count": 23,
   "metadata": {},
   "outputs": [],
   "source": [
    "from spacy.lang.en.stop_words import STOP_WORDS"
   ]
  },
  {
   "cell_type": "code",
   "execution_count": 24,
   "metadata": {},
   "outputs": [
    {
     "data": {
      "text/plain": [
       "array({'front', 'used', 'although', 'besides', 'rather', 'off', 'regarding', 'since', 'but', 'itself', 'this', 'using', 'through', 'between', 'these', 'your', 'due', 'wherever', 'only', 'really', 'around', 'per', 'somewhere', 'eleven', 'seeming', 'via', 'empty', 'am', 'than', 'yours', 'doing', 'until', 'yet', 'becoming', 'own', 'more', 'whereby', 'while', 'everywhere', 'several', 'sometime', 'side', 'he', 'become', 'when', 'give', 'take', 'yourself', 'forty', 'within', 'first', 'among', 'others', 'back', 'serious', 'which', 'here', 'have', 'whatever', 'hence', 'a', 'him', 'fifteen', 'nowhere', 'seems', 'under', 'i', 'themselves', 'you', 'before', 'one', 'done', 'then', 'whereupon', 'indeed', 'either', 'name', 'down', 'as', 'seemed', 'well', 'is', 'would', 'bottom', 'least', 'move', 'where', 'eight', 'she', 'those', 'fifty', 'much', 'various', 'do', 'now', 'anything', 'about', 'hereafter', 'toward', 'twelve', 'last', 'make', 'no', 'if', 'onto', 'hereupon', 'or', 're', 'sometimes', 'please', 'an', 'not', 'hundred', 'himself', 'nor', 'of', 'ever', 'meanwhile', 'quite', 'moreover', 'their', 'upon', 'be', 'else', 'whereas', 'next', 'amount', 'top', 'though', 'every', 'what', 'the', 'together', 'whose', 'just', 'into', 'above', 'hereby', 'keep', 'herein', 'how', 'therefore', 'whether', 'are', 'for', 'his', 'nothing', 'formerly', 'wherein', 'such', 'on', 'against', 'too', 'thence', 'any', 'already', 'most', 'made', 'must', 'so', 'once', 'mostly', 'were', 'somehow', 'will', 'mine', 'ours', 'four', 'someone', 'we', 'without', 'whither', 'unless', 'thru', 'three', 'latterly', 'very', 'latter', 'almost', 'thereupon', 'put', 'over', 'they', 'why', 'me', 'behind', 'beyond', 'elsewhere', 'whereafter', 'show', 'it', 'up', 'beside', 'again', 'call', 'get', 'whole', 'from', 'whoever', 'perhaps', 'anyway', 'neither', 'there', 'everything', 'five', 'being', 'former', 'her', 'could', 'often', 'thereafter', 'full', 'third', 'may', 'was', 'below', 'say', 'to', 'therein', 'herself', 'ourselves', 'namely', 'anyone', 'ca', 'did', 'noone', 'except', 'our', 'has', 'its', 'six', 'go', 'each', 'had', 'nine', 'after', 'also', 'anywhere', 'amongst', 'throughout', 'whence', 'even', 'some', 'them', 'same', 'another', 'less', 'seem', 'further', 'us', 'nobody', 'none', 'thereby', 'always', 'my', 'out', 'yourselves', 'all', 'many', 'thus', 'whenever', 'alone', 'because', 'otherwise', 'sixty', 'still', 'afterwards', 'enough', 'becomes', 'towards', 'at', 'hers', 'in', 'something', 'does', 'and', 'everyone', 'by', 'cannot', 'few', 'see', 'twenty', 'whom', 'that', 'part', 'other', 'been', 'both', 'who', 'with', 'can', 'myself', 'along', 'should', 'two', 'across', 'during', 'however', 'might', 'ten', 'beforehand', 'became', 'never', 'anyhow', 'nevertheless'},\n",
       "      dtype=object)"
      ]
     },
     "execution_count": 24,
     "metadata": {},
     "output_type": "execute_result"
    }
   ],
   "source": [
    "np.array(STOP_WORDS)"
   ]
  },
  {
   "cell_type": "markdown",
   "metadata": {},
   "source": [
    "#### Goal: We are going to count the frequency of each word from the paragraph, to see which words can be used to represent the paragraph's content. "
   ]
  },
  {
   "cell_type": "markdown",
   "metadata": {},
   "source": [
    "#### What if we do not remove stopwords?"
   ]
  },
  {
   "cell_type": "code",
   "execution_count": 25,
   "metadata": {},
   "outputs": [],
   "source": [
    "from collections import Counter"
   ]
  },
  {
   "cell_type": "markdown",
   "metadata": {},
   "source": [
    "- Note that our paragraph is stored as a single string object..."
   ]
  },
  {
   "cell_type": "code",
   "execution_count": 26,
   "metadata": {},
   "outputs": [
    {
     "data": {
      "text/plain": [
       "'letter 1  to mrs saville england   st petersburgh dec 11th 17   you will rejoice to hear that no disaster has accompanied the commencement of an enterprise which you have regarded with such evil forebodings  i arrived here yesterday and my first task is to assure my dear sister of my welfare and increasing confidence in the success of my undertaking  i am already far north of london and as i walk in the streets of petersburgh i feel a cold northern breeze play upon my cheeks which braces my nerves and fills me with delight  do you understand this feeling  this breeze which has travelled from the regions towards which i am advancing gives me a foretaste of those icy climes inspirited by this wind of promise my daydreams become more fervent and vivid  i try in vain to be persuaded that the pole is the seat of frost and desolation it ever presents itself to my imagination as the region of beauty and delight  there margaret the sun is for ever visible its broad disk just skirting the horizon and diffusing a perpetual splendour  therefor with your leave my sister i will put some trust in preceding navigatorsthere snow and frost are banished and sailing over a calm sea we may be wafted to a land surpassing in wonders and in beauty every region hitherto discovered on the habitable globe  its productions and features may be without example as the phenomena of the heavenly bodies undoubtedly are in those undiscovered solitudes  what may not be expected in a country of eternal light  i may there discover the wondrous power which attracts the needle and may regulate a thousand celestial observations that require only this voyage to render their seeming eccentricities consistent for ever  i shall satiate my ardent curiosity with the sight of a part of the world never before visited and may tread a land never before imprinted by the foot of man these are my enticements and they are sufficient to conquer all fear of danger or death and to induce me to commence this laborious voyage with the joy a child feels when he embarks in a little boat with his holiday mates on an expedition of discovery up his native river but supposing all these conjectures to be false you cannot contest the inestimable benefit which i shall confer on all mankind to the last generation by discovering a passage near the pole to those countries to reach which at present so many months are requisite or by ascertaining the secret of the magnet which if at all possible can only be effected by an undertaking such as mine  these reflections have dispelled the agitation with which i began my letter and i feel my heart glow with an enthusiasm which elevates me to heaven for nothing contributes so much to tranquillise the mind as a steady purposea point on which the soul may fix its intellectual eye  this expedition has been the favourite dream of my early years i have read with ardour the accounts of the various voyages which have been made in the prospect of arriving at the north pacific ocean through the seas which surround the pole  you may remember that a history of all the voyages made for purposes of discovery composed the whole of our good uncle thomas library  my education was neglected yet i was passionately fond of reading  these volumes were my study day and night and my familiarity with them increased that regret which i had felt as a child on learning that my fathers dying injunction had forbidden my uncle to allow me to embark in a seafaring life  these visions faded when i perused for the first time those poets whose effusions entranced my soul and lifted it to heaven  i also became a poet and for one year lived in a paradise of my own creation i imagined that i also might obtain a niche in the temple where the names of homer and shakespeare are consecrated  you are well acquainted with my failure and how heavily i bore the disappointment but just at that time i inherited the fortune of my cousin and my thoughts were turned into the channel of their earlier bent  six years have passed since i resolved on my present undertaking  i can even now remember the hour from which i dedicated myself to this great enterprise  i commenced by inuring my body to hardship  i accompanied the whalefishers on several expeditions to the north sea i voluntarily endured cold famine thirst and want of sleep i often worked harder than the common sailors during the day and devoted my nights to the study of mathematics the theory of medicine and those branches of physical science from which a naval adventurer might derive the greatest practical advantage  twice i actually hired myself as an undermate in a greenland whaler and acquitted myself to admiration i must own i felt a little proud when my captain offered me the second dignity in the vessel and entreated me to remain with the greatest earnestness so valuable did he consider my services  and now dear margaret do i not deserve to accomplish some great purpose my life might have been passed in ease and luxury but i preferred glory to every enticement that wealth placed in my path oh that some encouraging voice would answer in the affirmative my courage and my resolution is firm but my hopes fluctuate and my spirits are often depressed i am about to proceed on a long and difficult voyage the emergencies of which will demand all my fortitude i am required not only to raise the spirits of others but sometimes to sustain my own when theirs are failing  this is the most favourable period for travelling in russia  they fly quickly over the snow in their sledges the motion is pleasant and in my opinion far more agreeable than that of an english stagecoach  the cold is not excessive if you are wrapped in fursa dress which i have already adopted for there is a great difference between walking the deck and remaining seated motionless for hours when no exercise prevents the blood from actually freezing in your veins  i have no ambition to lose my life on the postroad between st petersburgh and archangel  i shall depart for the latter town in a fortnight or three weeks and my intention is to hire a ship there which can easily be done by paying the insurance for the owner and to engage as many sailors as i think necessary among those who are accustomed to the whalefishing i do not intend to sail until the month of june and when shall i return ah dear sister how can i answer this question if i succeed many many months perhaps years will pass before you and i may meet if i fail you will see me again soon or never  farewell my dear excellent margaret heaven shower down blessings on you and save me that i may again and again testify my gratitude for all your love and kindness  your affectionate brother  r walton'"
      ]
     },
     "execution_count": 26,
     "metadata": {},
     "output_type": "execute_result"
    }
   ],
   "source": [
    "some_clean_text"
   ]
  },
  {
   "cell_type": "markdown",
   "metadata": {},
   "source": [
    "- Split the paragraph into a list of words"
   ]
  },
  {
   "cell_type": "code",
   "execution_count": 27,
   "metadata": {},
   "outputs": [],
   "source": [
    "words = some_clean_text.split()"
   ]
  },
  {
   "cell_type": "markdown",
   "metadata": {},
   "source": [
    "- Count the words from the list\n",
    "- Words that can occur in any kind of paragraphs...?"
   ]
  },
  {
   "cell_type": "code",
   "execution_count": 28,
   "metadata": {},
   "outputs": [
    {
     "data": {
      "text/plain": [
       "[('the', 67),\n",
       " ('i', 46),\n",
       " ('and', 44),\n",
       " ('my', 42),\n",
       " ('of', 36),\n",
       " ('to', 35),\n",
       " ('a', 26),\n",
       " ('in', 24),\n",
       " ('which', 19),\n",
       " ('that', 12)]"
      ]
     },
     "execution_count": 28,
     "metadata": {},
     "output_type": "execute_result"
    }
   ],
   "source": [
    "Counter(words).most_common(10)"
   ]
  },
  {
   "cell_type": "code",
   "execution_count": 29,
   "metadata": {},
   "outputs": [
    {
     "data": {
      "image/png": "[encoded data removed]",
      "text/plain": [
       "<Figure size 3240x720 with 1 Axes>"
      ]
     },
     "metadata": {
      "needs_background": "light"
     },
     "output_type": "display_data"
    }
   ],
   "source": [
    "plt.figure(figsize=(45,10))\n",
    "words = words[:100]\n",
    "sns.countplot(words, order=pd.Series(words).value_counts().index)\n",
    "# sns.countplot(words_nostop, order=[counted[0] for counted in Counter(words_nostop).most_common()])\n",
    "plt.xticks(rotation=90)\n",
    "plt.show()"
   ]
  },
  {
   "cell_type": "markdown",
   "metadata": {},
   "source": [
    "(double click the plot to enlarge)"
   ]
  },
  {
   "cell_type": "markdown",
   "metadata": {},
   "source": [
    "#### When we removed stopwords:"
   ]
  },
  {
   "cell_type": "code",
   "execution_count": 30,
   "metadata": {},
   "outputs": [],
   "source": [
    "# split sentence into words\n",
    "words_nostop = list()\n",
    "for word in words:\n",
    "    if word not in STOP_WORDS:\n",
    "        words_nostop.append(word)\n",
    "# words_nostop = [word for word in words if word not in STOP_WORDS]"
   ]
  },
  {
   "cell_type": "markdown",
   "metadata": {},
   "source": [
    "- More comprehensible, and unique list or words!"
   ]
  },
  {
   "cell_type": "code",
   "execution_count": 31,
   "metadata": {},
   "outputs": [
    {
     "data": {
      "text/plain": [
       "[('petersburgh', 2),\n",
       " ('letter', 1),\n",
       " ('1', 1),\n",
       " ('mrs', 1),\n",
       " ('saville', 1),\n",
       " ('england', 1),\n",
       " ('st', 1),\n",
       " ('dec', 1),\n",
       " ('11th', 1),\n",
       " ('17', 1)]"
      ]
     },
     "execution_count": 31,
     "metadata": {},
     "output_type": "execute_result"
    }
   ],
   "source": [
    "Counter(words_nostop).most_common(10)"
   ]
  },
  {
   "cell_type": "code",
   "execution_count": 32,
   "metadata": {},
   "outputs": [
    {
     "data": {
      "image/png": "[encoded data removed]",
      "text/plain": [
       "<Figure size 3240x720 with 1 Axes>"
      ]
     },
     "metadata": {
      "needs_background": "light"
     },
     "output_type": "display_data"
    }
   ],
   "source": [
    "plt.figure(figsize=(45,10))\n",
    "words_nostop = words_nostop[:100]\n",
    "sns.countplot(words_nostop, order=pd.Series(words_nostop).value_counts().index)\n",
    "# sns.countplot(words_nostop, order=[counted[0] for counted in Counter(words_nostop).most_common()])\n",
    "plt.xticks(rotation=90)\n",
    "plt.show()"
   ]
  },
  {
   "cell_type": "markdown",
   "metadata": {},
   "source": [
    "(double click the plot to enlarge)"
   ]
  },
  {
   "cell_type": "markdown",
   "metadata": {},
   "source": [
    "### <font color='magenta'> Q3. Based on the word frequency results, what was the letter about? </font>"
   ]
  },
  {
   "cell_type": "markdown",
   "metadata": {},
   "source": [
    "The letter was about someone or thing from a place called Peterserburgh, which may be in England. "
   ]
  },
  {
   "cell_type": "markdown",
   "metadata": {},
   "source": [
    "# 1. Extracting linguistic features from spaCy"
   ]
  },
  {
   "cell_type": "markdown",
   "metadata": {},
   "source": [
    "## 1-1. Tokenize\n",
    "- Token: a semantic unit for analysis\n",
    "    - (Loosely) equal term for word\n",
    "        - ```sent_low_pnct.split()```\n",
    "    - Tricky cases\n",
    "        - aren't $\\rightarrow$ ?\n",
    "        - O'Neil $\\rightarrow$ ?\n",
    "- In ```spaCy```:\n",
    "    - Many token types, like word, puntuation symbol, whitespace, etc."
   ]
  },
  {
   "cell_type": "markdown",
   "metadata": {},
   "source": [
    "### Let's disect the sentence!\n",
    "\n",
    "- initiating the ```spaCy``` object "
   ]
  },
  {
   "cell_type": "code",
   "execution_count": null,
   "metadata": {},
   "outputs": [],
   "source": [
    "# examples partially taken from https://nlpforhackers.io/complete-guide-to-spacy/\n",
    "import spacy\n",
    "nlp = spacy.load('en')"
   ]
  },
  {
   "cell_type": "markdown",
   "metadata": {},
   "source": [
    "- Our sentence: \"Hello World!\"\n",
    "    - Pass the sentence string to the ```spaCy``` object ```nlp```"
   ]
  },
  {
   "cell_type": "code",
   "execution_count": 33,
   "metadata": {},
   "outputs": [],
   "source": [
    "doc = nlp(\"Hello World!\")"
   ]
  },
  {
   "cell_type": "markdown",
   "metadata": {},
   "source": [
    "- The sentence is considered as a short document."
   ]
  },
  {
   "cell_type": "code",
   "execution_count": 34,
   "metadata": {},
   "outputs": [
    {
     "name": "stdout",
     "output_type": "stream",
     "text": [
      "<class 'spacy.tokens.doc.Doc'> Hello World!\n"
     ]
    }
   ],
   "source": [
    "print(type(doc), doc)"
   ]
  },
  {
   "cell_type": "markdown",
   "metadata": {},
   "source": [
    "- As importing the sentence string above, ```spaCy``` split the sentence into tokens (tokenization!)"
   ]
  },
  {
   "cell_type": "code",
   "execution_count": 35,
   "metadata": {},
   "outputs": [
    {
     "name": "stdout",
     "output_type": "stream",
     "text": [
      "0 Hello\n",
      "1 World\n",
      "2 !\n"
     ]
    }
   ],
   "source": [
    "for i,token in enumerate(doc):\n",
    "    print(i, token)"
   ]
  },
  {
   "cell_type": "markdown",
   "metadata": {},
   "source": [
    "- With index information (location from the sentence) of each token"
   ]
  },
  {
   "cell_type": "markdown",
   "metadata": {},
   "source": [
    "| 0 | 1 | 2 | 3 | 4 | 5 | 6 | 7 | 8 | 9 | 10| 11|\n",
    "|---|---|---|---|---|---|---|---|---|---|---|---|\n",
    "| H | e | l | l | o | _ | W | o | r | l | d | ! |"
   ]
  },
  {
   "cell_type": "code",
   "execution_count": 36,
   "metadata": {},
   "outputs": [
    {
     "name": "stdout",
     "output_type": "stream",
     "text": [
      "0 Hello 0\n",
      "1 World 6\n",
      "2 ! 11\n"
     ]
    }
   ],
   "source": [
    "for i, token in enumerate(doc):\n",
    "    print(i, token.text, token.idx) \n"
   ]
  },
  {
   "cell_type": "markdown",
   "metadata": {},
   "source": [
    "- And many more!\n",
    "    - https://spacy.io/api/token#attributes"
   ]
  },
  {
   "cell_type": "code",
   "execution_count": 37,
   "metadata": {},
   "outputs": [
    {
     "name": "stdout",
     "output_type": "stream",
     "text": [
      "text \t idx \t lemma \t lower \t is_punct \t is_space \t shape \t POS\n",
      "What\t0\twhat\twhat\tFalse\tFalse\tXxxx\tNOUN\n",
      "are\t5\tbe\tare\tFalse\tFalse\txxx\tVERB\n",
      "you\t9\t-PRON-\tyou\tFalse\tFalse\txxx\tPRON\n",
      "planning\t13\tplan\tplanning\tFalse\tFalse\txxxx\tVERB\n",
      "to\t22\tto\tto\tFalse\tFalse\txx\tPART\n",
      "do\t25\tdo\tdo\tFalse\tFalse\txx\tVERB\n",
      "during\t28\tduring\tduring\tFalse\tFalse\txxxx\tADP\n",
      "the\t35\tthe\tthe\tFalse\tFalse\txxx\tDET\n",
      "study\t39\tstudy\tstudy\tFalse\tFalse\txxxx\tNOUN\n",
      "break\t45\tbreak\tbreak\tFalse\tFalse\txxxx\tNOUN\n",
      "?\t50\t?\t?\tTrue\tFalse\t?\tPUNCT\n"
     ]
    }
   ],
   "source": [
    "doc = nlp(\"What are you planning to do during the study break?\")\n",
    "\n",
    "print(\"text \\t idx \\t lemma \\t lower \\t is_punct \\t is_space \\t shape \\t POS\")\n",
    "for token in doc:\n",
    "    print(\"{0}\\t{1}\\t{2}\\t{3}\\t{4}\\t{5}\\t{6}\\t{7}\".format(\n",
    "        token.text,\n",
    "        token.idx,\n",
    "        token.lemma_,\n",
    "        token.lower_,\n",
    "        token.is_punct,\n",
    "        token.is_space,\n",
    "        token.shape_,\n",
    "        token.pos_\n",
    "    ))\n"
   ]
  },
  {
   "cell_type": "markdown",
   "metadata": {},
   "source": [
    "## 1-2. Sentence detection"
   ]
  },
  {
   "cell_type": "markdown",
   "metadata": {},
   "source": [
    "- For the document with multiple sentences, we would need to separate between each sentences.\n",
    "- In ```spaCy```, the job is more convinient (and would cause less mistatkes) than using regular expression"
   ]
  },
  {
   "cell_type": "markdown",
   "metadata": {},
   "source": [
    "### <font color='magenta'> Q4. How would you separate sentences? What's your intuition? </font>"
   ]
  },
  {
   "cell_type": "markdown",
   "metadata": {},
   "source": [
    "With punctuation (period, exclamation point etc)"
   ]
  },
  {
   "cell_type": "markdown",
   "metadata": {},
   "source": [
    "- Our multiple sentence document: "
   ]
  },
  {
   "cell_type": "code",
   "execution_count": 39,
   "metadata": {},
   "outputs": [],
   "source": [
    "doc_multsent = \"\"\"Now she had got a start, and she went on and told me all about the good\n",
    "place.  She said all a body would have to do there was to go around all\n",
    "day long with a harp and sing, forever and ever.  So I didn't think\n",
    "much of it. But I never said so.  I asked her if she reckoned Tom Sawyer\n",
    "would go there, and she said not by a considerable sight.  I was glad\n",
    "about that, because I wanted him and me to be together.\"\"\""
   ]
  },
  {
   "cell_type": "markdown",
   "metadata": {},
   "source": [
    "- using regular expressions..."
   ]
  },
  {
   "cell_type": "code",
   "execution_count": 40,
   "metadata": {},
   "outputs": [
    {
     "name": "stdout",
     "output_type": "stream",
     "text": [
      "0 Now she had got a start, and she went on and told me all about the good\n",
      "place.\n",
      "1  She said all a body would have to do there was to go around all\n",
      "day long with a harp and sing, forever and ever.\n",
      "2  So I didn't think\n",
      "much of it.\n",
      "3 But I never said so.\n",
      "4  I asked her if she reckoned Tom Sawyer\n",
      "would go there, and she said not by a considerable sight.\n",
      "5  I was glad\n",
      "about that, because I wanted him and me to be together.\n"
     ]
    }
   ],
   "source": [
    "import re\n",
    "sentences = re.split(r\"(?<!\\w\\.\\w.)(?<![A-Z][a-z]\\.)(?<=\\.|\\?)\\s\", doc_multsent) # how would I remember this pattern without Google/StackOverflow?\n",
    "for i, sent in enumerate(sentences):\n",
    "    print(i, sent)"
   ]
  },
  {
   "cell_type": "markdown",
   "metadata": {},
   "source": [
    "- in ```spaCy```!"
   ]
  },
  {
   "cell_type": "code",
   "execution_count": 41,
   "metadata": {},
   "outputs": [],
   "source": [
    "# same document, but initiate as the spaCy object...\n",
    "doc = nlp(doc_multsent)"
   ]
  },
  {
   "cell_type": "markdown",
   "metadata": {},
   "source": [
    "- Sentences are stored as a generator object\n",
    "    - Instead of storing sentences as a list, each sentence is stored as a item in the generator object \n",
    "    - Iteratable (i.e., can be used in a for loop)\n",
    "    - More efficient memory use\n",
    "    - https://wiki.python.org/moin/Generators"
   ]
  },
  {
   "cell_type": "code",
   "execution_count": 42,
   "metadata": {},
   "outputs": [
    {
     "data": {
      "text/plain": [
       "<generator at 0x1a1d4262f0>"
      ]
     },
     "execution_count": 42,
     "metadata": {},
     "output_type": "execute_result"
    }
   ],
   "source": [
    "doc.sents"
   ]
  },
  {
   "cell_type": "markdown",
   "metadata": {},
   "source": [
    "- Printing sentences with the index number"
   ]
  },
  {
   "cell_type": "code",
   "execution_count": 43,
   "metadata": {},
   "outputs": [
    {
     "name": "stdout",
     "output_type": "stream",
     "text": [
      "0 Now she had got a start, and she went on and told me all about the good\n",
      "place.  \n",
      "1 She said all a body would have to do there was to go around all\n",
      "day long with a harp and sing, forever and ever.  \n",
      "2 So I didn't think\n",
      "much of it.\n",
      "3 But I never said so.  \n",
      "4 I asked her if she reckoned Tom Sawyer\n",
      "would go there, and she said not by a considerable sight.  \n",
      "5 I was glad\n",
      "about that, because I wanted him and me to be together.\n"
     ]
    }
   ],
   "source": [
    "for i, sent in enumerate(doc.sents):\n",
    "    print(i, sent)"
   ]
  },
  {
   "cell_type": "markdown",
   "metadata": {},
   "source": [
    "### <font color='magenta'> Q5. Separate sentences in the letter from Frankenstein, and print sentences with the index number. </font>\n",
    "(remember, the letter is in the variable ```some_text```)"
   ]
  },
  {
   "cell_type": "code",
   "execution_count": 45,
   "metadata": {},
   "outputs": [
    {
     "name": "stdout",
     "output_type": "stream",
     "text": [
      "0 Letter 1\n",
      "\n",
      "_\n",
      "1 To Mrs. Saville, England.\n",
      "2 _\n",
      "\n",
      "\n",
      "St. Petersburgh, Dec. 11th, 17—.\n",
      "\n",
      "\n",
      "\n",
      "3 You will rejoice to hear that no disaster has accompanied the\n",
      "commencement of an enterprise which you have regarded with such evil\n",
      "forebodings.  \n",
      "4 I arrived here yesterday, and my first task is to assure\n",
      "my dear sister of my welfare and increasing confidence in the success\n",
      "of my undertaking.\n",
      "\n",
      "\n",
      "5 I am already far north of London, and as I walk in the streets of\n",
      "Petersburgh, I feel a cold northern breeze play upon my cheeks, which\n",
      "braces my nerves and fills me with delight.  \n",
      "6 Do you understand this\n",
      "feeling?  \n",
      "7 This breeze, which has travelled from the regions towards\n",
      "which I am advancing, gives me a foretaste of those icy climes.\n",
      "\n",
      "8 Inspirited by this wind of promise, my daydreams become more fervent\n",
      "and vivid.  \n",
      "9 I try in vain to be persuaded that the pole is the seat of\n",
      "frost and desolation; it ever presents itself to my imagination as the\n",
      "region of beauty and delight.  \n",
      "10 There, Margaret, the sun is for ever\n",
      "visible, its broad disk just skirting the horizon and diffusing a\n",
      "perpetual splendour.  \n",
      "11 There—for with your leave, my sister, I will put\n",
      "some trust in preceding navigators—there snow and frost are banished;\n",
      "and, sailing over a calm sea, we may be wafted to a land surpassing in\n",
      "wonders and in beauty every region hitherto discovered on the habitable\n",
      "globe.  \n",
      "12 Its productions and features may be without example, as the\n",
      "phenomena of the heavenly bodies undoubtedly are in those undiscovered\n",
      "solitudes.  \n",
      "13 What may not be expected in a country of eternal light?  \n",
      "14 I\n",
      "may there discover the wondrous power which attracts the needle and may\n",
      "regulate a thousand celestial observations that require only this\n",
      "voyage to render their seeming eccentricities consistent for ever.  \n",
      "15 I\n",
      "shall satiate my ardent curiosity with the sight of a part of the world\n",
      "never before visited, and may tread a land never before imprinted by\n",
      "the foot of man.\n",
      "16 These are my enticements, and they are sufficient to\n",
      "conquer all fear of danger or death and to induce me to commence this\n",
      "laborious voyage with the joy a child feels when he embarks in a little\n",
      "boat, with his holiday mates, on an expedition of discovery up his\n",
      "native river.\n",
      "17 But supposing all these conjectures to be false, you\n",
      "cannot contest the inestimable benefit which I shall confer on all\n",
      "mankind, to the last generation, by discovering a passage near the pole\n",
      "to those countries, to reach which at present so many months are\n",
      "requisite; or by ascertaining the secret of the magnet, which, if at\n",
      "all possible, can only be effected by an undertaking such as mine.\n",
      "\n",
      "\n",
      "18 These reflections have dispelled the agitation with which I began my\n",
      "letter, and I feel my heart glow with an enthusiasm which elevates me\n",
      "to heaven, for nothing contributes so much to tranquillise the mind as\n",
      "a steady purpose—a point on which the soul may fix its intellectual\n",
      "eye.  \n",
      "19 This expedition has been the favourite dream of my early years.\n",
      "20 I\n",
      "have read with ardour the accounts of the various voyages which have\n",
      "been made in the prospect of arriving at the North Pacific Ocean\n",
      "through the seas which surround the pole.  \n",
      "21 You may remember that a\n",
      "history of all the voyages made for purposes of discovery composed the\n",
      "whole of our good Uncle Thomas’ library.  \n",
      "22 My education was neglected,\n",
      "yet I was passionately fond of reading.  \n",
      "23 These volumes were my study\n",
      "day and night, and my familiarity with them increased that regret which\n",
      "I had felt, as a child, on learning that my father’s dying injunction\n",
      "had forbidden my uncle to allow me to embark in a seafaring life.\n",
      "\n",
      "\n",
      "24 These visions faded when I perused, for the first time, those poets\n",
      "whose effusions entranced my soul and lifted it to heaven.  \n",
      "25 I also\n",
      "became a poet and for one year lived in a paradise of my own creation;\n",
      "I imagined that I also might obtain a niche in the temple where the\n",
      "names of Homer and Shakespeare are consecrated.  \n",
      "26 You are well\n",
      "acquainted with my failure and how heavily I bore the disappointment.\n",
      "\n",
      "27 But just at that time I inherited the fortune of my cousin, and my\n",
      "thoughts were turned into the channel of their earlier bent.\n",
      "\n",
      "\n",
      "28 Six years have passed since I resolved on my present undertaking.  \n",
      "29 I\n",
      "can, even now, remember the hour from which I dedicated myself to this\n",
      "great enterprise.  \n",
      "30 I commenced by inuring my body to hardship.  \n",
      "31 I\n",
      "accompanied the whale-fishers on several expeditions to the North Sea;\n",
      "I voluntarily endured cold, famine, thirst, and want of sleep; I often\n",
      "worked harder than the common sailors during the day and devoted my\n",
      "nights to the study of mathematics, the theory of medicine, and those\n",
      "branches of physical science from which a naval adventurer might derive\n",
      "the greatest practical advantage.  \n",
      "32 Twice I actually hired myself as an\n",
      "under-mate in a Greenland whaler, and acquitted myself to admiration.\n",
      "33 I\n",
      "must own I felt a little proud when my captain offered me the second\n",
      "dignity in the vessel and entreated me to remain with the greatest\n",
      "earnestness, so valuable did he consider my services.\n",
      "\n",
      "\n",
      "34 And now, dear Margaret, do I not deserve to accomplish some great purpose?\n",
      "\n",
      "35 My life might have been passed in ease and luxury, but I preferred glory to\n",
      "every enticement that wealth placed in my path.\n",
      "36 Oh, that some encouraging\n",
      "voice would answer in the affirmative!\n",
      "37 My courage and my resolution is\n",
      "firm; but my hopes fluctuate, and my spirits are often depressed.\n",
      "38 I am\n",
      "about to proceed on a long and difficult voyage, the emergencies of which\n",
      "will demand all my fortitude: I am required not only to raise the spirits\n",
      "of others, but sometimes to sustain my own, when theirs are failing.\n",
      "\n",
      "\n",
      "39 This is the most favourable period for travelling in Russia.  \n",
      "40 They fly\n",
      "quickly over the snow in their sledges; the motion is pleasant, and, in\n",
      "my opinion, far more agreeable than that of an English stagecoach.  \n",
      "41 The\n",
      "cold is not excessive, if you are wrapped in furs—a dress which I have\n",
      "already adopted, for there is a great difference between walking the\n",
      "deck and remaining seated motionless for hours, when no exercise\n",
      "prevents the blood from actually freezing in your veins.  \n",
      "42 I have no\n",
      "ambition to lose my life on the post-road between St. Petersburgh and\n",
      "Archangel.\n",
      "\n",
      "\n",
      "43 I shall depart for the latter town in a fortnight or three weeks; and my\n",
      "intention is to hire a ship there, which can easily be done by paying the\n",
      "insurance for the owner, and to engage as many sailors as I think necessary\n",
      "among those who are accustomed to the whale-fishing.\n",
      "44 I do not intend to\n",
      "sail until the month of June; and when shall I return?\n",
      "45 Ah, dear sister, how\n",
      "can I answer this question?\n",
      "46 If I succeed, many, many months, perhaps years,\n",
      "will pass before you and I may meet.\n",
      "47 If I fail, you will see me again soon,\n",
      "or never.\n",
      "\n",
      "\n",
      "48 Farewell, my dear, excellent Margaret.\n",
      "49 Heaven shower down blessings on you,\n",
      "and save me, that I may again and again testify my gratitude for all your\n",
      "love and kindness.\n",
      "\n",
      "\n",
      "50 Your affectionate brother,\n",
      "\n",
      "R. Walton\n"
     ]
    }
   ],
   "source": [
    "frank = nlp(some_text)\n",
    "for i, sent in enumerate(frank.sents):\n",
    "    print(i, sent)"
   ]
  },
  {
   "cell_type": "markdown",
   "metadata": {},
   "source": [
    "## 1-3. POS tagging"
   ]
  },
  {
   "cell_type": "markdown",
   "metadata": {},
   "source": [
    "- I want to find words with particular part-of-speech!\n",
    "- Different part-of-speech words carry different information\n",
    "    - e.g., noun (subject), verb (action term), adjective (quality of the object) \n",
    "- https://spacy.io/api/annotation#pos-tagging"
   ]
  },
  {
   "cell_type": "markdown",
   "metadata": {},
   "source": [
    "- Yelp review!"
   ]
  },
  {
   "cell_type": "code",
   "execution_count": null,
   "metadata": {},
   "outputs": [],
   "source": [
    "# from https://www.yelp.com/biz/ajishin-novi?hrid=juA4Zn2TX7845vNFn4syBQ&utm_campaign=www_review_share_popup&utm_medium=copy_link&utm_source=(direct)\n",
    "doc = nlp(\"\"\"One of the best Japanese restaurants in Novi. Simple food, great taste, amazingly price. I visit this place a least twice month.\"\"\")"
   ]
  },
  {
   "cell_type": "markdown",
   "metadata": {},
   "source": [
    "###  What can you infer from this review? \n",
    "- What type of the restaurant?\n",
    "- Location?\n",
    "- What did the reviewer liked about?\n",
    "- How often did the person visit the place?\n",
    "- Any other information?"
   ]
  },
  {
   "cell_type": "markdown",
   "metadata": {},
   "source": [
    "- multiple sentences exist in a document"
   ]
  },
  {
   "cell_type": "code",
   "execution_count": 46,
   "metadata": {},
   "outputs": [
    {
     "name": "stdout",
     "output_type": "stream",
     "text": [
      "0 Now she had got a start, and she went on and told me all about the good\n",
      "place.  \n",
      "1 She said all a body would have to do there was to go around all\n",
      "day long with a harp and sing, forever and ever.  \n",
      "2 So I didn't think\n",
      "much of it.\n",
      "3 But I never said so.  \n",
      "4 I asked her if she reckoned Tom Sawyer\n",
      "would go there, and she said not by a considerable sight.  \n",
      "5 I was glad\n",
      "about that, because I wanted him and me to be together.\n"
     ]
    }
   ],
   "source": [
    "for i, sent in enumerate(doc.sents):\n",
    "    print(i, sent)"
   ]
  },
  {
   "cell_type": "markdown",
   "metadata": {},
   "source": [
    "- Question: which words are adjectives (ADJ)?"
   ]
  },
  {
   "cell_type": "code",
   "execution_count": 48,
   "metadata": {},
   "outputs": [
    {
     "name": "stdout",
     "output_type": "stream",
     "text": [
      "__sentence__: 0\n",
      "_token_ \t _POS_\n",
      "Now \t\t ADV\n",
      "she \t\t PRON\n",
      "had \t\t VERB\n",
      "got \t\t VERB\n",
      "a \t\t DET\n",
      "start \t\t NOUN\n",
      ", \t\t PUNCT\n",
      "and \t\t CCONJ\n",
      "she \t\t PRON\n",
      "went \t\t VERB\n",
      "on \t\t PART\n",
      "and \t\t CCONJ\n",
      "told \t\t VERB\n",
      "me \t\t PRON\n",
      "all \t\t ADV\n",
      "about \t\t ADP\n",
      "the \t\t DET\n",
      "good \t\t ADJ\n",
      "\n",
      " \t\t SPACE\n",
      "place \t\t NOUN\n",
      ". \t\t PUNCT\n",
      "  \t\t SPACE\n",
      "__sentence__: 1\n",
      "_token_ \t _POS_\n",
      "She \t\t PRON\n",
      "said \t\t VERB\n",
      "all \t\t ADJ\n",
      "a \t\t DET\n",
      "body \t\t NOUN\n",
      "would \t\t VERB\n",
      "have \t\t VERB\n",
      "to \t\t PART\n",
      "do \t\t VERB\n",
      "there \t\t ADV\n",
      "was \t\t VERB\n",
      "to \t\t PART\n",
      "go \t\t VERB\n",
      "around \t\t ADP\n",
      "all \t\t DET\n",
      "\n",
      " \t\t SPACE\n",
      "day \t\t NOUN\n",
      "long \t\t ADV\n",
      "with \t\t ADP\n",
      "a \t\t DET\n",
      "harp \t\t NOUN\n",
      "and \t\t CCONJ\n",
      "sing \t\t VERB\n",
      ", \t\t PUNCT\n",
      "forever \t\t ADV\n",
      "and \t\t CCONJ\n",
      "ever \t\t ADV\n",
      ". \t\t PUNCT\n",
      "  \t\t SPACE\n",
      "__sentence__: 2\n",
      "_token_ \t _POS_\n",
      "So \t\t ADV\n",
      "I \t\t PRON\n",
      "did \t\t VERB\n",
      "n't \t\t ADV\n",
      "think \t\t VERB\n",
      "\n",
      " \t\t SPACE\n",
      "much \t\t ADJ\n",
      "of \t\t ADP\n",
      "it \t\t PRON\n",
      ". \t\t PUNCT\n",
      "__sentence__: 3\n",
      "_token_ \t _POS_\n",
      "But \t\t CCONJ\n",
      "I \t\t PRON\n",
      "never \t\t ADV\n",
      "said \t\t VERB\n",
      "so \t\t ADV\n",
      ". \t\t PUNCT\n",
      "  \t\t SPACE\n",
      "__sentence__: 4\n",
      "_token_ \t _POS_\n",
      "I \t\t PRON\n",
      "asked \t\t VERB\n",
      "her \t\t PRON\n",
      "if \t\t ADP\n",
      "she \t\t PRON\n",
      "reckoned \t\t VERB\n",
      "Tom \t\t PROPN\n",
      "Sawyer \t\t PROPN\n",
      "\n",
      " \t\t SPACE\n",
      "would \t\t VERB\n",
      "go \t\t VERB\n",
      "there \t\t ADV\n",
      ", \t\t PUNCT\n",
      "and \t\t CCONJ\n",
      "she \t\t PRON\n",
      "said \t\t VERB\n",
      "not \t\t ADV\n",
      "by \t\t ADP\n",
      "a \t\t DET\n",
      "considerable \t\t ADJ\n",
      "sight \t\t NOUN\n",
      ". \t\t PUNCT\n",
      "  \t\t SPACE\n",
      "__sentence__: 5\n",
      "_token_ \t _POS_\n",
      "I \t\t PRON\n",
      "was \t\t VERB\n",
      "glad \t\t ADJ\n",
      "\n",
      " \t\t SPACE\n",
      "about \t\t ADP\n",
      "that \t\t DET\n",
      ", \t\t PUNCT\n",
      "because \t\t ADP\n",
      "I \t\t PRON\n",
      "wanted \t\t VERB\n",
      "him \t\t PRON\n",
      "and \t\t CCONJ\n",
      "me \t\t PRON\n",
      "to \t\t PART\n",
      "be \t\t VERB\n",
      "together \t\t ADV\n",
      ". \t\t PUNCT\n"
     ]
    }
   ],
   "source": [
    "for i, sent in enumerate(doc.sents):\n",
    "    print(\"__sentence__:\", i)\n",
    "    print(\"_token_ \\t _POS_\")\n",
    "    for token in sent:\n",
    "        print(token.text, \"\\t\\t\", token.pos_)"
   ]
  },
  {
   "cell_type": "markdown",
   "metadata": {},
   "source": [
    "- And dependency relationships also can be extracted as strings"
   ]
  },
  {
   "cell_type": "code",
   "execution_count": 49,
   "metadata": {},
   "outputs": [
    {
     "name": "stdout",
     "output_type": "stream",
     "text": [
      "\"Now\",  ADV [got] advmod\n",
      "\"she\",  PRON [got] nsubj\n",
      "\"had\",  VERB [got] aux\n",
      "\"got\",  VERB [] ROOT\n",
      "\"a\",  DET [start, got] det\n",
      "\"start\",  NOUN [got] dobj\n",
      "\",\",  PUNCT [got] punct\n",
      "\"and\",  CCONJ [got] cc\n",
      "\"she\",  PRON [went, got] nsubj\n",
      "\"went\",  VERB [got] conj\n",
      "\"on\",  PART [went, got] prt\n",
      "\"and\",  CCONJ [went, got] cc\n",
      "\"told\",  VERB [went, got] conj\n",
      "\"me\",  PRON [told, went, got] dative\n",
      "\"all\",  ADV [about, told, went, got] advmod\n",
      "\"about\",  ADP [told, went, got] prep\n",
      "\"the\",  DET [place, about, told, went, got] det\n",
      "\"good\",  ADJ [place, about, told, went, got] amod\n",
      "\"\n",
      "\",  SPACE [good, place, about, told, went, got] \n",
      "\"place\",  NOUN [about, told, went, got] pobj\n",
      "\".\",  PUNCT [went, got] punct\n",
      "\" \",  SPACE [., went, got] \n",
      "\"She\",  PRON [said] nsubj\n",
      "\"said\",  VERB [] ROOT\n",
      "\"all\",  ADJ [body, have, said] predet\n",
      "\"a\",  DET [body, have, said] det\n",
      "\"body\",  NOUN [have, said] nsubj\n",
      "\"would\",  VERB [have, said] aux\n",
      "\"have\",  VERB [said] ccomp\n",
      "\"to\",  PART [do, have, said] aux\n",
      "\"do\",  VERB [have, said] xcomp\n",
      "\"there\",  ADV [was, do, have, said] expl\n",
      "\"was\",  VERB [do, have, said] ccomp\n",
      "\"to\",  PART [go, was, do, have, said] aux\n",
      "\"go\",  VERB [was, do, have, said] xcomp\n",
      "\"around\",  ADP [all, day, long, go, was, do, have, said] advmod\n",
      "\"all\",  DET [day, long, go, was, do, have, said] det\n",
      "\"\n",
      "\",  SPACE [all, day, long, go, was, do, have, said] \n",
      "\"day\",  NOUN [long, go, was, do, have, said] npadvmod\n",
      "\"long\",  ADV [go, was, do, have, said] advmod\n",
      "\"with\",  ADP [go, was, do, have, said] prep\n",
      "\"a\",  DET [harp, with, go, was, do, have, said] det\n",
      "\"harp\",  NOUN [with, go, was, do, have, said] pobj\n",
      "\"and\",  CCONJ [harp, with, go, was, do, have, said] cc\n",
      "\"sing\",  VERB [harp, with, go, was, do, have, said] conj\n",
      "\",\",  PUNCT [go, was, do, have, said] punct\n",
      "\"forever\",  ADV [go, was, do, have, said] advmod\n",
      "\"and\",  CCONJ [forever, go, was, do, have, said] cc\n",
      "\"ever\",  ADV [forever, go, was, do, have, said] conj\n",
      "\".\",  PUNCT [said] punct\n",
      "\" \",  SPACE [., said] \n",
      "\"So\",  ADV [think] advmod\n",
      "\"I\",  PRON [think] nsubj\n",
      "\"did\",  VERB [think] aux\n",
      "\"n't\",  ADV [think] neg\n",
      "\"think\",  VERB [] ROOT\n",
      "\"\n",
      "\",  SPACE [think] \n",
      "\"much\",  ADJ [think] advmod\n",
      "\"of\",  ADP [much, think] prep\n",
      "\"it\",  PRON [of, much, think] pobj\n",
      "\".\",  PUNCT [think] punct\n",
      "\"But\",  CCONJ [said] cc\n",
      "\"I\",  PRON [said] nsubj\n",
      "\"never\",  ADV [said] neg\n",
      "\"said\",  VERB [] ROOT\n",
      "\"so\",  ADV [said] advmod\n",
      "\".\",  PUNCT [said] punct\n",
      "\" \",  SPACE [., said] \n",
      "\"I\",  PRON [asked] nsubj\n",
      "\"asked\",  VERB [] ROOT\n",
      "\"her\",  PRON [asked] dobj\n",
      "\"if\",  ADP [reckoned, asked] mark\n",
      "\"she\",  PRON [reckoned, asked] nsubj\n",
      "\"reckoned\",  VERB [asked] advcl\n",
      "\"Tom\",  PROPN [Sawyer, reckoned, asked] compound\n",
      "\"Sawyer\",  PROPN [reckoned, asked] dobj\n",
      "\"\n",
      "\",  SPACE [Sawyer, reckoned, asked] \n",
      "\"would\",  VERB [go, reckoned, asked] aux\n",
      "\"go\",  VERB [reckoned, asked] conj\n",
      "\"there\",  ADV [go, reckoned, asked] advmod\n",
      "\",\",  PUNCT [asked] punct\n",
      "\"and\",  CCONJ [asked] cc\n",
      "\"she\",  PRON [said, asked] nsubj\n",
      "\"said\",  VERB [asked] conj\n",
      "\"not\",  ADV [said, asked] neg\n",
      "\"by\",  ADP [said, asked] prep\n",
      "\"a\",  DET [sight, by, said, asked] det\n",
      "\"considerable\",  ADJ [sight, by, said, asked] amod\n",
      "\"sight\",  NOUN [by, said, asked] pobj\n",
      "\".\",  PUNCT [said, asked] punct\n",
      "\" \",  SPACE [., said, asked] \n",
      "\"I\",  PRON [was] nsubj\n",
      "\"was\",  VERB [] ROOT\n",
      "\"glad\",  ADJ [was] acomp\n",
      "\"\n",
      "\",  SPACE [glad, was] \n",
      "\"about\",  ADP [glad, was] prep\n",
      "\"that\",  DET [about, glad, was] pobj\n",
      "\",\",  PUNCT [was] punct\n",
      "\"because\",  ADP [wanted, was] mark\n",
      "\"I\",  PRON [wanted, was] nsubj\n",
      "\"wanted\",  VERB [was] advcl\n",
      "\"him\",  PRON [be, wanted, was] nsubj\n",
      "\"and\",  CCONJ [him, be, wanted, was] cc\n",
      "\"me\",  PRON [him, be, wanted, was] conj\n",
      "\"to\",  PART [be, wanted, was] aux\n",
      "\"be\",  VERB [wanted, was] ccomp\n",
      "\"together\",  ADV [be, wanted, was] advmod\n",
      "\".\",  PUNCT [was] punct\n"
     ]
    }
   ],
   "source": [
    "for token in doc:\n",
    "    print('\"' + token.text + '\", ', token.pos_, list(token.ancestors), (token.dep_))"
   ]
  },
  {
   "cell_type": "markdown",
   "metadata": {},
   "source": [
    "```spaCy``` follows the ```ClearNLP``` annotations for dependency parsing\n",
    "- https://github.com/clir/clearnlp-guidelines/blob/master/md/specifications/dependency_labels.md"
   ]
  },
  {
   "cell_type": "markdown",
   "metadata": {},
   "source": [
    "# 2. Word embedding"
   ]
  },
  {
   "cell_type": "markdown",
   "metadata": {},
   "source": [
    "- So far, we seen how we can extract some interesting syntactic characteristics from text from using ```spacy```\n",
    "- It extracted the characteristics, but did not indicate what it means\n",
    "- Can machines understand semantic relationship between words?"
   ]
  },
  {
   "cell_type": "markdown",
   "metadata": {},
   "source": [
    "- Distributional semantics\n",
    "    - Representing semantic information of words in a geometric semantic space\n",
    "        - Different relationship between words: explained by geometric relationship between words \n",
    "        - e.g., Related words are located closer to each other; \n",
    "    - And it's often called as *word embedding*"
   ]
  },
  {
   "cell_type": "markdown",
   "metadata": {},
   "source": [
    "#### Word2Vec\n",
    "- Developed by [Mikolov et al., 2013](https://papers.nips.cc/paper/5021-distributed-representations-of-words-and-phrases-and-their-compositionality.pdf)\n",
    "- Represent the meaning of the words as a vector\n",
    "    - Vector: numeric array\n",
    "    - Output of a neural network model that predicts the next word\n",
    "- Surprisingly, many different semantic informations can be represented from word vectors of ```Word2Vec```\n",
    "- (More explanation in here: https://www.tensorflow.org/tutorials/representation/word2vec)"
   ]
  },
  {
   "cell_type": "markdown",
   "metadata": {},
   "source": [
    "<img src=\"https://www.tensorflow.org/images/softmax-nplm.png\" width=\"400\">"
   ]
  },
  {
   "cell_type": "markdown",
   "metadata": {},
   "source": [
    "![](https://www.tensorflow.org/images/linear-relationships.png)"
   ]
  },
  {
   "cell_type": "markdown",
   "metadata": {},
   "source": [
    "### Let's try with some example: words in a semantic space\n",
    "$\\rightarrow$ https://projector.tensorflow.org"
   ]
  },
  {
   "cell_type": "markdown",
   "metadata": {},
   "source": [
    "### <font color='red'> Q6. Any interesting findings from TensorFlow Projector page? </font>"
   ]
  },
  {
   "cell_type": "markdown",
   "metadata": {},
   "source": [
    "It works pretty successfully. For example the word government attaches to words like \"politics, laws, officials.\" "
   ]
  },
  {
   "cell_type": "markdown",
   "metadata": {},
   "source": [
    "# WE MIGHT RUN OUT OF TIME, SO THIS IS AN APPROPRIATE PLACE TO STOP"
   ]
  },
  {
   "cell_type": "markdown",
   "metadata": {},
   "source": [
    "## OK. Let's try some more details in our local machines!\n",
    "- Download the [pretrained model](https://drive.google.com/open?id=10GXpuviDJVa-k8ZmiYX3BVABNDRaA6tg)\n",
    "- We are using [gensim](https://radimrehurek.com/gensim/) package this time"
   ]
  },
  {
   "cell_type": "code",
   "execution_count": 50,
   "metadata": {},
   "outputs": [
    {
     "name": "stdout",
     "output_type": "stream",
     "text": [
      "Collecting package metadata: done\n",
      "Solving environment: done\n",
      "\n",
      "# All requested packages already installed.\n",
      "\n"
     ]
    }
   ],
   "source": [
    "! conda install -y gensim"
   ]
  },
  {
   "cell_type": "code",
   "execution_count": 51,
   "metadata": {},
   "outputs": [],
   "source": [
    "import gensim"
   ]
  },
  {
   "cell_type": "code",
   "execution_count": 52,
   "metadata": {},
   "outputs": [
    {
     "ename": "FileNotFoundError",
     "evalue": "[Errno 2] No such file or directory: 'data/GoogleNews-vectors-negative300-SLIM.bin'",
     "output_type": "error",
     "traceback": [
      "\u001b[0;31m---------------------------------------------------------------------------\u001b[0m",
      "\u001b[0;31mFileNotFoundError\u001b[0m                         Traceback (most recent call last)",
      "\u001b[0;32m<ipython-input-52-be8ccd27c4db>\u001b[0m in \u001b[0;36m<module>\u001b[0;34m\u001b[0m\n\u001b[1;32m      2\u001b[0m \u001b[0;31m# from https://github.com/eyaler/word2vec-slim\u001b[0m\u001b[0;34m\u001b[0m\u001b[0;34m\u001b[0m\u001b[0;34m\u001b[0m\u001b[0m\n\u001b[1;32m      3\u001b[0m \u001b[0;31m# and you can load it with the following command:\u001b[0m\u001b[0;34m\u001b[0m\u001b[0;34m\u001b[0m\u001b[0;34m\u001b[0m\u001b[0m\n\u001b[0;32m----> 4\u001b[0;31m \u001b[0mw2v_mod\u001b[0m \u001b[0;34m=\u001b[0m \u001b[0mgensim\u001b[0m\u001b[0;34m.\u001b[0m\u001b[0mmodels\u001b[0m\u001b[0;34m.\u001b[0m\u001b[0mKeyedVectors\u001b[0m\u001b[0;34m.\u001b[0m\u001b[0mload_word2vec_format\u001b[0m\u001b[0;34m(\u001b[0m\u001b[0;34m\"data/GoogleNews-vectors-negative300-SLIM.bin\"\u001b[0m\u001b[0;34m,\u001b[0m \u001b[0mbinary\u001b[0m\u001b[0;34m=\u001b[0m\u001b[0;32mTrue\u001b[0m\u001b[0;34m)\u001b[0m\u001b[0;34m\u001b[0m\u001b[0;34m\u001b[0m\u001b[0m\n\u001b[0m",
      "\u001b[0;32m/anaconda3/lib/python3.6/site-packages/gensim/models/keyedvectors.py\u001b[0m in \u001b[0;36mload_word2vec_format\u001b[0;34m(cls, fname, fvocab, binary, encoding, unicode_errors, limit, datatype)\u001b[0m\n\u001b[1;32m   1117\u001b[0m         return _load_word2vec_format(\n\u001b[1;32m   1118\u001b[0m             \u001b[0mWord2VecKeyedVectors\u001b[0m\u001b[0;34m,\u001b[0m \u001b[0mfname\u001b[0m\u001b[0;34m,\u001b[0m \u001b[0mfvocab\u001b[0m\u001b[0;34m=\u001b[0m\u001b[0mfvocab\u001b[0m\u001b[0;34m,\u001b[0m \u001b[0mbinary\u001b[0m\u001b[0;34m=\u001b[0m\u001b[0mbinary\u001b[0m\u001b[0;34m,\u001b[0m \u001b[0mencoding\u001b[0m\u001b[0;34m=\u001b[0m\u001b[0mencoding\u001b[0m\u001b[0;34m,\u001b[0m \u001b[0municode_errors\u001b[0m\u001b[0;34m=\u001b[0m\u001b[0municode_errors\u001b[0m\u001b[0;34m,\u001b[0m\u001b[0;34m\u001b[0m\u001b[0;34m\u001b[0m\u001b[0m\n\u001b[0;32m-> 1119\u001b[0;31m             limit=limit, datatype=datatype)\n\u001b[0m\u001b[1;32m   1120\u001b[0m \u001b[0;34m\u001b[0m\u001b[0m\n\u001b[1;32m   1121\u001b[0m     \u001b[0;32mdef\u001b[0m \u001b[0mget_keras_embedding\u001b[0m\u001b[0;34m(\u001b[0m\u001b[0mself\u001b[0m\u001b[0;34m,\u001b[0m \u001b[0mtrain_embeddings\u001b[0m\u001b[0;34m=\u001b[0m\u001b[0;32mFalse\u001b[0m\u001b[0;34m)\u001b[0m\u001b[0;34m:\u001b[0m\u001b[0;34m\u001b[0m\u001b[0;34m\u001b[0m\u001b[0m\n",
      "\u001b[0;32m/anaconda3/lib/python3.6/site-packages/gensim/models/utils_any2vec.py\u001b[0m in \u001b[0;36m_load_word2vec_format\u001b[0;34m(cls, fname, fvocab, binary, encoding, unicode_errors, limit, datatype)\u001b[0m\n\u001b[1;32m    171\u001b[0m \u001b[0;34m\u001b[0m\u001b[0m\n\u001b[1;32m    172\u001b[0m     \u001b[0mlogger\u001b[0m\u001b[0;34m.\u001b[0m\u001b[0minfo\u001b[0m\u001b[0;34m(\u001b[0m\u001b[0;34m\"loading projection weights from %s\"\u001b[0m\u001b[0;34m,\u001b[0m \u001b[0mfname\u001b[0m\u001b[0;34m)\u001b[0m\u001b[0;34m\u001b[0m\u001b[0;34m\u001b[0m\u001b[0m\n\u001b[0;32m--> 173\u001b[0;31m     \u001b[0;32mwith\u001b[0m \u001b[0mutils\u001b[0m\u001b[0;34m.\u001b[0m\u001b[0msmart_open\u001b[0m\u001b[0;34m(\u001b[0m\u001b[0mfname\u001b[0m\u001b[0;34m)\u001b[0m \u001b[0;32mas\u001b[0m \u001b[0mfin\u001b[0m\u001b[0;34m:\u001b[0m\u001b[0;34m\u001b[0m\u001b[0;34m\u001b[0m\u001b[0m\n\u001b[0m\u001b[1;32m    174\u001b[0m         \u001b[0mheader\u001b[0m \u001b[0;34m=\u001b[0m \u001b[0mutils\u001b[0m\u001b[0;34m.\u001b[0m\u001b[0mto_unicode\u001b[0m\u001b[0;34m(\u001b[0m\u001b[0mfin\u001b[0m\u001b[0;34m.\u001b[0m\u001b[0mreadline\u001b[0m\u001b[0;34m(\u001b[0m\u001b[0;34m)\u001b[0m\u001b[0;34m,\u001b[0m \u001b[0mencoding\u001b[0m\u001b[0;34m=\u001b[0m\u001b[0mencoding\u001b[0m\u001b[0;34m)\u001b[0m\u001b[0;34m\u001b[0m\u001b[0;34m\u001b[0m\u001b[0m\n\u001b[1;32m    175\u001b[0m         \u001b[0mvocab_size\u001b[0m\u001b[0;34m,\u001b[0m \u001b[0mvector_size\u001b[0m \u001b[0;34m=\u001b[0m \u001b[0;34m(\u001b[0m\u001b[0mint\u001b[0m\u001b[0;34m(\u001b[0m\u001b[0mx\u001b[0m\u001b[0;34m)\u001b[0m \u001b[0;32mfor\u001b[0m \u001b[0mx\u001b[0m \u001b[0;32min\u001b[0m \u001b[0mheader\u001b[0m\u001b[0;34m.\u001b[0m\u001b[0msplit\u001b[0m\u001b[0;34m(\u001b[0m\u001b[0;34m)\u001b[0m\u001b[0;34m)\u001b[0m  \u001b[0;31m# throws for invalid file format\u001b[0m\u001b[0;34m\u001b[0m\u001b[0;34m\u001b[0m\u001b[0m\n",
      "\u001b[0;32m/anaconda3/lib/python3.6/site-packages/smart_open/smart_open_lib.py\u001b[0m in \u001b[0;36msmart_open\u001b[0;34m(uri, mode, **kw)\u001b[0m\n\u001b[1;32m    179\u001b[0m         \u001b[0;32mraise\u001b[0m \u001b[0mTypeError\u001b[0m\u001b[0;34m(\u001b[0m\u001b[0;34m'mode should be a string'\u001b[0m\u001b[0;34m)\u001b[0m\u001b[0;34m\u001b[0m\u001b[0;34m\u001b[0m\u001b[0m\n\u001b[1;32m    180\u001b[0m \u001b[0;34m\u001b[0m\u001b[0m\n\u001b[0;32m--> 181\u001b[0;31m     \u001b[0mfobj\u001b[0m \u001b[0;34m=\u001b[0m \u001b[0m_shortcut_open\u001b[0m\u001b[0;34m(\u001b[0m\u001b[0muri\u001b[0m\u001b[0;34m,\u001b[0m \u001b[0mmode\u001b[0m\u001b[0;34m,\u001b[0m \u001b[0;34m**\u001b[0m\u001b[0mkw\u001b[0m\u001b[0;34m)\u001b[0m\u001b[0;34m\u001b[0m\u001b[0;34m\u001b[0m\u001b[0m\n\u001b[0m\u001b[1;32m    182\u001b[0m     \u001b[0;32mif\u001b[0m \u001b[0mfobj\u001b[0m \u001b[0;32mis\u001b[0m \u001b[0;32mnot\u001b[0m \u001b[0;32mNone\u001b[0m\u001b[0;34m:\u001b[0m\u001b[0;34m\u001b[0m\u001b[0;34m\u001b[0m\u001b[0m\n\u001b[1;32m    183\u001b[0m         \u001b[0;32mreturn\u001b[0m \u001b[0mfobj\u001b[0m\u001b[0;34m\u001b[0m\u001b[0;34m\u001b[0m\u001b[0m\n",
      "\u001b[0;32m/anaconda3/lib/python3.6/site-packages/smart_open/smart_open_lib.py\u001b[0m in \u001b[0;36m_shortcut_open\u001b[0;34m(uri, mode, **kw)\u001b[0m\n\u001b[1;32m    299\u001b[0m     \u001b[0;31m#\u001b[0m\u001b[0;34m\u001b[0m\u001b[0;34m\u001b[0m\u001b[0;34m\u001b[0m\u001b[0m\n\u001b[1;32m    300\u001b[0m     \u001b[0;32mif\u001b[0m \u001b[0msix\u001b[0m\u001b[0;34m.\u001b[0m\u001b[0mPY3\u001b[0m\u001b[0;34m:\u001b[0m\u001b[0;34m\u001b[0m\u001b[0;34m\u001b[0m\u001b[0m\n\u001b[0;32m--> 301\u001b[0;31m         \u001b[0;32mreturn\u001b[0m \u001b[0mopen\u001b[0m\u001b[0;34m(\u001b[0m\u001b[0mparsed_uri\u001b[0m\u001b[0;34m.\u001b[0m\u001b[0muri_path\u001b[0m\u001b[0;34m,\u001b[0m \u001b[0mmode\u001b[0m\u001b[0;34m,\u001b[0m \u001b[0mbuffering\u001b[0m\u001b[0;34m=\u001b[0m\u001b[0mbuffering\u001b[0m\u001b[0;34m,\u001b[0m \u001b[0;34m**\u001b[0m\u001b[0mopen_kwargs\u001b[0m\u001b[0;34m)\u001b[0m\u001b[0;34m\u001b[0m\u001b[0;34m\u001b[0m\u001b[0m\n\u001b[0m\u001b[1;32m    302\u001b[0m     \u001b[0;32melif\u001b[0m \u001b[0;32mnot\u001b[0m \u001b[0mopen_kwargs\u001b[0m\u001b[0;34m:\u001b[0m\u001b[0;34m\u001b[0m\u001b[0;34m\u001b[0m\u001b[0m\n\u001b[1;32m    303\u001b[0m         \u001b[0;32mreturn\u001b[0m \u001b[0mopen\u001b[0m\u001b[0;34m(\u001b[0m\u001b[0mparsed_uri\u001b[0m\u001b[0;34m.\u001b[0m\u001b[0muri_path\u001b[0m\u001b[0;34m,\u001b[0m \u001b[0mmode\u001b[0m\u001b[0;34m,\u001b[0m \u001b[0mbuffering\u001b[0m\u001b[0;34m=\u001b[0m\u001b[0mbuffering\u001b[0m\u001b[0;34m)\u001b[0m\u001b[0;34m\u001b[0m\u001b[0;34m\u001b[0m\u001b[0m\n",
      "\u001b[0;31mFileNotFoundError\u001b[0m: [Errno 2] No such file or directory: 'data/GoogleNews-vectors-negative300-SLIM.bin'"
     ]
    }
   ],
   "source": [
    "# The following assumes you have downloaded the appropriate model\n",
    "# from https://github.com/eyaler/word2vec-slim\n",
    "# and you can load it with the following command:\n",
    "w2v_mod = gensim.models.KeyedVectors.load_word2vec_format(\"data/GoogleNews-vectors-negative300-SLIM.bin\", binary=True)"
   ]
  },
  {
   "cell_type": "markdown",
   "metadata": {},
   "source": [
    "## 2-1. Calculating similarity between words"
   ]
  },
  {
   "cell_type": "markdown",
   "metadata": {},
   "source": [
    "- Q: What's similarity between *school* and *student*?"
   ]
  },
  {
   "cell_type": "markdown",
   "metadata": {},
   "source": [
    "- the word vector for *school* looks like this:"
   ]
  },
  {
   "cell_type": "code",
   "execution_count": null,
   "metadata": {},
   "outputs": [],
   "source": [
    "w2v_mod['school']"
   ]
  },
  {
   "cell_type": "code",
   "execution_count": null,
   "metadata": {},
   "outputs": [],
   "source": [
    "len(w2v_mod['school'])"
   ]
  },
  {
   "cell_type": "markdown",
   "metadata": {},
   "source": [
    "- and the word vector for *student* looks like this:"
   ]
  },
  {
   "cell_type": "code",
   "execution_count": null,
   "metadata": {},
   "outputs": [],
   "source": [
    "w2v_mod['student']"
   ]
  },
  {
   "cell_type": "markdown",
   "metadata": {},
   "source": [
    "- the similarity between two word vectors is:"
   ]
  },
  {
   "cell_type": "code",
   "execution_count": null,
   "metadata": {},
   "outputs": [],
   "source": [
    "w2v_mod.similarity('school', 'student')"
   ]
  },
  {
   "cell_type": "markdown",
   "metadata": {},
   "source": [
    "### Methods for measuring similarity"
   ]
  },
  {
   "cell_type": "markdown",
   "metadata": {},
   "source": [
    "<table>\n",
    "<tr>\n",
    "    <td><img src=\"https://nickgrattan.files.wordpress.com/2014/06/screenhunter_76-jun-10-08-36.jpg\" width=\"400\"></td>\n",
    "    <td><img src=\"https://nickgrattan.files.wordpress.com/2014/06/screenhunter_77-jun-10-08-36.jpg\" width=\"400\"></td>\n",
    "    <td><img src=\"https://nickgrattan.files.wordpress.com/2014/06/screenhunter_77-jun-10-08-37.jpg\" width=\"400\"></td>\n",
    "</tr>\n",
    "</table>"
   ]
  },
  {
   "cell_type": "code",
   "execution_count": null,
   "metadata": {},
   "outputs": [],
   "source": [
    "# (image from http://blog.christianperone.com/2013/09/machine-learning-cosine-similarity-for-vector-space-models-part-iii/)"
   ]
  },
  {
   "cell_type": "markdown",
   "metadata": {},
   "source": [
    "![](http://blog.christianperone.com/wp-content/uploads/2013/09/cosinesimilarityfq1.png)"
   ]
  },
  {
   "cell_type": "markdown",
   "metadata": {},
   "source": [
    "- Cosine simiarity can go from -1 to 1\n",
    "- But usually, we deal with 0 to 1 scores for comparing words in ```Word2Vec```"
   ]
  },
  {
   "cell_type": "markdown",
   "metadata": {},
   "source": [
    "### Example: What's the cosine similarity between *school* and *tiger*? </font>\n",
    "- How would you interprete the results?"
   ]
  },
  {
   "cell_type": "markdown",
   "metadata": {},
   "source": [
    "(type in your response here)"
   ]
  },
  {
   "cell_type": "code",
   "execution_count": null,
   "metadata": {},
   "outputs": [],
   "source": [
    "# put your code here"
   ]
  },
  {
   "cell_type": "code",
   "execution_count": null,
   "metadata": {},
   "outputs": [],
   "source": [
    "w2v_mod.similarity('school', 'tiger')"
   ]
  },
  {
   "cell_type": "markdown",
   "metadata": {},
   "source": [
    "### Just for fun...\n",
    "Try some other words. Any other interesting findings? How would you interprete the results?"
   ]
  },
  {
   "cell_type": "code",
   "execution_count": null,
   "metadata": {},
   "outputs": [],
   "source": [
    "# put your code here"
   ]
  },
  {
   "cell_type": "code",
   "execution_count": null,
   "metadata": {},
   "outputs": [],
   "source": [
    "w2v_mod.similarity('queen', 'king')"
   ]
  },
  {
   "cell_type": "code",
   "execution_count": null,
   "metadata": {},
   "outputs": [],
   "source": [
    "w2v_mod.similarity('cat', 'dog')"
   ]
  },
  {
   "cell_type": "code",
   "execution_count": null,
   "metadata": {},
   "outputs": [],
   "source": [
    "w2v_mod.similarity('Python', 'Java')"
   ]
  },
  {
   "cell_type": "markdown",
   "metadata": {},
   "source": [
    "(type in your response here)"
   ]
  },
  {
   "cell_type": "markdown",
   "metadata": {},
   "source": [
    "## 2-2. Analogy from word vectors"
   ]
  },
  {
   "cell_type": "markdown",
   "metadata": {},
   "source": [
    "<img src=\"https://www.tensorflow.org/images/linear-relationships.png\" width=\"800\">"
   ]
  },
  {
   "cell_type": "markdown",
   "metadata": {},
   "source": [
    "#### Can we approximate the relationship between words by doing - and + operations?"
   ]
  },
  {
   "cell_type": "markdown",
   "metadata": {},
   "source": [
    "- $woman - man + king \\approx ?$\n",
    "- How this works?\n",
    "    - $woman:man \\approx x:king $\n",
    "    - $\\rightarrow woman - man \\approx x - king $\n",
    "    - $\\rightarrow woman - man + king \\approx x$\n",
    "    - List top-10 words ($x$) that can solve the equation!"
   ]
  },
  {
   "cell_type": "code",
   "execution_count": null,
   "metadata": {},
   "outputs": [],
   "source": [
    "w2v_mod.most_similar(positive=['woman', 'king'], negative=['man'])"
   ]
  },
  {
   "cell_type": "markdown",
   "metadata": {},
   "source": [
    "- $Spain - Germany + Berlin \\approx ?$\n",
    "    - $\\rightarrow Spain - Germany \\approx x -  Berlin $"
   ]
  },
  {
   "cell_type": "code",
   "execution_count": null,
   "metadata": {},
   "outputs": [],
   "source": [
    "w2v_mod.most_similar(positive=['Spain', 'Berlin'], negative=['Germany'])"
   ]
  },
  {
   "cell_type": "markdown",
   "metadata": {},
   "source": [
    "### Just for fun: Any other interesting examples? How would you interprete the results?"
   ]
  },
  {
   "cell_type": "code",
   "execution_count": null,
   "metadata": {},
   "outputs": [],
   "source": [
    "# put your code here"
   ]
  },
  {
   "cell_type": "code",
   "execution_count": null,
   "metadata": {},
   "outputs": [],
   "source": []
  }
 ],
 "metadata": {
  "kernelspec": {
   "display_name": "Python 3",
   "language": "python",
   "name": "python3"
  },
  "language_info": {
   "codemirror_mode": {
    "name": "ipython",
    "version": 3
   },
   "file_extension": ".py",
   "mimetype": "text/x-python",
   "name": "python",
   "nbconvert_exporter": "python",
   "pygments_lexer": "ipython3",
   "version": "3.6.8"
  },
  "toc-autonumbering": false,
  "toc-showcode": false,
  "toc-showmarkdowntxt": false,
  "toc-showtags": false
 },
 "nbformat": 4,
 "nbformat_minor": 2
}
