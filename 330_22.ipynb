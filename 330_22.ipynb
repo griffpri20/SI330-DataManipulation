{
 "cells": [
  {
   "cell_type": "markdown",
   "metadata": {},
   "source": [
    "# Spark DataFrames continued"
   ]
  },
  {
   "cell_type": "markdown",
   "metadata": {},
   "source": [
    "Let's read in two of the three data files from the Yelp academic dataset (https://www.kaggle.com/yelp-dataset/yelp-dataset) and examine the schemas for each one (we're skipping the reviews.json file for this class):"
   ]
  },
  {
   "cell_type": "code",
   "execution_count": 1,
   "metadata": {},
   "outputs": [
    {
     "data": {
      "application/vnd.jupyter.widget-view+json": {
       "model_id": "ff3fecff56ca42e49f5bf575d8bd5075",
       "version_major": 2,
       "version_minor": 0
      },
      "text/plain": [
       "VBox()"
      ]
     },
     "metadata": {},
     "output_type": "display_data"
    },
    {
     "name": "stdout",
     "output_type": "stream",
     "text": [
      "Starting Spark application\n"
     ]
    },
    {
     "data": {
      "text/html": [
       "<table>\n",
       "<tr><th>ID</th><th>YARN Application ID</th><th>Kind</th><th>State</th><th>Spark UI</th><th>Driver log</th><th>Current session?</th></tr><tr><td>1</td><td>application_1555002898256_0002</td><td>pyspark</td><td>idle</td><td><a target=\"_blank\" href=\"http://ip-172-31-33-24.ec2.internal:20888/proxy/application_1555002898256_0002/\">Link</a></td><td><a target=\"_blank\" href=\"http://ip-172-31-47-135.ec2.internal:8042/node/containerlogs/container_1555002898256_0002_01_000001/livy\">Link</a></td><td>✔</td></tr></table>"
      ],
      "text/plain": [
       "<IPython.core.display.HTML object>"
      ]
     },
     "metadata": {},
     "output_type": "display_data"
    },
    {
     "name": "stdout",
     "output_type": "stream",
     "text": [
      "SparkSession available as 'spark'.\n"
     ]
    }
   ],
   "source": [
    "business = spark.read.json('s3://umsi-data-science/data/yelp/business.json')"
   ]
  },
  {
   "cell_type": "code",
   "execution_count": 2,
   "metadata": {},
   "outputs": [
    {
     "data": {
      "application/vnd.jupyter.widget-view+json": {
       "model_id": "2ff269d72c624d3b97ad8dd2caebe1b1",
       "version_major": 2,
       "version_minor": 0
      },
      "text/plain": [
       "VBox()"
      ]
     },
     "metadata": {},
     "output_type": "display_data"
    },
    {
     "name": "stdout",
     "output_type": "stream",
     "text": [
      "root\n",
      " |-- address: string (nullable = true)\n",
      " |-- attributes: struct (nullable = true)\n",
      " |    |-- AcceptsInsurance: boolean (nullable = true)\n",
      " |    |-- AgesAllowed: string (nullable = true)\n",
      " |    |-- Alcohol: string (nullable = true)\n",
      " |    |-- Ambience: struct (nullable = true)\n",
      " |    |    |-- casual: boolean (nullable = true)\n",
      " |    |    |-- classy: boolean (nullable = true)\n",
      " |    |    |-- divey: boolean (nullable = true)\n",
      " |    |    |-- hipster: boolean (nullable = true)\n",
      " |    |    |-- intimate: boolean (nullable = true)\n",
      " |    |    |-- romantic: boolean (nullable = true)\n",
      " |    |    |-- touristy: boolean (nullable = true)\n",
      " |    |    |-- trendy: boolean (nullable = true)\n",
      " |    |    |-- upscale: boolean (nullable = true)\n",
      " |    |-- BYOB: boolean (nullable = true)\n",
      " |    |-- BYOBCorkage: string (nullable = true)\n",
      " |    |-- BestNights: struct (nullable = true)\n",
      " |    |    |-- friday: boolean (nullable = true)\n",
      " |    |    |-- monday: boolean (nullable = true)\n",
      " |    |    |-- saturday: boolean (nullable = true)\n",
      " |    |    |-- sunday: boolean (nullable = true)\n",
      " |    |    |-- thursday: boolean (nullable = true)\n",
      " |    |    |-- tuesday: boolean (nullable = true)\n",
      " |    |    |-- wednesday: boolean (nullable = true)\n",
      " |    |-- BikeParking: boolean (nullable = true)\n",
      " |    |-- BusinessAcceptsBitcoin: boolean (nullable = true)\n",
      " |    |-- BusinessAcceptsCreditCards: boolean (nullable = true)\n",
      " |    |-- BusinessParking: struct (nullable = true)\n",
      " |    |    |-- garage: boolean (nullable = true)\n",
      " |    |    |-- lot: boolean (nullable = true)\n",
      " |    |    |-- street: boolean (nullable = true)\n",
      " |    |    |-- valet: boolean (nullable = true)\n",
      " |    |    |-- validated: boolean (nullable = true)\n",
      " |    |-- ByAppointmentOnly: boolean (nullable = true)\n",
      " |    |-- Caters: boolean (nullable = true)\n",
      " |    |-- CoatCheck: boolean (nullable = true)\n",
      " |    |-- Corkage: boolean (nullable = true)\n",
      " |    |-- DietaryRestrictions: struct (nullable = true)\n",
      " |    |    |-- dairy-free: boolean (nullable = true)\n",
      " |    |    |-- gluten-free: boolean (nullable = true)\n",
      " |    |    |-- halal: boolean (nullable = true)\n",
      " |    |    |-- kosher: boolean (nullable = true)\n",
      " |    |    |-- soy-free: boolean (nullable = true)\n",
      " |    |    |-- vegan: boolean (nullable = true)\n",
      " |    |    |-- vegetarian: boolean (nullable = true)\n",
      " |    |-- DogsAllowed: boolean (nullable = true)\n",
      " |    |-- DriveThru: boolean (nullable = true)\n",
      " |    |-- GoodForDancing: boolean (nullable = true)\n",
      " |    |-- GoodForKids: boolean (nullable = true)\n",
      " |    |-- GoodForMeal: struct (nullable = true)\n",
      " |    |    |-- breakfast: boolean (nullable = true)\n",
      " |    |    |-- brunch: boolean (nullable = true)\n",
      " |    |    |-- dessert: boolean (nullable = true)\n",
      " |    |    |-- dinner: boolean (nullable = true)\n",
      " |    |    |-- latenight: boolean (nullable = true)\n",
      " |    |    |-- lunch: boolean (nullable = true)\n",
      " |    |-- HairSpecializesIn: struct (nullable = true)\n",
      " |    |    |-- africanamerican: boolean (nullable = true)\n",
      " |    |    |-- asian: boolean (nullable = true)\n",
      " |    |    |-- coloring: boolean (nullable = true)\n",
      " |    |    |-- curly: boolean (nullable = true)\n",
      " |    |    |-- extensions: boolean (nullable = true)\n",
      " |    |    |-- kids: boolean (nullable = true)\n",
      " |    |    |-- perms: boolean (nullable = true)\n",
      " |    |    |-- straightperms: boolean (nullable = true)\n",
      " |    |-- HappyHour: boolean (nullable = true)\n",
      " |    |-- HasTV: boolean (nullable = true)\n",
      " |    |-- Music: struct (nullable = true)\n",
      " |    |    |-- background_music: boolean (nullable = true)\n",
      " |    |    |-- dj: boolean (nullable = true)\n",
      " |    |    |-- jukebox: boolean (nullable = true)\n",
      " |    |    |-- karaoke: boolean (nullable = true)\n",
      " |    |    |-- live: boolean (nullable = true)\n",
      " |    |    |-- no_music: boolean (nullable = true)\n",
      " |    |    |-- video: boolean (nullable = true)\n",
      " |    |-- NoiseLevel: string (nullable = true)\n",
      " |    |-- Open24Hours: boolean (nullable = true)\n",
      " |    |-- OutdoorSeating: boolean (nullable = true)\n",
      " |    |-- RestaurantsAttire: string (nullable = true)\n",
      " |    |-- RestaurantsCounterService: boolean (nullable = true)\n",
      " |    |-- RestaurantsDelivery: boolean (nullable = true)\n",
      " |    |-- RestaurantsGoodForGroups: boolean (nullable = true)\n",
      " |    |-- RestaurantsPriceRange2: long (nullable = true)\n",
      " |    |-- RestaurantsReservations: boolean (nullable = true)\n",
      " |    |-- RestaurantsTableService: boolean (nullable = true)\n",
      " |    |-- RestaurantsTakeOut: boolean (nullable = true)\n",
      " |    |-- Smoking: string (nullable = true)\n",
      " |    |-- WheelchairAccessible: boolean (nullable = true)\n",
      " |    |-- WiFi: string (nullable = true)\n",
      " |-- business_id: string (nullable = true)\n",
      " |-- categories: array (nullable = true)\n",
      " |    |-- element: string (containsNull = true)\n",
      " |-- city: string (nullable = true)\n",
      " |-- hours: struct (nullable = true)\n",
      " |    |-- Friday: string (nullable = true)\n",
      " |    |-- Monday: string (nullable = true)\n",
      " |    |-- Saturday: string (nullable = true)\n",
      " |    |-- Sunday: string (nullable = true)\n",
      " |    |-- Thursday: string (nullable = true)\n",
      " |    |-- Tuesday: string (nullable = true)\n",
      " |    |-- Wednesday: string (nullable = true)\n",
      " |-- is_open: long (nullable = true)\n",
      " |-- latitude: double (nullable = true)\n",
      " |-- longitude: double (nullable = true)\n",
      " |-- name: string (nullable = true)\n",
      " |-- neighborhood: string (nullable = true)\n",
      " |-- postal_code: string (nullable = true)\n",
      " |-- review_count: long (nullable = true)\n",
      " |-- stars: double (nullable = true)\n",
      " |-- state: string (nullable = true)"
     ]
    }
   ],
   "source": [
    "business.printSchema()"
   ]
  },
  {
   "cell_type": "code",
   "execution_count": 8,
   "metadata": {},
   "outputs": [
    {
     "data": {
      "application/vnd.jupyter.widget-view+json": {
       "model_id": "bd7ba8e09ec44292b0ada3c415dc3bdf",
       "version_major": 2,
       "version_minor": 0
      },
      "text/plain": [
       "VBox()"
      ]
     },
     "metadata": {},
     "output_type": "display_data"
    }
   ],
   "source": [
    "# review = spark.read.json('s3://umsi-data-science/data/yelp/review.json.gz')"
   ]
  },
  {
   "cell_type": "code",
   "execution_count": 42,
   "metadata": {},
   "outputs": [
    {
     "data": {
      "application/vnd.jupyter.widget-view+json": {
       "model_id": "8ee9a60a3ede4abc8db72729ad7387a9",
       "version_major": 2,
       "version_minor": 0
      },
      "text/plain": [
       "VBox()"
      ]
     },
     "metadata": {},
     "output_type": "display_data"
    },
    {
     "name": "stderr",
     "output_type": "stream",
     "text": [
      "An error was encountered:\n",
      "Session 0 unexpectedly reached final status 'dead'. See logs:\n",
      "stdout: \n",
      "#\n",
      "# java.lang.OutOfMemoryError: Java heap space\n",
      "# -XX:OnOutOfMemoryError=\"kill -9 %p\"\n",
      "#   Executing /bin/sh -c \"kill -9 12301\"...\n",
      "\n",
      "stderr: \n",
      "19/04/11 17:56:34 INFO TaskSetManager: Finished task 180.0 in stage 72.0 (TID 3334) in 88 ms on ip-172-31-43-75.ec2.internal (executor 11) (181/200)\n",
      "19/04/11 17:56:34 INFO TaskSetManager: Starting task 183.0 in stage 72.0 (TID 3337, ip-172-31-43-75.ec2.internal, executor 11, partition 183, NODE_LOCAL, 8095 bytes)\n",
      "19/04/11 17:56:34 INFO TaskSetManager: Finished task 181.0 in stage 72.0 (TID 3335) in 70 ms on ip-172-31-43-75.ec2.internal (executor 11) (182/200)\n",
      "19/04/11 17:56:34 INFO TaskSetManager: Starting task 184.0 in stage 72.0 (TID 3338, ip-172-31-43-75.ec2.internal, executor 11, partition 184, NODE_LOCAL, 8095 bytes)\n",
      "19/04/11 17:56:34 INFO TaskSetManager: Finished task 182.0 in stage 72.0 (TID 3336) in 98 ms on ip-172-31-43-75.ec2.internal (executor 11) (183/200)\n",
      "19/04/11 17:56:34 INFO TaskSetManager: Starting task 185.0 in stage 72.0 (TID 3339, ip-172-31-43-75.ec2.internal, executor 11, partition 185, NODE_LOCAL, 8095 bytes)\n",
      "19/04/11 17:56:34 INFO TaskSetManager: Finished task 183.0 in stage 72.0 (TID 3337) in 102 ms on ip-172-31-43-75.ec2.internal (executor 11) (184/200)\n",
      "19/04/11 17:56:34 INFO TaskSetManager: Starting task 186.0 in stage 72.0 (TID 3340, ip-172-31-43-75.ec2.internal, executor 11, partition 186, NODE_LOCAL, 8095 bytes)\n",
      "19/04/11 17:56:34 INFO TaskSetManager: Finished task 185.0 in stage 72.0 (TID 3339) in 65 ms on ip-172-31-43-75.ec2.internal (executor 11) (185/200)\n",
      "19/04/11 17:56:34 INFO TaskSetManager: Starting task 187.0 in stage 72.0 (TID 3341, ip-172-31-43-75.ec2.internal, executor 11, partition 187, NODE_LOCAL, 8095 bytes)\n",
      "19/04/11 17:56:34 INFO TaskSetManager: Finished task 184.0 in stage 72.0 (TID 3338) in 118 ms on ip-172-31-43-75.ec2.internal (executor 11) (186/200)\n",
      "19/04/11 17:56:34 INFO TaskSetManager: Starting task 188.0 in stage 72.0 (TID 3342, ip-172-31-43-75.ec2.internal, executor 11, partition 188, NODE_LOCAL, 8095 bytes)\n",
      "19/04/11 17:56:34 INFO TaskSetManager: Finished task 186.0 in stage 72.0 (TID 3340) in 96 ms on ip-172-31-43-75.ec2.internal (executor 11) (187/200)\n",
      "19/04/11 17:56:34 INFO TaskSetManager: Starting task 189.0 in stage 72.0 (TID 3343, ip-172-31-43-75.ec2.internal, executor 11, partition 189, NODE_LOCAL, 8095 bytes)\n",
      "19/04/11 17:56:34 INFO TaskSetManager: Finished task 187.0 in stage 72.0 (TID 3341) in 125 ms on ip-172-31-43-75.ec2.internal (executor 11) (188/200)\n",
      "19/04/11 17:56:34 INFO TaskSetManager: Starting task 190.0 in stage 72.0 (TID 3344, ip-172-31-43-75.ec2.internal, executor 11, partition 190, NODE_LOCAL, 8095 bytes)\n",
      "19/04/11 17:56:34 INFO TaskSetManager: Finished task 188.0 in stage 72.0 (TID 3342) in 100 ms on ip-172-31-43-75.ec2.internal (executor 11) (189/200)\n",
      "19/04/11 17:56:34 INFO TaskSetManager: Starting task 191.0 in stage 72.0 (TID 3345, ip-172-31-43-75.ec2.internal, executor 11, partition 191, NODE_LOCAL, 8095 bytes)\n",
      "19/04/11 17:56:34 INFO TaskSetManager: Finished task 189.0 in stage 72.0 (TID 3343) in 73 ms on ip-172-31-43-75.ec2.internal (executor 11) (190/200)\n",
      "19/04/11 17:56:34 INFO TaskSetManager: Starting task 192.0 in stage 72.0 (TID 3346, ip-172-31-43-75.ec2.internal, executor 11, partition 192, NODE_LOCAL, 8095 bytes)\n",
      "19/04/11 17:56:34 INFO TaskSetManager: Starting task 193.0 in stage 72.0 (TID 3347, ip-172-31-43-75.ec2.internal, executor 11, partition 193, NODE_LOCAL, 8095 bytes)\n",
      "19/04/11 17:56:34 INFO TaskSetManager: Finished task 191.0 in stage 72.0 (TID 3345) in 62 ms on ip-172-31-43-75.ec2.internal (executor 11) (191/200)\n",
      "19/04/11 17:56:34 INFO TaskSetManager: Finished task 190.0 in stage 72.0 (TID 3344) in 66 ms on ip-172-31-43-75.ec2.internal (executor 11) (192/200)\n",
      "19/04/11 17:56:34 INFO TaskSetManager: Starting task 194.0 in stage 72.0 (TID 3348, ip-172-31-43-75.ec2.internal, executor 11, partition 194, NODE_LOCAL, 8095 bytes)\n",
      "19/04/11 17:56:34 INFO TaskSetManager: Finished task 193.0 in stage 72.0 (TID 3347) in 64 ms on ip-172-31-43-75.ec2.internal (executor 11) (193/200)\n",
      "19/04/11 17:56:34 INFO TaskSetManager: Starting task 195.0 in stage 72.0 (TID 3349, ip-172-31-43-75.ec2.internal, executor 11, partition 195, NODE_LOCAL, 8095 bytes)\n",
      "19/04/11 17:56:34 INFO TaskSetManager: Finished task 192.0 in stage 72.0 (TID 3346) in 73 ms on ip-172-31-43-75.ec2.internal (executor 11) (194/200)\n",
      "19/04/11 17:56:34 INFO TaskSetManager: Starting task 196.0 in stage 72.0 (TID 3350, ip-172-31-43-75.ec2.internal, executor 11, partition 196, NODE_LOCAL, 8095 bytes)\n",
      "19/04/11 17:56:34 INFO TaskSetManager: Finished task 194.0 in stage 72.0 (TID 3348) in 67 ms on ip-172-31-43-75.ec2.internal (executor 11) (195/200)\n",
      "19/04/11 17:56:34 INFO TaskSetManager: Starting task 197.0 in stage 72.0 (TID 3351, ip-172-31-43-75.ec2.internal, executor 11, partition 197, NODE_LOCAL, 8095 bytes)\n",
      "19/04/11 17:56:34 INFO TaskSetManager: Finished task 195.0 in stage 72.0 (TID 3349) in 71 ms on ip-172-31-43-75.ec2.internal (executor 11) (196/200)\n",
      "19/04/11 17:56:34 INFO TaskSetManager: Starting task 198.0 in stage 72.0 (TID 3352, ip-172-31-43-75.ec2.internal, executor 11, partition 198, NODE_LOCAL, 8095 bytes)\n",
      "19/04/11 17:56:34 INFO TaskSetManager: Finished task 196.0 in stage 72.0 (TID 3350) in 54 ms on ip-172-31-43-75.ec2.internal (executor 11) (197/200)\n",
      "19/04/11 17:56:34 INFO TaskSetManager: Starting task 199.0 in stage 72.0 (TID 3353, ip-172-31-43-75.ec2.internal, executor 11, partition 199, NODE_LOCAL, 8095 bytes)\n",
      "19/04/11 17:56:34 INFO TaskSetManager: Finished task 197.0 in stage 72.0 (TID 3351) in 51 ms on ip-172-31-43-75.ec2.internal (executor 11) (198/200)\n",
      "19/04/11 17:56:34 INFO TaskSetManager: Finished task 198.0 in stage 72.0 (TID 3352) in 49 ms on ip-172-31-43-75.ec2.internal (executor 11) (199/200)\n",
      "19/04/11 17:56:34 INFO TaskSetManager: Finished task 199.0 in stage 72.0 (TID 3353) in 48 ms on ip-172-31-43-75.ec2.internal (executor 11) (200/200)\n",
      "19/04/11 17:56:34 INFO YarnScheduler: Removed TaskSet 72.0, whose tasks have all completed, from pool \n",
      "19/04/11 17:56:34 INFO DAGScheduler: ShuffleMapStage 72 (collect at <stdin>:2) finished in 7.932 s\n",
      "19/04/11 17:56:34 INFO DAGScheduler: looking for newly runnable stages\n",
      "19/04/11 17:56:34 INFO DAGScheduler: running: Set()\n",
      "19/04/11 17:56:34 INFO DAGScheduler: waiting: Set(ResultStage 73)\n",
      "19/04/11 17:56:34 INFO DAGScheduler: failed: Set()\n",
      "19/04/11 17:56:34 INFO DAGScheduler: Submitting ResultStage 73 (MapPartitionsRDD[170] at collect at <stdin>:2), which has no missing parents\n",
      "19/04/11 17:56:34 INFO MemoryStore: Block broadcast_71 stored as values in memory (estimated size 26.3 KB, free 408.6 MB)\n",
      "19/04/11 17:56:34 INFO MemoryStore: Block broadcast_71_piece0 stored as bytes in memory (estimated size 12.7 KB, free 408.5 MB)\n",
      "19/04/11 17:56:34 INFO BlockManagerInfo: Added broadcast_71_piece0 in memory on ip-172-31-33-24.ec2.internal:45353 (size: 12.7 KB, free: 409.9 MB)\n",
      "19/04/11 17:56:34 INFO SparkContext: Created broadcast 71 from broadcast at DAGScheduler.scala:1201\n",
      "19/04/11 17:56:34 INFO DAGScheduler: Submitting 3 missing tasks from ResultStage 73 (MapPartitionsRDD[170] at collect at <stdin>:2) (first 15 tasks are for partitions Vector(0, 1, 2))\n",
      "19/04/11 17:56:34 INFO YarnScheduler: Adding task set 73.0 with 3 tasks\n",
      "19/04/11 17:56:34 INFO TaskSetManager: Starting task 0.0 in stage 73.0 (TID 3354, ip-172-31-43-75.ec2.internal, executor 11, partition 0, NODE_LOCAL, 7778 bytes)\n",
      "19/04/11 17:56:34 INFO TaskSetManager: Starting task 1.0 in stage 73.0 (TID 3355, ip-172-31-43-75.ec2.internal, executor 11, partition 1, NODE_LOCAL, 7778 bytes)\n",
      "19/04/11 17:56:34 INFO TaskSetManager: Starting task 2.0 in stage 73.0 (TID 3356, ip-172-31-47-135.ec2.internal, executor 10, partition 2, PROCESS_LOCAL, 7778 bytes)\n",
      "19/04/11 17:56:34 INFO BlockManagerInfo: Added broadcast_71_piece0 in memory on ip-172-31-43-75.ec2.internal:45179 (size: 12.7 KB, free: 2.3 GB)\n",
      "19/04/11 17:56:34 INFO MapOutputTrackerMasterEndpoint: Asked to send map output locations for shuffle 24 to 172.31.43.75:47620\n",
      "19/04/11 17:56:34 INFO BlockManagerInfo: Added broadcast_71_piece0 in memory on ip-172-31-47-135.ec2.internal:45461 (size: 12.7 KB, free: 2.3 GB)\n",
      "19/04/11 17:56:35 INFO MapOutputTrackerMasterEndpoint: Asked to send map output locations for shuffle 24 to 172.31.47.135:52538\n",
      "19/04/11 17:56:35 INFO BlockManagerInfo: Added taskresult_3354 in memory on ip-172-31-43-75.ec2.internal:45179 (size: 4.0 MB, free: 2.3 GB)\n",
      "19/04/11 17:56:35 INFO TaskSetManager: Finished task 2.0 in stage 73.0 (TID 3356) in 332 ms on ip-172-31-47-135.ec2.internal (executor 10) (1/3)\n",
      "19/04/11 17:56:35 INFO TransportClientFactory: Successfully created connection to ip-172-31-43-75.ec2.internal/172.31.43.75:45179 after 2 ms (0 ms spent in bootstraps)\n",
      "19/04/11 17:56:35 INFO TaskSetManager: Finished task 0.0 in stage 73.0 (TID 3354) in 545 ms on ip-172-31-43-75.ec2.internal (executor 11) (2/3)\n",
      "19/04/11 17:56:35 INFO BlockManagerInfo: Removed taskresult_3354 on ip-172-31-43-75.ec2.internal:45179 in memory (size: 4.0 MB, free: 2.3 GB)\n",
      "19/04/11 17:56:38 INFO BlockManagerInfo: Added taskresult_3355 in memory on ip-172-31-43-75.ec2.internal:45179 (size: 128.9 MB, free: 2.2 GB)\n",
      "19/04/11 17:56:39 INFO ContextCleaner: Cleaned accumulator 1597\n",
      "19/04/11 17:56:39 INFO ContextCleaner: Cleaned accumulator 1583\n",
      "19/04/11 17:56:39 INFO ContextCleaner: Cleaned accumulator 1594\n",
      "19/04/11 17:56:39 INFO ContextCleaner: Cleaned accumulator 1570\n",
      "19/04/11 17:56:39 INFO ContextCleaner: Cleaned accumulator 1525\n",
      "19/04/11 17:56:39 INFO ContextCleaner: Cleaned accumulator 1584\n",
      "19/04/11 17:56:39 INFO ContextCleaner: Cleaned accumulator 1562\n",
      "19/04/11 17:56:39 INFO ContextCleaner: Cleaned accumulator 1548\n",
      "19/04/11 17:56:39 INFO ContextCleaner: Cleaned accumulator 1565\n",
      "19/04/11 17:56:39 INFO ContextCleaner: Cleaned accumulator 1527\n",
      "19/04/11 17:56:39 INFO ContextCleaner: Cleaned accumulator 1563\n",
      "19/04/11 17:56:39 INFO ContextCleaner: Cleaned accumulator 1537\n",
      "19/04/11 17:56:39 INFO ContextCleaner: Cleaned accumulator 1551\n",
      "19/04/11 17:56:39 INFO ContextCleaner: Cleaned accumulator 1559\n",
      "19/04/11 17:56:39 INFO ContextCleaner: Cleaned accumulator 1568\n",
      "19/04/11 17:56:39 INFO ContextCleaner: Cleaned accumulator 1542\n",
      "19/04/11 17:56:39 INFO ContextCleaner: Cleaned accumulator 1596\n",
      "19/04/11 17:56:39 INFO ContextCleaner: Cleaned accumulator 1567\n",
      "19/04/11 17:56:39 INFO ContextCleaner: Cleaned accumulator 1547\n",
      "19/04/11 17:56:39 INFO ContextCleaner: Cleaned accumulator 1538\n",
      "19/04/11 17:56:39 INFO ContextCleaner: Cleaned accumulator 1564\n",
      "19/04/11 17:56:39 INFO ContextCleaner: Cleaned accumulator 1561\n",
      "19/04/11 17:56:39 INFO BlockManagerInfo: Removed broadcast_69_piece0 on ip-172-31-33-24.ec2.internal:45353 in memory (size: 14.2 KB, free: 409.9 MB)\n",
      "19/04/11 17:56:39 INFO BlockManagerInfo: Removed broadcast_69_piece0 on ip-172-31-43-75.ec2.internal:45179 in memory (size: 14.2 KB, free: 2.2 GB)\n",
      "19/04/11 17:56:40 INFO ContextCleaner: Cleaned accumulator 1572\n",
      "19/04/11 17:56:40 INFO ContextCleaner: Cleaned accumulator 1575\n",
      "19/04/11 17:56:40 INFO ContextCleaner: Cleaned accumulator 1553\n",
      "19/04/11 17:56:40 INFO ContextCleaner: Cleaned accumulator 1586\n",
      "19/04/11 17:56:40 INFO ContextCleaner: Cleaned accumulator 1582\n",
      "19/04/11 17:56:40 INFO ContextCleaner: Cleaned accumulator 1529\n",
      "19/04/11 17:56:40 INFO ContextCleaner: Cleaned accumulator 1573\n"
     ]
    }
   ],
   "source": [
    "# review.printSchema"
   ]
  },
  {
   "cell_type": "code",
   "execution_count": null,
   "metadata": {},
   "outputs": [],
   "source": []
  },
  {
   "cell_type": "code",
   "execution_count": 3,
   "metadata": {},
   "outputs": [
    {
     "data": {
      "application/vnd.jupyter.widget-view+json": {
       "model_id": "986b64b4001442c39ed5bb5648940eaa",
       "version_major": 2,
       "version_minor": 0
      },
      "text/plain": [
       "VBox()"
      ]
     },
     "metadata": {},
     "output_type": "display_data"
    }
   ],
   "source": [
    "tip = spark.read.json('s3://umsi-data-science/data/yelp/tip.json')"
   ]
  },
  {
   "cell_type": "code",
   "execution_count": 11,
   "metadata": {},
   "outputs": [
    {
     "data": {
      "application/vnd.jupyter.widget-view+json": {
       "model_id": "408b1e6f7902495e860128d5e5e44ce8",
       "version_major": 2,
       "version_minor": 0
      },
      "text/plain": [
       "VBox()"
      ]
     },
     "metadata": {},
     "output_type": "display_data"
    },
    {
     "name": "stdout",
     "output_type": "stream",
     "text": [
      "root\n",
      " |-- business_id: string (nullable = true)\n",
      " |-- date: string (nullable = true)\n",
      " |-- likes: long (nullable = true)\n",
      " |-- text: string (nullable = true)\n",
      " |-- user_id: string (nullable = true)"
     ]
    }
   ],
   "source": [
    "tip.printSchema()"
   ]
  },
  {
   "cell_type": "markdown",
   "metadata": {},
   "source": [
    "### Let's try to find the name of the business that has the highest number of \"tips\":"
   ]
  },
  {
   "cell_type": "code",
   "execution_count": 12,
   "metadata": {},
   "outputs": [
    {
     "data": {
      "application/vnd.jupyter.widget-view+json": {
       "model_id": "e2b5fd73f90f40df9bfd818756c9a5a7",
       "version_major": 2,
       "version_minor": 0
      },
      "text/plain": [
       "VBox()"
      ]
     },
     "metadata": {},
     "output_type": "display_data"
    }
   ],
   "source": [
    "most_tips = tip.groupBy('business_id').count().sort('count',ascending=False)"
   ]
  },
  {
   "cell_type": "code",
   "execution_count": 13,
   "metadata": {},
   "outputs": [
    {
     "data": {
      "application/vnd.jupyter.widget-view+json": {
       "model_id": "c3fbce93f8574a049e65c5aa5b3e6715",
       "version_major": 2,
       "version_minor": 0
      },
      "text/plain": [
       "VBox()"
      ]
     },
     "metadata": {},
     "output_type": "display_data"
    }
   ],
   "source": [
    "from pyspark.sql.functions import col\n",
    "most_tips = most_tips.withColumn('the_count',col('count'))"
   ]
  },
  {
   "cell_type": "code",
   "execution_count": 14,
   "metadata": {},
   "outputs": [
    {
     "data": {
      "application/vnd.jupyter.widget-view+json": {
       "model_id": "e9b8bd9bbb1f4f6199d7b04e061b39d0",
       "version_major": 2,
       "version_minor": 0
      },
      "text/plain": [
       "VBox()"
      ]
     },
     "metadata": {},
     "output_type": "display_data"
    },
    {
     "name": "stdout",
     "output_type": "stream",
     "text": [
      "+--------------------+-----+---------+\n",
      "|         business_id|count|the_count|\n",
      "+--------------------+-----+---------+\n",
      "|FaHADZARwnY4yvlvp...| 3517|     3517|\n",
      "|JmI9nslLD7KZqRr__...| 2382|     2382|\n",
      "|DkYS3arLOhA8si5uU...| 1474|     1474|\n",
      "|5LNZ67Yw9RD6nf4_U...| 1436|     1436|\n",
      "|K7lWdNUhCbcnEvI0N...| 1346|     1346|\n",
      "|hihud--QRriCYZw1z...| 1287|     1287|\n",
      "|RESDUcs7fIiihp38-...| 1149|     1149|\n",
      "|yfxDa8RFOvJPQh0rN...| 1062|     1062|\n",
      "|4JNXUYY8wbaaDmk3B...| 1038|     1038|\n",
      "|iCQpiavjjPzJ5_3gP...| 1033|     1033|\n",
      "|SMPbvZLSMMb7KU76Y...|  996|      996|\n",
      "|7sPNbCx7vGAaH7SbN...|  981|      981|\n",
      "|UPIYuRaZvknINOd1w...|  959|      959|\n",
      "|eoHdUeQDNgQ6WYEnP...|  940|      940|\n",
      "|yQab5dxZzgBLTEHCw...|  900|      900|\n",
      "|JyxHvtj-syke7m9rb...|  888|      888|\n",
      "|LNGBEEelQx4zbfWnl...|  854|      854|\n",
      "|WUq8HJHIZU4uteB15...|  831|      831|\n",
      "|f4x1YBxkLrZg652xt...|  800|      800|\n",
      "|El4FC8jcawUVgw_0E...|  759|      759|\n",
      "+--------------------+-----+---------+\n",
      "only showing top 20 rows"
     ]
    }
   ],
   "source": [
    "most_tips.show()"
   ]
  },
  {
   "cell_type": "code",
   "execution_count": 15,
   "metadata": {},
   "outputs": [
    {
     "data": {
      "application/vnd.jupyter.widget-view+json": {
       "model_id": "68d7e7cd12874791902f8157fc6dc51c",
       "version_major": 2,
       "version_minor": 0
      },
      "text/plain": [
       "VBox()"
      ]
     },
     "metadata": {},
     "output_type": "display_data"
    }
   ],
   "source": [
    "joined = most_tips.join(business,'business_id','left').sort('the_count',ascending=False)"
   ]
  },
  {
   "cell_type": "code",
   "execution_count": 16,
   "metadata": {},
   "outputs": [
    {
     "data": {
      "application/vnd.jupyter.widget-view+json": {
       "model_id": "4f18b70c3cf54880bf570bc912488634",
       "version_major": 2,
       "version_minor": 0
      },
      "text/plain": [
       "VBox()"
      ]
     },
     "metadata": {},
     "output_type": "display_data"
    }
   ],
   "source": [
    "most_tips_joined = joined.select(\"name\",\"the_count\").filter(joined['the_count'] > 1000).collect()"
   ]
  },
  {
   "cell_type": "code",
   "execution_count": 17,
   "metadata": {},
   "outputs": [
    {
     "data": {
      "application/vnd.jupyter.widget-view+json": {
       "model_id": "b5de8a0b8d854400a3cd9036d03dfa42",
       "version_major": 2,
       "version_minor": 0
      },
      "text/plain": [
       "VBox()"
      ]
     },
     "metadata": {},
     "output_type": "display_data"
    },
    {
     "name": "stdout",
     "output_type": "stream",
     "text": [
      "(u'McCarran International Airport', <built-in method count of Row object at 0x7f44944230a8>, 3517)\n",
      "(u'Phoenix Sky Harbor International Airport', <built-in method count of Row object at 0x7f4494423100>, 2382)\n",
      "(u'Earl of Sandwich', <built-in method count of Row object at 0x7f4494423158>, 1474)\n",
      "(u'The Cosmopolitan of Las Vegas', <built-in method count of Row object at 0x7f44944231b0>, 1436)\n",
      "(u'Wicked Spoon', <built-in method count of Row object at 0x7f4494423208>, 1346)\n",
      "(u'Gangnam Asian BBQ Dining', <built-in method count of Row object at 0x7f4494423260>, 1287)\n",
      "(u'Bacchanal Buffet', <built-in method count of Row object at 0x7f44944232b8>, 1149)\n",
      "(u'Pho Kim Long', <built-in method count of Row object at 0x7f4494423310>, 1062)\n",
      "(u'Mon Ami Gabi', <built-in method count of Row object at 0x7f4494423368>, 1038)\n",
      "(u'Secret Pizza', <built-in method count of Row object at 0x7f44944233c0>, 1033)"
     ]
    }
   ],
   "source": [
    "for b in most_tips_joined:\n",
    "    print(b.name,b.count,b.the_count)"
   ]
  },
  {
   "cell_type": "markdown",
   "metadata": {},
   "source": [
    "\n",
    "## Your turn\n",
    "Use a combination of Spark and plain old python code to answer the following questions.  Include code and written responses in English for each question."
   ]
  },
  {
   "cell_type": "markdown",
   "metadata": {},
   "source": [
    "### Q1. How many businesses in the data set are located in the state of Ohio (OH)?"
   ]
  },
  {
   "cell_type": "code",
   "execution_count": 4,
   "metadata": {},
   "outputs": [
    {
     "data": {
      "application/vnd.jupyter.widget-view+json": {
       "model_id": "adef24bfcce8416ca4ddef157a1bb775",
       "version_major": 2,
       "version_minor": 0
      },
      "text/plain": [
       "VBox()"
      ]
     },
     "metadata": {},
     "output_type": "display_data"
    }
   ],
   "source": [
    "q1 = business.select('state').filter(business.state == 'OH').count()"
   ]
  },
  {
   "cell_type": "code",
   "execution_count": 5,
   "metadata": {},
   "outputs": [
    {
     "data": {
      "application/vnd.jupyter.widget-view+json": {
       "model_id": "0e492af7d0964544adaa77705ab6c109",
       "version_major": 2,
       "version_minor": 0
      },
      "text/plain": [
       "VBox()"
      ]
     },
     "metadata": {},
     "output_type": "display_data"
    },
    {
     "name": "stdout",
     "output_type": "stream",
     "text": [
      "12609"
     ]
    }
   ],
   "source": [
    "q1"
   ]
  },
  {
   "cell_type": "markdown",
   "metadata": {},
   "source": [
    "### Q2. How many Pennsylvania-based businesses have a hipster ambience?"
   ]
  },
  {
   "cell_type": "code",
   "execution_count": 31,
   "metadata": {},
   "outputs": [
    {
     "data": {
      "application/vnd.jupyter.widget-view+json": {
       "model_id": "702d79baa63942d4b9d9198130111b14",
       "version_major": 2,
       "version_minor": 0
      },
      "text/plain": [
       "VBox()"
      ]
     },
     "metadata": {},
     "output_type": "display_data"
    }
   ],
   "source": [
    "q2 = business.filter(business.state == 'PA').filter(business.attributes.Ambience.hipster == True).count()\n"
   ]
  },
  {
   "cell_type": "code",
   "execution_count": 32,
   "metadata": {},
   "outputs": [
    {
     "data": {
      "application/vnd.jupyter.widget-view+json": {
       "model_id": "9d4fb079447d4570a4d56812a9518c97",
       "version_major": 2,
       "version_minor": 0
      },
      "text/plain": [
       "VBox()"
      ]
     },
     "metadata": {},
     "output_type": "display_data"
    },
    {
     "name": "stdout",
     "output_type": "stream",
     "text": [
      "71"
     ]
    }
   ],
   "source": [
    "q2"
   ]
  },
  {
   "cell_type": "markdown",
   "metadata": {},
   "source": [
    "### Q3. Which Nevada-based business has the most liked tip, and what is the text of the tip?"
   ]
  },
  {
   "cell_type": "code",
   "execution_count": 38,
   "metadata": {},
   "outputs": [
    {
     "data": {
      "application/vnd.jupyter.widget-view+json": {
       "model_id": "818dcaee67e04a74853d7c4a831a5c63",
       "version_major": 2,
       "version_minor": 0
      },
      "text/plain": [
       "VBox()"
      ]
     },
     "metadata": {},
     "output_type": "display_data"
    },
    {
     "name": "stderr",
     "output_type": "stream",
     "text": [
      "An error was encountered:\n",
      "Invalid status code '400' from https://172.31.33.24:18888/sessions/0/statements/38 with error payload: \"requirement failed: Session isn't active.\"\n"
     ]
    }
   ],
   "source": [
    "q3 = business.filter(business.state == 'NV').join(nev,'business_id', 'inner').sort(tip.likes, ascending = False).collect()\n",
    "for b in q3:\n",
    "    print(b.name, b.text, b.likes)\n",
    "    break"
   ]
  },
  {
   "cell_type": "markdown",
   "metadata": {},
   "source": [
    "### Q4. Excluding businesses in the state of Nevada, list 10 businesses with the highest number of tips"
   ]
  },
  {
   "cell_type": "code",
   "execution_count": 6,
   "metadata": {},
   "outputs": [
    {
     "data": {
      "application/vnd.jupyter.widget-view+json": {
       "model_id": "4f78aefda59a4f0fbbce2aad8851427d",
       "version_major": 2,
       "version_minor": 0
      },
      "text/plain": [
       "VBox()"
      ]
     },
     "metadata": {},
     "output_type": "display_data"
    }
   ],
   "source": [
    "q4 = tip.join(business, 'business_id', 'left').filter(business.state != 'NV')\\\n",
    "     .groupby('business_id').count().sort('count', ascending=False)"
   ]
  },
  {
   "cell_type": "code",
   "execution_count": null,
   "metadata": {},
   "outputs": [],
   "source": [
    "q4.join(business, 'business_id').select('name','count').sort('count', ascending=False).show()"
   ]
  },
  {
   "cell_type": "markdown",
   "metadata": {},
   "source": [
    "### Q5. List the names of the divey businesses from Ohio that have an overall rating of 4 or more stars and have at least 1000 tips.\n",
    "You might want to do this in several steps."
   ]
  },
  {
   "cell_type": "code",
   "execution_count": null,
   "metadata": {},
   "outputs": [],
   "source": [
    "q5 = tip.join(business, 'business_id', 'inner')\\\n",
    "                .filter(business.attributes.Ambience.divey == True)\\\n",
    "                .filter(business.state == 'OH')\\\n",
    "                .filter(business.stars >= 4.0)\\\n",
    "                .groupby('business_id').count()\\\n",
    "                .filter('count' > 1000)\\\n",
    "                .join(business, 'business_id').select('name')"
   ]
  }
 ],
 "metadata": {
  "kernelspec": {
   "display_name": "Python 3",
   "language": "python",
   "name": "python3"
  },
  "language_info": {
   "codemirror_mode": {
    "name": "ipython",
    "version": 3
   },
   "file_extension": ".py",
   "mimetype": "text/x-python",
   "name": "python",
   "nbconvert_exporter": "python",
   "pygments_lexer": "ipython3",
   "version": "3.6.8"
  }
 },
 "nbformat": 4,
 "nbformat_minor": 2
}
