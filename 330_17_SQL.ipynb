{
 "cells": [
  {
   "cell_type": "markdown",
   "metadata": {},
   "source": [
    "# SI 330: Data Manipulation \n",
    "## 17 - SQL\n",
    "\n",
    "### Dr. Chris Teplovs, School of Information, University of Michigan\n",
    "<small><a rel=\"license\" href=\"http://creativecommons.org/licenses/by-nc-sa/4.0/\"><img alt=\"Creative Commons License\" style=\"border-width:0\" src=\"https://i.creativecommons.org/l/by-nc-sa/4.0/88x31.png\" /></a>This work is licensed under a <a rel=\"license\" href=\"http://creativecommons.org/licenses/by-nc-sa/4.0/\">Creative Commons Attribution-NonCommercial-ShareAlike 4.0 International License</a>."
   ]
  },
  {
   "cell_type": "markdown",
   "metadata": {},
   "source": [
    "# <FONT COLOR=\"red\">NOTE: Please install the ```pymysql``` module (conda install pymysql)"
   ]
  },
  {
   "cell_type": "markdown",
   "metadata": {},
   "source": [
    "# SQL Outline\n",
    "\n",
    "## Day 1\n",
    "\n",
    "* AWS Overview\n",
    "  * EC2, RDS\n",
    "\n",
    "* Tasks\n",
    "  * log into AWS Console\n",
    "  * create EC2 instance\n",
    "    * yum install mysql\n",
    "    * wget .sql\n",
    "    \n",
    "## Day 2\n",
    "\n",
    "* RDS\n",
    "* MySQL\n",
    "\n",
    "* Tasks\n",
    "  * create RDS instance\n",
    "  * load SQL file from EC2\n",
    "  * browse with MySQLWorkbench\n",
    "  \n",
    "## Day 3\n",
    "\n",
    "* pymysql\n",
    "\n",
    "* Tasks\n",
    "  * query goodreads\n",
    "  \n",
    "## Day 4\n",
    "\n",
    "* BigQuery, Homework\n"
   ]
  },
  {
   "cell_type": "markdown",
   "metadata": {},
   "source": [
    "## SQL\n",
    "\n",
    "In general, we are going to:\n",
    "```\n",
    "SELECT some_fields FROM some_table\n",
    "WHERE some_condition_exists\n",
    "[ GROUP BY some_field ]\n",
    "[ ORDER BY some_field ]\n",
    "```"
   ]
  },
  {
   "cell_type": "markdown",
   "metadata": {},
   "source": [
    "For example:\n",
    "```\n",
    "SELECT authors FROM books;\n",
    "```\n",
    "**Note:** the convention is to use UPPERCASE for SQL reserved words, and lowercase for the specifics of your instance"
   ]
  },
  {
   "cell_type": "markdown",
   "metadata": {},
   "source": [
    "If we want all the fields:\n",
    "```\n",
    "SELECT * FROM books;\n",
    "```"
   ]
  },
  {
   "cell_type": "markdown",
   "metadata": {},
   "source": [
    "Adding a condition:\n",
    "```\n",
    "SELECT * FROM books\n",
    "WHERE original_publication_year >= 2008;\n",
    "```"
   ]
  },
  {
   "cell_type": "markdown",
   "metadata": {},
   "source": [
    "And you can also group by a field:\n",
    "```\n",
    "SELECT original_publication_year,COUNT(*) FROM books\n",
    "GROUP BY original_publication_year;\n",
    "```"
   ]
  },
  {
   "cell_type": "markdown",
   "metadata": {},
   "source": [
    "## Introduction to pymysql\n",
    "\n"
   ]
  },
  {
   "cell_type": "markdown",
   "metadata": {},
   "source": [
    "```pymysql``` is a python interface to SQL servers (including MySQL, sqlite, etc.).  There are other interfaces (such as SQLAlchemy), but pymysql is the most straight-forward to work with. (Note caveats that we'll discuss in class.)"
   ]
  },
  {
   "cell_type": "code",
   "execution_count": 2,
   "metadata": {},
   "outputs": [],
   "source": [
    "import pymysql"
   ]
  },
  {
   "cell_type": "markdown",
   "metadata": {},
   "source": [
    "Fill in the ```host```, ```user``` and ```password``` fields in the next code block.  The host is the RDS endpoint; user should probably be your uniqname, and password should be whatever you set you database password to."
   ]
  },
  {
   "cell_type": "markdown",
   "metadata": {},
   "source": [
    "Run the block to establish a connection to your RDS-based MySQL server:"
   ]
  },
  {
   "cell_type": "code",
   "execution_count": 3,
   "metadata": {},
   "outputs": [],
   "source": [
    "connection = pymysql.connect(host='si330-gprime-instance.cst7dbvgzgvt.us-east-1.rds.amazonaws.com', # remove this before submitting\n",
    "                             user='blank', # remove this before submitting\n",
    "                             password='blank', # remove this before submitting\n",
    "                             db='goodreads',\n",
    "                             charset='utf8mb4',\n",
    "                             cursorclass=pymysql.cursors.DictCursor)"
   ]
  },
  {
   "cell_type": "markdown",
   "metadata": {},
   "source": [
    "Here's a \"pythonic\" way to query your database.  THe following is a bit "
   ]
  },
  {
   "cell_type": "code",
   "execution_count": 4,
   "metadata": {},
   "outputs": [
    {
     "name": "stdout",
     "output_type": "stream",
     "text": [
      "The Hunger Games Suzanne Collins\n"
     ]
    }
   ],
   "source": [
    "with connection.cursor() as cursor:\n",
    "    cursor.execute(\"SELECT * FROM books WHERE original_title = 'The Hunger Games'\")\n",
    "    results = cursor.fetchall()\n",
    "    for result in results:\n",
    "        print(result['original_title'],result['authors'])"
   ]
  },
  {
   "cell_type": "markdown",
   "metadata": {},
   "source": [
    "### COUNT"
   ]
  },
  {
   "cell_type": "code",
   "execution_count": 5,
   "metadata": {},
   "outputs": [
    {
     "name": "stdout",
     "output_type": "stream",
     "text": [
      "{'COUNT(*)': 9}\n"
     ]
    }
   ],
   "source": [
    "with connection.cursor() as cursor:\n",
    "    cursor.execute(\"SELECT COUNT(*) FROM books WHERE authors = 'Suzanne Collins'\")\n",
    "    result = cursor.fetchone()\n",
    "    print(result)"
   ]
  },
  {
   "cell_type": "markdown",
   "metadata": {},
   "source": [
    "We can rename awkward column names by using the ```AS``` operator:"
   ]
  },
  {
   "cell_type": "code",
   "execution_count": 6,
   "metadata": {},
   "outputs": [
    {
     "name": "stdout",
     "output_type": "stream",
     "text": [
      "{'cnt': 9}\n"
     ]
    }
   ],
   "source": [
    "with connection.cursor() as cursor:\n",
    "    cursor.execute(\"SELECT COUNT(*) AS cnt FROM books WHERE authors = 'Suzanne Collins'\")\n",
    "    result = cursor.fetchone()\n",
    "    print(result)"
   ]
  },
  {
   "cell_type": "markdown",
   "metadata": {},
   "source": [
    "### DISTINCT"
   ]
  },
  {
   "cell_type": "markdown",
   "metadata": {},
   "source": [
    "Sometimes, we want to know the number of distinct (unique) values of a field.  Here are two ways of doing this:"
   ]
  },
  {
   "cell_type": "code",
   "execution_count": 7,
   "metadata": {},
   "outputs": [
    {
     "name": "stdout",
     "output_type": "stream",
     "text": [
      "4669\n"
     ]
    }
   ],
   "source": [
    "with connection.cursor() as cursor:\n",
    "    cursor.execute('SELECT DISTINCT authors FROM books')\n",
    "    results = cursor.fetchall()\n",
    "    print(len(results))"
   ]
  },
  {
   "cell_type": "code",
   "execution_count": 8,
   "metadata": {},
   "outputs": [
    {
     "name": "stdout",
     "output_type": "stream",
     "text": [
      "{'COUNT(DISTINCT authors)': 4669}\n"
     ]
    }
   ],
   "source": [
    "with connection.cursor() as cursor:\n",
    "    cursor.execute('SELECT COUNT(DISTINCT authors) FROM books')\n",
    "    result = cursor.fetchone()\n",
    "    print(result)"
   ]
  },
  {
   "cell_type": "markdown",
   "metadata": {},
   "source": [
    "### <font color=\"magenta\">Q1: Which of the above two ways of finding distinct values is more efficient?  Why?</font>"
   ]
  },
  {
   "cell_type": "markdown",
   "metadata": {},
   "source": [
    "The second way is more efficient because it is just returning the count of each distinct author instead of their names which ultimately is last information and will take less time. "
   ]
  },
  {
   "cell_type": "markdown",
   "metadata": {},
   "source": [
    "## SQL from pandas"
   ]
  },
  {
   "cell_type": "markdown",
   "metadata": {},
   "source": [
    "We are going to continue to use our connection object from above in this section.  Pandas plays nicely with pymysql."
   ]
  },
  {
   "cell_type": "code",
   "execution_count": 9,
   "metadata": {},
   "outputs": [],
   "source": [
    "import pandas as pd"
   ]
  },
  {
   "cell_type": "markdown",
   "metadata": {},
   "source": [
    "Just like what we found with read_csv (a relief compared to CSVDictReader), we have a read_sql method that allows us to create a dataframe based on an SQL query:"
   ]
  },
  {
   "cell_type": "code",
   "execution_count": 30,
   "metadata": {},
   "outputs": [
    {
     "data": {
      "text/plain": [
       "136631"
      ]
     },
     "execution_count": 30,
     "metadata": {},
     "output_type": "execute_result"
    }
   ],
   "source": [
    "firstdf = pd.read_sql('SELECT * FROM books',con=connection)\n",
    "len(df)"
   ]
  },
  {
   "cell_type": "code",
   "execution_count": 29,
   "metadata": {},
   "outputs": [
    {
     "data": {
      "text/html": [
       "<div>\n",
       "<style scoped>\n",
       "    .dataframe tbody tr th:only-of-type {\n",
       "        vertical-align: middle;\n",
       "    }\n",
       "\n",
       "    .dataframe tbody tr th {\n",
       "        vertical-align: top;\n",
       "    }\n",
       "\n",
       "    .dataframe thead th {\n",
       "        text-align: right;\n",
       "    }\n",
       "</style>\n",
       "<table border=\"1\" class=\"dataframe\">\n",
       "  <thead>\n",
       "    <tr style=\"text-align: right;\">\n",
       "      <th></th>\n",
       "      <th>book_id</th>\n",
       "      <th>goodreads_book_id</th>\n",
       "      <th>best_book_id</th>\n",
       "      <th>work_id</th>\n",
       "      <th>books_count</th>\n",
       "      <th>isbn</th>\n",
       "      <th>isbn13</th>\n",
       "      <th>authors</th>\n",
       "      <th>original_publication_year</th>\n",
       "      <th>original_title</th>\n",
       "      <th>...</th>\n",
       "      <th>ratings_count</th>\n",
       "      <th>work_ratings_count</th>\n",
       "      <th>work_text_reviews_count</th>\n",
       "      <th>ratings_1</th>\n",
       "      <th>ratings_2</th>\n",
       "      <th>ratings_3</th>\n",
       "      <th>ratings_4</th>\n",
       "      <th>ratings_5</th>\n",
       "      <th>image_url</th>\n",
       "      <th>small_image_url</th>\n",
       "    </tr>\n",
       "  </thead>\n",
       "  <tbody>\n",
       "    <tr>\n",
       "      <th>0</th>\n",
       "      <td>1</td>\n",
       "      <td>2767052</td>\n",
       "      <td>2767052</td>\n",
       "      <td>2792775</td>\n",
       "      <td>272</td>\n",
       "      <td>439023483</td>\n",
       "      <td>9.780440e+12</td>\n",
       "      <td>Suzanne Collins</td>\n",
       "      <td>2008</td>\n",
       "      <td>The Hunger Games</td>\n",
       "      <td>...</td>\n",
       "      <td>4780653</td>\n",
       "      <td>4942365</td>\n",
       "      <td>155254</td>\n",
       "      <td>66715</td>\n",
       "      <td>127936</td>\n",
       "      <td>560092</td>\n",
       "      <td>1481305</td>\n",
       "      <td>2706317</td>\n",
       "      <td>https://images.gr-assets.com/books/1447303603m...</td>\n",
       "      <td>https://images.gr-assets.com/books/1447303603s...</td>\n",
       "    </tr>\n",
       "    <tr>\n",
       "      <th>1</th>\n",
       "      <td>2</td>\n",
       "      <td>3</td>\n",
       "      <td>3</td>\n",
       "      <td>4640799</td>\n",
       "      <td>491</td>\n",
       "      <td>439554934</td>\n",
       "      <td>9.780440e+12</td>\n",
       "      <td>J.K. Rowling, Mary GrandPrÃ©</td>\n",
       "      <td>1997</td>\n",
       "      <td>Harry Potter and the Philosopher's Stone</td>\n",
       "      <td>...</td>\n",
       "      <td>4602479</td>\n",
       "      <td>4800065</td>\n",
       "      <td>75867</td>\n",
       "      <td>75504</td>\n",
       "      <td>101676</td>\n",
       "      <td>455024</td>\n",
       "      <td>1156318</td>\n",
       "      <td>3011543</td>\n",
       "      <td>https://images.gr-assets.com/books/1474154022m...</td>\n",
       "      <td>https://images.gr-assets.com/books/1474154022s...</td>\n",
       "    </tr>\n",
       "    <tr>\n",
       "      <th>2</th>\n",
       "      <td>3</td>\n",
       "      <td>41865</td>\n",
       "      <td>41865</td>\n",
       "      <td>3212258</td>\n",
       "      <td>226</td>\n",
       "      <td>316015849</td>\n",
       "      <td>9.780320e+12</td>\n",
       "      <td>Stephenie Meyer</td>\n",
       "      <td>2005</td>\n",
       "      <td>Twilight</td>\n",
       "      <td>...</td>\n",
       "      <td>3866839</td>\n",
       "      <td>3916824</td>\n",
       "      <td>95009</td>\n",
       "      <td>456191</td>\n",
       "      <td>436802</td>\n",
       "      <td>793319</td>\n",
       "      <td>875073</td>\n",
       "      <td>1355439</td>\n",
       "      <td>https://images.gr-assets.com/books/1361039443m...</td>\n",
       "      <td>https://images.gr-assets.com/books/1361039443s...</td>\n",
       "    </tr>\n",
       "    <tr>\n",
       "      <th>3</th>\n",
       "      <td>4</td>\n",
       "      <td>2657</td>\n",
       "      <td>2657</td>\n",
       "      <td>3275794</td>\n",
       "      <td>487</td>\n",
       "      <td>61120081</td>\n",
       "      <td>9.780060e+12</td>\n",
       "      <td>Harper Lee</td>\n",
       "      <td>1960</td>\n",
       "      <td>To Kill a Mockingbird</td>\n",
       "      <td>...</td>\n",
       "      <td>3198671</td>\n",
       "      <td>3340896</td>\n",
       "      <td>72586</td>\n",
       "      <td>60427</td>\n",
       "      <td>117415</td>\n",
       "      <td>446835</td>\n",
       "      <td>1001952</td>\n",
       "      <td>1714267</td>\n",
       "      <td>https://images.gr-assets.com/books/1361975680m...</td>\n",
       "      <td>https://images.gr-assets.com/books/1361975680s...</td>\n",
       "    </tr>\n",
       "    <tr>\n",
       "      <th>4</th>\n",
       "      <td>5</td>\n",
       "      <td>4671</td>\n",
       "      <td>4671</td>\n",
       "      <td>245494</td>\n",
       "      <td>1356</td>\n",
       "      <td>743273567</td>\n",
       "      <td>9.780740e+12</td>\n",
       "      <td>F. Scott Fitzgerald</td>\n",
       "      <td>1925</td>\n",
       "      <td>The Great Gatsby</td>\n",
       "      <td>...</td>\n",
       "      <td>2683664</td>\n",
       "      <td>2773745</td>\n",
       "      <td>51992</td>\n",
       "      <td>86236</td>\n",
       "      <td>197621</td>\n",
       "      <td>606158</td>\n",
       "      <td>936012</td>\n",
       "      <td>947718</td>\n",
       "      <td>https://images.gr-assets.com/books/1490528560m...</td>\n",
       "      <td>https://images.gr-assets.com/books/1490528560s...</td>\n",
       "    </tr>\n",
       "  </tbody>\n",
       "</table>\n",
       "<p>5 rows × 23 columns</p>\n",
       "</div>"
      ],
      "text/plain": [
       "   book_id  goodreads_book_id  best_book_id  work_id  books_count       isbn  \\\n",
       "0        1            2767052       2767052  2792775          272  439023483   \n",
       "1        2                  3             3  4640799          491  439554934   \n",
       "2        3              41865         41865  3212258          226  316015849   \n",
       "3        4               2657          2657  3275794          487   61120081   \n",
       "4        5               4671          4671   245494         1356  743273567   \n",
       "\n",
       "         isbn13                       authors  original_publication_year  \\\n",
       "0  9.780440e+12               Suzanne Collins                       2008   \n",
       "1  9.780440e+12  J.K. Rowling, Mary GrandPrÃ©                       1997   \n",
       "2  9.780320e+12               Stephenie Meyer                       2005   \n",
       "3  9.780060e+12                    Harper Lee                       1960   \n",
       "4  9.780740e+12           F. Scott Fitzgerald                       1925   \n",
       "\n",
       "                             original_title  ... ratings_count  \\\n",
       "0                          The Hunger Games  ...       4780653   \n",
       "1  Harry Potter and the Philosopher's Stone  ...       4602479   \n",
       "2                                  Twilight  ...       3866839   \n",
       "3                     To Kill a Mockingbird  ...       3198671   \n",
       "4                          The Great Gatsby  ...       2683664   \n",
       "\n",
       "  work_ratings_count  work_text_reviews_count  ratings_1  ratings_2  \\\n",
       "0            4942365                   155254      66715     127936   \n",
       "1            4800065                    75867      75504     101676   \n",
       "2            3916824                    95009     456191     436802   \n",
       "3            3340896                    72586      60427     117415   \n",
       "4            2773745                    51992      86236     197621   \n",
       "\n",
       "   ratings_3  ratings_4  ratings_5  \\\n",
       "0     560092    1481305    2706317   \n",
       "1     455024    1156318    3011543   \n",
       "2     793319     875073    1355439   \n",
       "3     446835    1001952    1714267   \n",
       "4     606158     936012     947718   \n",
       "\n",
       "                                           image_url  \\\n",
       "0  https://images.gr-assets.com/books/1447303603m...   \n",
       "1  https://images.gr-assets.com/books/1474154022m...   \n",
       "2  https://images.gr-assets.com/books/1361039443m...   \n",
       "3  https://images.gr-assets.com/books/1361975680m...   \n",
       "4  https://images.gr-assets.com/books/1490528560m...   \n",
       "\n",
       "                                     small_image_url  \n",
       "0  https://images.gr-assets.com/books/1447303603s...  \n",
       "1  https://images.gr-assets.com/books/1474154022s...  \n",
       "2  https://images.gr-assets.com/books/1361039443s...  \n",
       "3  https://images.gr-assets.com/books/1361975680s...  \n",
       "4  https://images.gr-assets.com/books/1490528560s...  \n",
       "\n",
       "[5 rows x 23 columns]"
      ]
     },
     "execution_count": 29,
     "metadata": {},
     "output_type": "execute_result"
    }
   ],
   "source": [
    "firstdf.head()"
   ]
  },
  {
   "cell_type": "markdown",
   "metadata": {},
   "source": [
    "Let's work in pandas, and explore wildcards and regular expressions in SQL:"
   ]
  },
  {
   "cell_type": "code",
   "execution_count": 13,
   "metadata": {},
   "outputs": [
    {
     "data": {
      "text/html": [
       "<div>\n",
       "<style scoped>\n",
       "    .dataframe tbody tr th:only-of-type {\n",
       "        vertical-align: middle;\n",
       "    }\n",
       "\n",
       "    .dataframe tbody tr th {\n",
       "        vertical-align: top;\n",
       "    }\n",
       "\n",
       "    .dataframe thead th {\n",
       "        text-align: right;\n",
       "    }\n",
       "</style>\n",
       "<table border=\"1\" class=\"dataframe\">\n",
       "  <thead>\n",
       "    <tr style=\"text-align: right;\">\n",
       "      <th></th>\n",
       "      <th>book_id</th>\n",
       "      <th>goodreads_book_id</th>\n",
       "      <th>best_book_id</th>\n",
       "      <th>work_id</th>\n",
       "      <th>books_count</th>\n",
       "      <th>isbn</th>\n",
       "      <th>isbn13</th>\n",
       "      <th>authors</th>\n",
       "      <th>original_publication_year</th>\n",
       "      <th>original_title</th>\n",
       "      <th>...</th>\n",
       "      <th>ratings_count</th>\n",
       "      <th>work_ratings_count</th>\n",
       "      <th>work_text_reviews_count</th>\n",
       "      <th>ratings_1</th>\n",
       "      <th>ratings_2</th>\n",
       "      <th>ratings_3</th>\n",
       "      <th>ratings_4</th>\n",
       "      <th>ratings_5</th>\n",
       "      <th>image_url</th>\n",
       "      <th>small_image_url</th>\n",
       "    </tr>\n",
       "  </thead>\n",
       "  <tbody>\n",
       "    <tr>\n",
       "      <th>0</th>\n",
       "      <td>1</td>\n",
       "      <td>2767052</td>\n",
       "      <td>2767052</td>\n",
       "      <td>2792775</td>\n",
       "      <td>272</td>\n",
       "      <td>439023483</td>\n",
       "      <td>9.780440e+12</td>\n",
       "      <td>Suzanne Collins</td>\n",
       "      <td>2008</td>\n",
       "      <td>The Hunger Games</td>\n",
       "      <td>...</td>\n",
       "      <td>4780653</td>\n",
       "      <td>4942365</td>\n",
       "      <td>155254</td>\n",
       "      <td>66715</td>\n",
       "      <td>127936</td>\n",
       "      <td>560092</td>\n",
       "      <td>1481305</td>\n",
       "      <td>2706317</td>\n",
       "      <td>https://images.gr-assets.com/books/1447303603m...</td>\n",
       "      <td>https://images.gr-assets.com/books/1447303603s...</td>\n",
       "    </tr>\n",
       "  </tbody>\n",
       "</table>\n",
       "<p>1 rows × 23 columns</p>\n",
       "</div>"
      ],
      "text/plain": [
       "   book_id  goodreads_book_id  best_book_id  work_id  books_count       isbn  \\\n",
       "0        1            2767052       2767052  2792775          272  439023483   \n",
       "\n",
       "         isbn13          authors  original_publication_year    original_title  \\\n",
       "0  9.780440e+12  Suzanne Collins                       2008  The Hunger Games   \n",
       "\n",
       "   ... ratings_count work_ratings_count  work_text_reviews_count  ratings_1  \\\n",
       "0  ...       4780653            4942365                   155254      66715   \n",
       "\n",
       "   ratings_2  ratings_3  ratings_4  ratings_5  \\\n",
       "0     127936     560092    1481305    2706317   \n",
       "\n",
       "                                           image_url  \\\n",
       "0  https://images.gr-assets.com/books/1447303603m...   \n",
       "\n",
       "                                     small_image_url  \n",
       "0  https://images.gr-assets.com/books/1447303603s...  \n",
       "\n",
       "[1 rows x 23 columns]"
      ]
     },
     "execution_count": 13,
     "metadata": {},
     "output_type": "execute_result"
    }
   ],
   "source": [
    "df = pd.read_sql('SELECT * FROM books WHERE original_title = \"The Hunger Games\"',con=connection)\n",
    "df"
   ]
  },
  {
   "cell_type": "markdown",
   "metadata": {},
   "source": [
    "In SQL, ```%``` means 1 or more wildcard characters; ```?``` means exactly one wildcard character.  So, if we wanted to look for titles that contain \"Hunger Games\", we could use:"
   ]
  },
  {
   "cell_type": "code",
   "execution_count": 14,
   "metadata": {},
   "outputs": [
    {
     "data": {
      "text/html": [
       "<div>\n",
       "<style scoped>\n",
       "    .dataframe tbody tr th:only-of-type {\n",
       "        vertical-align: middle;\n",
       "    }\n",
       "\n",
       "    .dataframe tbody tr th {\n",
       "        vertical-align: top;\n",
       "    }\n",
       "\n",
       "    .dataframe thead th {\n",
       "        text-align: right;\n",
       "    }\n",
       "</style>\n",
       "<table border=\"1\" class=\"dataframe\">\n",
       "  <thead>\n",
       "    <tr style=\"text-align: right;\">\n",
       "      <th></th>\n",
       "      <th>book_id</th>\n",
       "      <th>goodreads_book_id</th>\n",
       "      <th>best_book_id</th>\n",
       "      <th>work_id</th>\n",
       "      <th>books_count</th>\n",
       "      <th>isbn</th>\n",
       "      <th>isbn13</th>\n",
       "      <th>authors</th>\n",
       "      <th>original_publication_year</th>\n",
       "      <th>original_title</th>\n",
       "      <th>...</th>\n",
       "      <th>ratings_count</th>\n",
       "      <th>work_ratings_count</th>\n",
       "      <th>work_text_reviews_count</th>\n",
       "      <th>ratings_1</th>\n",
       "      <th>ratings_2</th>\n",
       "      <th>ratings_3</th>\n",
       "      <th>ratings_4</th>\n",
       "      <th>ratings_5</th>\n",
       "      <th>image_url</th>\n",
       "      <th>small_image_url</th>\n",
       "    </tr>\n",
       "  </thead>\n",
       "  <tbody>\n",
       "    <tr>\n",
       "      <th>0</th>\n",
       "      <td>1</td>\n",
       "      <td>2767052</td>\n",
       "      <td>2767052</td>\n",
       "      <td>2792775</td>\n",
       "      <td>272</td>\n",
       "      <td>439023483</td>\n",
       "      <td>9.780440e+12</td>\n",
       "      <td>Suzanne Collins</td>\n",
       "      <td>2008</td>\n",
       "      <td>The Hunger Games</td>\n",
       "      <td>...</td>\n",
       "      <td>4780653</td>\n",
       "      <td>4942365</td>\n",
       "      <td>155254</td>\n",
       "      <td>66715</td>\n",
       "      <td>127936</td>\n",
       "      <td>560092</td>\n",
       "      <td>1481305</td>\n",
       "      <td>2706317</td>\n",
       "      <td>https://images.gr-assets.com/books/1447303603m...</td>\n",
       "      <td>https://images.gr-assets.com/books/1447303603s...</td>\n",
       "    </tr>\n",
       "    <tr>\n",
       "      <th>1</th>\n",
       "      <td>507</td>\n",
       "      <td>7938275</td>\n",
       "      <td>7938275</td>\n",
       "      <td>11349083</td>\n",
       "      <td>78</td>\n",
       "      <td>545265355</td>\n",
       "      <td>9.780550e+12</td>\n",
       "      <td>Suzanne Collins</td>\n",
       "      <td>2010</td>\n",
       "      <td>The Hunger Games Box Set</td>\n",
       "      <td>...</td>\n",
       "      <td>129665</td>\n",
       "      <td>159760</td>\n",
       "      <td>6429</td>\n",
       "      <td>1015</td>\n",
       "      <td>2521</td>\n",
       "      <td>13438</td>\n",
       "      <td>42932</td>\n",
       "      <td>99854</td>\n",
       "      <td>https://images.gr-assets.com/books/1360094673m...</td>\n",
       "      <td>https://images.gr-assets.com/books/1360094673s...</td>\n",
       "    </tr>\n",
       "  </tbody>\n",
       "</table>\n",
       "<p>2 rows × 23 columns</p>\n",
       "</div>"
      ],
      "text/plain": [
       "   book_id  goodreads_book_id  best_book_id   work_id  books_count       isbn  \\\n",
       "0        1            2767052       2767052   2792775          272  439023483   \n",
       "1      507            7938275       7938275  11349083           78  545265355   \n",
       "\n",
       "         isbn13          authors  original_publication_year  \\\n",
       "0  9.780440e+12  Suzanne Collins                       2008   \n",
       "1  9.780550e+12  Suzanne Collins                       2010   \n",
       "\n",
       "             original_title  ... ratings_count work_ratings_count  \\\n",
       "0          The Hunger Games  ...       4780653            4942365   \n",
       "1  The Hunger Games Box Set  ...        129665             159760   \n",
       "\n",
       "   work_text_reviews_count  ratings_1  ratings_2  ratings_3  ratings_4  \\\n",
       "0                   155254      66715     127936     560092    1481305   \n",
       "1                     6429       1015       2521      13438      42932   \n",
       "\n",
       "   ratings_5                                          image_url  \\\n",
       "0    2706317  https://images.gr-assets.com/books/1447303603m...   \n",
       "1      99854  https://images.gr-assets.com/books/1360094673m...   \n",
       "\n",
       "                                     small_image_url  \n",
       "0  https://images.gr-assets.com/books/1447303603s...  \n",
       "1  https://images.gr-assets.com/books/1360094673s...  \n",
       "\n",
       "[2 rows x 23 columns]"
      ]
     },
     "execution_count": 14,
     "metadata": {},
     "output_type": "execute_result"
    }
   ],
   "source": [
    "df = pd.read_sql('SELECT * FROM books WHERE original_title LIKE \"%Hunger Games%\"',con=connection)\n",
    "df"
   ]
  },
  {
   "cell_type": "markdown",
   "metadata": {},
   "source": [
    "More powerfully, we could use regular expressions:"
   ]
  },
  {
   "cell_type": "code",
   "execution_count": 15,
   "metadata": {},
   "outputs": [
    {
     "data": {
      "text/html": [
       "<div>\n",
       "<style scoped>\n",
       "    .dataframe tbody tr th:only-of-type {\n",
       "        vertical-align: middle;\n",
       "    }\n",
       "\n",
       "    .dataframe tbody tr th {\n",
       "        vertical-align: top;\n",
       "    }\n",
       "\n",
       "    .dataframe thead th {\n",
       "        text-align: right;\n",
       "    }\n",
       "</style>\n",
       "<table border=\"1\" class=\"dataframe\">\n",
       "  <thead>\n",
       "    <tr style=\"text-align: right;\">\n",
       "      <th></th>\n",
       "      <th>book_id</th>\n",
       "      <th>goodreads_book_id</th>\n",
       "      <th>best_book_id</th>\n",
       "      <th>work_id</th>\n",
       "      <th>books_count</th>\n",
       "      <th>isbn</th>\n",
       "      <th>isbn13</th>\n",
       "      <th>authors</th>\n",
       "      <th>original_publication_year</th>\n",
       "      <th>original_title</th>\n",
       "      <th>...</th>\n",
       "      <th>ratings_count</th>\n",
       "      <th>work_ratings_count</th>\n",
       "      <th>work_text_reviews_count</th>\n",
       "      <th>ratings_1</th>\n",
       "      <th>ratings_2</th>\n",
       "      <th>ratings_3</th>\n",
       "      <th>ratings_4</th>\n",
       "      <th>ratings_5</th>\n",
       "      <th>image_url</th>\n",
       "      <th>small_image_url</th>\n",
       "    </tr>\n",
       "  </thead>\n",
       "  <tbody>\n",
       "    <tr>\n",
       "      <th>0</th>\n",
       "      <td>1</td>\n",
       "      <td>2767052</td>\n",
       "      <td>2767052</td>\n",
       "      <td>2792775</td>\n",
       "      <td>272</td>\n",
       "      <td>439023483</td>\n",
       "      <td>9.780440e+12</td>\n",
       "      <td>Suzanne Collins</td>\n",
       "      <td>2008</td>\n",
       "      <td>The Hunger Games</td>\n",
       "      <td>...</td>\n",
       "      <td>4780653</td>\n",
       "      <td>4942365</td>\n",
       "      <td>155254</td>\n",
       "      <td>66715</td>\n",
       "      <td>127936</td>\n",
       "      <td>560092</td>\n",
       "      <td>1481305</td>\n",
       "      <td>2706317</td>\n",
       "      <td>https://images.gr-assets.com/books/1447303603m...</td>\n",
       "      <td>https://images.gr-assets.com/books/1447303603s...</td>\n",
       "    </tr>\n",
       "    <tr>\n",
       "      <th>1</th>\n",
       "      <td>507</td>\n",
       "      <td>7938275</td>\n",
       "      <td>7938275</td>\n",
       "      <td>11349083</td>\n",
       "      <td>78</td>\n",
       "      <td>545265355</td>\n",
       "      <td>9.780550e+12</td>\n",
       "      <td>Suzanne Collins</td>\n",
       "      <td>2010</td>\n",
       "      <td>The Hunger Games Box Set</td>\n",
       "      <td>...</td>\n",
       "      <td>129665</td>\n",
       "      <td>159760</td>\n",
       "      <td>6429</td>\n",
       "      <td>1015</td>\n",
       "      <td>2521</td>\n",
       "      <td>13438</td>\n",
       "      <td>42932</td>\n",
       "      <td>99854</td>\n",
       "      <td>https://images.gr-assets.com/books/1360094673m...</td>\n",
       "      <td>https://images.gr-assets.com/books/1360094673s...</td>\n",
       "    </tr>\n",
       "  </tbody>\n",
       "</table>\n",
       "<p>2 rows × 23 columns</p>\n",
       "</div>"
      ],
      "text/plain": [
       "   book_id  goodreads_book_id  best_book_id   work_id  books_count       isbn  \\\n",
       "0        1            2767052       2767052   2792775          272  439023483   \n",
       "1      507            7938275       7938275  11349083           78  545265355   \n",
       "\n",
       "         isbn13          authors  original_publication_year  \\\n",
       "0  9.780440e+12  Suzanne Collins                       2008   \n",
       "1  9.780550e+12  Suzanne Collins                       2010   \n",
       "\n",
       "             original_title  ... ratings_count work_ratings_count  \\\n",
       "0          The Hunger Games  ...       4780653            4942365   \n",
       "1  The Hunger Games Box Set  ...        129665             159760   \n",
       "\n",
       "   work_text_reviews_count  ratings_1  ratings_2  ratings_3  ratings_4  \\\n",
       "0                   155254      66715     127936     560092    1481305   \n",
       "1                     6429       1015       2521      13438      42932   \n",
       "\n",
       "   ratings_5                                          image_url  \\\n",
       "0    2706317  https://images.gr-assets.com/books/1447303603m...   \n",
       "1      99854  https://images.gr-assets.com/books/1360094673m...   \n",
       "\n",
       "                                     small_image_url  \n",
       "0  https://images.gr-assets.com/books/1447303603s...  \n",
       "1  https://images.gr-assets.com/books/1360094673s...  \n",
       "\n",
       "[2 rows x 23 columns]"
      ]
     },
     "execution_count": 15,
     "metadata": {},
     "output_type": "execute_result"
    }
   ],
   "source": [
    "df = pd.read_sql('SELECT * FROM books WHERE original_title REGEXP \".*Hunger Games.*\"',con=connection)\n",
    "df"
   ]
  },
  {
   "cell_type": "code",
   "execution_count": 16,
   "metadata": {},
   "outputs": [
    {
     "data": {
      "text/html": [
       "<div>\n",
       "<style scoped>\n",
       "    .dataframe tbody tr th:only-of-type {\n",
       "        vertical-align: middle;\n",
       "    }\n",
       "\n",
       "    .dataframe tbody tr th {\n",
       "        vertical-align: top;\n",
       "    }\n",
       "\n",
       "    .dataframe thead th {\n",
       "        text-align: right;\n",
       "    }\n",
       "</style>\n",
       "<table border=\"1\" class=\"dataframe\">\n",
       "  <thead>\n",
       "    <tr style=\"text-align: right;\">\n",
       "      <th></th>\n",
       "      <th>book_id</th>\n",
       "      <th>goodreads_book_id</th>\n",
       "      <th>best_book_id</th>\n",
       "      <th>work_id</th>\n",
       "      <th>books_count</th>\n",
       "      <th>isbn</th>\n",
       "      <th>isbn13</th>\n",
       "      <th>authors</th>\n",
       "      <th>original_publication_year</th>\n",
       "      <th>original_title</th>\n",
       "      <th>...</th>\n",
       "      <th>ratings_count</th>\n",
       "      <th>work_ratings_count</th>\n",
       "      <th>work_text_reviews_count</th>\n",
       "      <th>ratings_1</th>\n",
       "      <th>ratings_2</th>\n",
       "      <th>ratings_3</th>\n",
       "      <th>ratings_4</th>\n",
       "      <th>ratings_5</th>\n",
       "      <th>image_url</th>\n",
       "      <th>small_image_url</th>\n",
       "    </tr>\n",
       "  </thead>\n",
       "  <tbody>\n",
       "    <tr>\n",
       "      <th>0</th>\n",
       "      <td>1</td>\n",
       "      <td>2767052</td>\n",
       "      <td>2767052</td>\n",
       "      <td>2792775</td>\n",
       "      <td>272</td>\n",
       "      <td>439023483</td>\n",
       "      <td>9.780440e+12</td>\n",
       "      <td>Suzanne Collins</td>\n",
       "      <td>2008</td>\n",
       "      <td>The Hunger Games</td>\n",
       "      <td>...</td>\n",
       "      <td>4780653</td>\n",
       "      <td>4942365</td>\n",
       "      <td>155254</td>\n",
       "      <td>66715</td>\n",
       "      <td>127936</td>\n",
       "      <td>560092</td>\n",
       "      <td>1481305</td>\n",
       "      <td>2706317</td>\n",
       "      <td>https://images.gr-assets.com/books/1447303603m...</td>\n",
       "      <td>https://images.gr-assets.com/books/1447303603s...</td>\n",
       "    </tr>\n",
       "    <tr>\n",
       "      <th>1</th>\n",
       "      <td>20</td>\n",
       "      <td>7260188</td>\n",
       "      <td>7260188</td>\n",
       "      <td>8812783</td>\n",
       "      <td>239</td>\n",
       "      <td>439023513</td>\n",
       "      <td>9.780440e+12</td>\n",
       "      <td>Suzanne Collins</td>\n",
       "      <td>2010</td>\n",
       "      <td>Mockingjay</td>\n",
       "      <td>...</td>\n",
       "      <td>1719760</td>\n",
       "      <td>1870748</td>\n",
       "      <td>96274</td>\n",
       "      <td>30144</td>\n",
       "      <td>110498</td>\n",
       "      <td>373060</td>\n",
       "      <td>618271</td>\n",
       "      <td>738775</td>\n",
       "      <td>https://images.gr-assets.com/books/1358275419m...</td>\n",
       "      <td>https://images.gr-assets.com/books/1358275419s...</td>\n",
       "    </tr>\n",
       "    <tr>\n",
       "      <th>2</th>\n",
       "      <td>56</td>\n",
       "      <td>1162543</td>\n",
       "      <td>1162543</td>\n",
       "      <td>2960529</td>\n",
       "      <td>183</td>\n",
       "      <td>031606792X</td>\n",
       "      <td>9.780320e+12</td>\n",
       "      <td>Stephenie Meyer</td>\n",
       "      <td>2008</td>\n",
       "      <td>Breaking Dawn</td>\n",
       "      <td>...</td>\n",
       "      <td>1070245</td>\n",
       "      <td>1107709</td>\n",
       "      <td>44550</td>\n",
       "      <td>100994</td>\n",
       "      <td>114893</td>\n",
       "      <td>213402</td>\n",
       "      <td>267706</td>\n",
       "      <td>410714</td>\n",
       "      <td>https://images.gr-assets.com/books/1361039438m...</td>\n",
       "      <td>https://images.gr-assets.com/books/1361039438s...</td>\n",
       "    </tr>\n",
       "    <tr>\n",
       "      <th>3</th>\n",
       "      <td>73</td>\n",
       "      <td>1656001</td>\n",
       "      <td>1656001</td>\n",
       "      <td>3328799</td>\n",
       "      <td>161</td>\n",
       "      <td>316068047</td>\n",
       "      <td>9.780320e+12</td>\n",
       "      <td>Stephenie Meyer</td>\n",
       "      <td>2008</td>\n",
       "      <td>The Host</td>\n",
       "      <td>...</td>\n",
       "      <td>749780</td>\n",
       "      <td>777560</td>\n",
       "      <td>39778</td>\n",
       "      <td>44215</td>\n",
       "      <td>62501</td>\n",
       "      <td>154906</td>\n",
       "      <td>227180</td>\n",
       "      <td>288758</td>\n",
       "      <td>https://images.gr-assets.com/books/1318009171m...</td>\n",
       "      <td>https://images.gr-assets.com/books/1318009171s...</td>\n",
       "    </tr>\n",
       "    <tr>\n",
       "      <th>4</th>\n",
       "      <td>88</td>\n",
       "      <td>6442769</td>\n",
       "      <td>6442769</td>\n",
       "      <td>3364505</td>\n",
       "      <td>178</td>\n",
       "      <td>014241493X</td>\n",
       "      <td>9.780140e+12</td>\n",
       "      <td>John Green</td>\n",
       "      <td>2008</td>\n",
       "      <td>Paper Towns</td>\n",
       "      <td>...</td>\n",
       "      <td>461311</td>\n",
       "      <td>655271</td>\n",
       "      <td>42717</td>\n",
       "      <td>14105</td>\n",
       "      <td>47183</td>\n",
       "      <td>154479</td>\n",
       "      <td>223895</td>\n",
       "      <td>215609</td>\n",
       "      <td>https://images.gr-assets.com/books/1349013610m...</td>\n",
       "      <td>https://images.gr-assets.com/books/1349013610s...</td>\n",
       "    </tr>\n",
       "  </tbody>\n",
       "</table>\n",
       "<p>5 rows × 23 columns</p>\n",
       "</div>"
      ],
      "text/plain": [
       "   book_id  goodreads_book_id  best_book_id  work_id  books_count        isbn  \\\n",
       "0        1            2767052       2767052  2792775          272   439023483   \n",
       "1       20            7260188       7260188  8812783          239   439023513   \n",
       "2       56            1162543       1162543  2960529          183  031606792X   \n",
       "3       73            1656001       1656001  3328799          161   316068047   \n",
       "4       88            6442769       6442769  3364505          178  014241493X   \n",
       "\n",
       "         isbn13          authors  original_publication_year    original_title  \\\n",
       "0  9.780440e+12  Suzanne Collins                       2008  The Hunger Games   \n",
       "1  9.780440e+12  Suzanne Collins                       2010        Mockingjay   \n",
       "2  9.780320e+12  Stephenie Meyer                       2008     Breaking Dawn   \n",
       "3  9.780320e+12  Stephenie Meyer                       2008          The Host   \n",
       "4  9.780140e+12       John Green                       2008       Paper Towns   \n",
       "\n",
       "   ... ratings_count work_ratings_count  work_text_reviews_count  ratings_1  \\\n",
       "0  ...       4780653            4942365                   155254      66715   \n",
       "1  ...       1719760            1870748                    96274      30144   \n",
       "2  ...       1070245            1107709                    44550     100994   \n",
       "3  ...        749780             777560                    39778      44215   \n",
       "4  ...        461311             655271                    42717      14105   \n",
       "\n",
       "   ratings_2  ratings_3  ratings_4  ratings_5  \\\n",
       "0     127936     560092    1481305    2706317   \n",
       "1     110498     373060     618271     738775   \n",
       "2     114893     213402     267706     410714   \n",
       "3      62501     154906     227180     288758   \n",
       "4      47183     154479     223895     215609   \n",
       "\n",
       "                                           image_url  \\\n",
       "0  https://images.gr-assets.com/books/1447303603m...   \n",
       "1  https://images.gr-assets.com/books/1358275419m...   \n",
       "2  https://images.gr-assets.com/books/1361039438m...   \n",
       "3  https://images.gr-assets.com/books/1318009171m...   \n",
       "4  https://images.gr-assets.com/books/1349013610m...   \n",
       "\n",
       "                                     small_image_url  \n",
       "0  https://images.gr-assets.com/books/1447303603s...  \n",
       "1  https://images.gr-assets.com/books/1358275419s...  \n",
       "2  https://images.gr-assets.com/books/1361039438s...  \n",
       "3  https://images.gr-assets.com/books/1318009171s...  \n",
       "4  https://images.gr-assets.com/books/1349013610s...  \n",
       "\n",
       "[5 rows x 23 columns]"
      ]
     },
     "execution_count": 16,
     "metadata": {},
     "output_type": "execute_result"
    }
   ],
   "source": [
    "df = pd.read_sql('SELECT * FROM books WHERE original_publication_year IN (2008, 2010)',con=connection)\n",
    "df.head()"
   ]
  },
  {
   "cell_type": "markdown",
   "metadata": {},
   "source": [
    "Sometimes, it's nicer to wrap our SQL across multiple lines, so we can use docstrings (\"\"\"...\"\"\") to create our SQL.\n",
    "\n",
    "Here's an example of a join using a WHERE statement:"
   ]
  },
  {
   "cell_type": "code",
   "execution_count": 17,
   "metadata": {},
   "outputs": [],
   "source": [
    "df = pd.read_sql(\"\"\"\n",
    "                SELECT books.original_title, ratings.rating \n",
    "                FROM books,ratings \n",
    "                WHERE books.authors LIKE '%Rowling%' \n",
    "                AND books.book_id = ratings.book_id;\n",
    "                \"\"\", con = connection)   "
   ]
  },
  {
   "cell_type": "code",
   "execution_count": 18,
   "metadata": {},
   "outputs": [
    {
     "data": {
      "text/plain": [
       "(136631, 2)"
      ]
     },
     "execution_count": 18,
     "metadata": {},
     "output_type": "execute_result"
    }
   ],
   "source": [
    "df.shape"
   ]
  },
  {
   "cell_type": "code",
   "execution_count": 19,
   "metadata": {},
   "outputs": [
    {
     "data": {
      "text/html": [
       "<div>\n",
       "<style scoped>\n",
       "    .dataframe tbody tr th:only-of-type {\n",
       "        vertical-align: middle;\n",
       "    }\n",
       "\n",
       "    .dataframe tbody tr th {\n",
       "        vertical-align: top;\n",
       "    }\n",
       "\n",
       "    .dataframe thead th {\n",
       "        text-align: right;\n",
       "    }\n",
       "</style>\n",
       "<table border=\"1\" class=\"dataframe\">\n",
       "  <thead>\n",
       "    <tr style=\"text-align: right;\">\n",
       "      <th></th>\n",
       "      <th>original_title</th>\n",
       "      <th>rating</th>\n",
       "    </tr>\n",
       "  </thead>\n",
       "  <tbody>\n",
       "    <tr>\n",
       "      <th>0</th>\n",
       "      <td>Harry Potter and the Philosopher's Stone</td>\n",
       "      <td>5</td>\n",
       "    </tr>\n",
       "    <tr>\n",
       "      <th>1</th>\n",
       "      <td>Harry Potter and the Philosopher's Stone</td>\n",
       "      <td>4</td>\n",
       "    </tr>\n",
       "    <tr>\n",
       "      <th>2</th>\n",
       "      <td>Harry Potter and the Philosopher's Stone</td>\n",
       "      <td>4</td>\n",
       "    </tr>\n",
       "    <tr>\n",
       "      <th>3</th>\n",
       "      <td>Harry Potter and the Philosopher's Stone</td>\n",
       "      <td>5</td>\n",
       "    </tr>\n",
       "    <tr>\n",
       "      <th>4</th>\n",
       "      <td>Harry Potter and the Philosopher's Stone</td>\n",
       "      <td>3</td>\n",
       "    </tr>\n",
       "  </tbody>\n",
       "</table>\n",
       "</div>"
      ],
      "text/plain": [
       "                             original_title  rating\n",
       "0  Harry Potter and the Philosopher's Stone       5\n",
       "1  Harry Potter and the Philosopher's Stone       4\n",
       "2  Harry Potter and the Philosopher's Stone       4\n",
       "3  Harry Potter and the Philosopher's Stone       5\n",
       "4  Harry Potter and the Philosopher's Stone       3"
      ]
     },
     "execution_count": 19,
     "metadata": {},
     "output_type": "execute_result"
    }
   ],
   "source": [
    "df.head()"
   ]
  },
  {
   "cell_type": "code",
   "execution_count": 20,
   "metadata": {},
   "outputs": [
    {
     "data": {
      "text/html": [
       "<div>\n",
       "<style scoped>\n",
       "    .dataframe tbody tr th:only-of-type {\n",
       "        vertical-align: middle;\n",
       "    }\n",
       "\n",
       "    .dataframe tbody tr th {\n",
       "        vertical-align: top;\n",
       "    }\n",
       "\n",
       "    .dataframe thead th {\n",
       "        text-align: right;\n",
       "    }\n",
       "</style>\n",
       "<table border=\"1\" class=\"dataframe\">\n",
       "  <thead>\n",
       "    <tr style=\"text-align: right;\">\n",
       "      <th></th>\n",
       "      <th>original_title</th>\n",
       "      <th>rating</th>\n",
       "    </tr>\n",
       "  </thead>\n",
       "  <tbody>\n",
       "    <tr>\n",
       "      <th>110227</th>\n",
       "      <td>Harry Potter and the Half-Blood Prince</td>\n",
       "      <td>4</td>\n",
       "    </tr>\n",
       "    <tr>\n",
       "      <th>38045</th>\n",
       "      <td>Harry Potter and the Order of the Phoenix</td>\n",
       "      <td>1</td>\n",
       "    </tr>\n",
       "    <tr>\n",
       "      <th>22773</th>\n",
       "      <td>Harry Potter and the Prisoner of Azkaban</td>\n",
       "      <td>5</td>\n",
       "    </tr>\n",
       "    <tr>\n",
       "      <th>97604</th>\n",
       "      <td>Harry Potter and the Deathly Hallows</td>\n",
       "      <td>5</td>\n",
       "    </tr>\n",
       "    <tr>\n",
       "      <th>68219</th>\n",
       "      <td>Harry Potter and the Chamber of Secrets</td>\n",
       "      <td>4</td>\n",
       "    </tr>\n",
       "    <tr>\n",
       "      <th>102009</th>\n",
       "      <td>Harry Potter and the Half-Blood Prince</td>\n",
       "      <td>5</td>\n",
       "    </tr>\n",
       "    <tr>\n",
       "      <th>67300</th>\n",
       "      <td>Harry Potter and the Chamber of Secrets</td>\n",
       "      <td>4</td>\n",
       "    </tr>\n",
       "    <tr>\n",
       "      <th>65260</th>\n",
       "      <td>Harry Potter and the Chamber of Secrets</td>\n",
       "      <td>4</td>\n",
       "    </tr>\n",
       "    <tr>\n",
       "      <th>19667</th>\n",
       "      <td>Harry Potter and the Philosopher's Stone</td>\n",
       "      <td>5</td>\n",
       "    </tr>\n",
       "    <tr>\n",
       "      <th>20115</th>\n",
       "      <td>Harry Potter and the Philosopher's Stone</td>\n",
       "      <td>5</td>\n",
       "    </tr>\n",
       "  </tbody>\n",
       "</table>\n",
       "</div>"
      ],
      "text/plain": [
       "                                   original_title  rating\n",
       "110227     Harry Potter and the Half-Blood Prince       4\n",
       "38045   Harry Potter and the Order of the Phoenix       1\n",
       "22773    Harry Potter and the Prisoner of Azkaban       5\n",
       "97604        Harry Potter and the Deathly Hallows       5\n",
       "68219     Harry Potter and the Chamber of Secrets       4\n",
       "102009     Harry Potter and the Half-Blood Prince       5\n",
       "67300     Harry Potter and the Chamber of Secrets       4\n",
       "65260     Harry Potter and the Chamber of Secrets       4\n",
       "19667    Harry Potter and the Philosopher's Stone       5\n",
       "20115    Harry Potter and the Philosopher's Stone       5"
      ]
     },
     "execution_count": 20,
     "metadata": {},
     "output_type": "execute_result"
    }
   ],
   "source": [
    "df.sample(10)"
   ]
  },
  {
   "cell_type": "markdown",
   "metadata": {},
   "source": [
    "We can leverage the groupby function in pandas to do helpful calculations:"
   ]
  },
  {
   "cell_type": "code",
   "execution_count": 24,
   "metadata": {},
   "outputs": [
    {
     "data": {
      "text/html": [
       "<div>\n",
       "<style scoped>\n",
       "    .dataframe tbody tr th:only-of-type {\n",
       "        vertical-align: middle;\n",
       "    }\n",
       "\n",
       "    .dataframe tbody tr th {\n",
       "        vertical-align: top;\n",
       "    }\n",
       "\n",
       "    .dataframe thead th {\n",
       "        text-align: right;\n",
       "    }\n",
       "</style>\n",
       "<table border=\"1\" class=\"dataframe\">\n",
       "  <thead>\n",
       "    <tr style=\"text-align: right;\">\n",
       "      <th></th>\n",
       "      <th>rating</th>\n",
       "    </tr>\n",
       "    <tr>\n",
       "      <th>original_title</th>\n",
       "      <th></th>\n",
       "    </tr>\n",
       "  </thead>\n",
       "  <tbody>\n",
       "    <tr>\n",
       "      <th></th>\n",
       "      <td>4.588123</td>\n",
       "    </tr>\n",
       "    <tr>\n",
       "      <th>Career of Evil</th>\n",
       "      <td>4.134006</td>\n",
       "    </tr>\n",
       "    <tr>\n",
       "      <th>Complete Harry Potter Boxed Set</th>\n",
       "      <td>4.659530</td>\n",
       "    </tr>\n",
       "    <tr>\n",
       "      <th>Fantastic Beasts and Where to Find Them</th>\n",
       "      <td>3.775901</td>\n",
       "    </tr>\n",
       "    <tr>\n",
       "      <th>Fantastic Beasts and Where to Find Them: The Original Screenplay</th>\n",
       "      <td>4.384259</td>\n",
       "    </tr>\n",
       "    <tr>\n",
       "      <th>Harry Potter Boxed Set Books 1-4</th>\n",
       "      <td>4.605357</td>\n",
       "    </tr>\n",
       "    <tr>\n",
       "      <th>Harry Potter Collection (Harry Potter, #1-6)</th>\n",
       "      <td>4.699571</td>\n",
       "    </tr>\n",
       "    <tr>\n",
       "      <th>Harry Potter and the Chamber of Secrets</th>\n",
       "      <td>4.229418</td>\n",
       "    </tr>\n",
       "    <tr>\n",
       "      <th>Harry Potter and the Cursed Child, Parts One and Two</th>\n",
       "      <td>3.694737</td>\n",
       "    </tr>\n",
       "    <tr>\n",
       "      <th>Harry Potter and the Deathly Hallows</th>\n",
       "      <td>4.525941</td>\n",
       "    </tr>\n",
       "    <tr>\n",
       "      <th>Harry Potter and the Goblet of Fire</th>\n",
       "      <td>4.430780</td>\n",
       "    </tr>\n",
       "    <tr>\n",
       "      <th>Harry Potter and the Half-Blood Prince</th>\n",
       "      <td>4.443339</td>\n",
       "    </tr>\n",
       "    <tr>\n",
       "      <th>Harry Potter and the Order of the Phoenix</th>\n",
       "      <td>4.358697</td>\n",
       "    </tr>\n",
       "    <tr>\n",
       "      <th>Harry Potter and the Philosopher's Stone</th>\n",
       "      <td>4.351350</td>\n",
       "    </tr>\n",
       "    <tr>\n",
       "      <th>Harry Potter and the Prisoner of Azkaban</th>\n",
       "      <td>4.418732</td>\n",
       "    </tr>\n",
       "    <tr>\n",
       "      <th>Harry, A History: The True Story of a Boy Wizard, His Fans, and Life Inside the Harry Potter Phenomenon</th>\n",
       "      <td>4.090909</td>\n",
       "    </tr>\n",
       "    <tr>\n",
       "      <th>Hogwarts: An Incomplete and Unreliable Guide</th>\n",
       "      <td>4.219858</td>\n",
       "    </tr>\n",
       "    <tr>\n",
       "      <th>Quidditch Through the Ages</th>\n",
       "      <td>3.729560</td>\n",
       "    </tr>\n",
       "    <tr>\n",
       "      <th>Short Stories from Hogwarts of Heroism, Hardship and Dangerous Hobbies</th>\n",
       "      <td>4.329268</td>\n",
       "    </tr>\n",
       "    <tr>\n",
       "      <th>Short Stories from Hogwarts of Power, Politics and Pesky Poltergeists</th>\n",
       "      <td>4.173913</td>\n",
       "    </tr>\n",
       "    <tr>\n",
       "      <th>The Casual Vacancy</th>\n",
       "      <td>3.174991</td>\n",
       "    </tr>\n",
       "    <tr>\n",
       "      <th>The Cuckoo's Calling</th>\n",
       "      <td>3.794902</td>\n",
       "    </tr>\n",
       "    <tr>\n",
       "      <th>The Silkworm</th>\n",
       "      <td>3.950251</td>\n",
       "    </tr>\n",
       "    <tr>\n",
       "      <th>The Tales of Beedle the Bard</th>\n",
       "      <td>3.828964</td>\n",
       "    </tr>\n",
       "    <tr>\n",
       "      <th>Very Good Lives: The Fringe Benefits of Failure and the Importance of Imagination</th>\n",
       "      <td>4.275510</td>\n",
       "    </tr>\n",
       "  </tbody>\n",
       "</table>\n",
       "</div>"
      ],
      "text/plain": [
       "                                                      rating\n",
       "original_title                                              \n",
       "                                                    4.588123\n",
       "Career of Evil                                      4.134006\n",
       "Complete Harry Potter Boxed Set                     4.659530\n",
       "Fantastic Beasts and Where to Find Them             3.775901\n",
       "Fantastic Beasts and Where to Find Them: The Or...  4.384259\n",
       "Harry Potter Boxed Set Books 1-4                    4.605357\n",
       "Harry Potter Collection (Harry Potter, #1-6)        4.699571\n",
       "Harry Potter and the Chamber of Secrets             4.229418\n",
       "Harry Potter and the Cursed Child, Parts One an...  3.694737\n",
       "Harry Potter and the Deathly Hallows                4.525941\n",
       "Harry Potter and the Goblet of Fire                 4.430780\n",
       "Harry Potter and the Half-Blood Prince              4.443339\n",
       "Harry Potter and the Order of the Phoenix           4.358697\n",
       "Harry Potter and the Philosopher's Stone            4.351350\n",
       "Harry Potter and the Prisoner of Azkaban            4.418732\n",
       "Harry, A History: The True Story of a Boy Wizar...  4.090909\n",
       "Hogwarts: An Incomplete and Unreliable Guide        4.219858\n",
       "Quidditch Through the Ages                          3.729560\n",
       "Short Stories from Hogwarts of Heroism, Hardshi...  4.329268\n",
       "Short Stories from Hogwarts of Power, Politics ...  4.173913\n",
       "The Casual Vacancy                                  3.174991\n",
       "The Cuckoo's Calling                                3.794902\n",
       "The Silkworm                                        3.950251\n",
       "The Tales of Beedle the Bard                        3.828964\n",
       "Very Good Lives: The Fringe Benefits of Failure...  4.275510"
      ]
     },
     "execution_count": 24,
     "metadata": {},
     "output_type": "execute_result"
    }
   ],
   "source": [
    "df.groupby(by='original_title')[['rating']].mean()"
   ]
  },
  {
   "cell_type": "markdown",
   "metadata": {},
   "source": [
    "Here's a schematic representation of the goodreads database:"
   ]
  },
  {
   "cell_type": "markdown",
   "metadata": {},
   "source": [
    "![](assets/goodreadsEER.png)"
   ]
  },
  {
   "cell_type": "code",
   "execution_count": 25,
   "metadata": {},
   "outputs": [
    {
     "data": {
      "text/html": [
       "<div>\n",
       "<style scoped>\n",
       "    .dataframe tbody tr th:only-of-type {\n",
       "        vertical-align: middle;\n",
       "    }\n",
       "\n",
       "    .dataframe tbody tr th {\n",
       "        vertical-align: top;\n",
       "    }\n",
       "\n",
       "    .dataframe thead th {\n",
       "        text-align: right;\n",
       "    }\n",
       "</style>\n",
       "<table border=\"1\" class=\"dataframe\">\n",
       "  <thead>\n",
       "    <tr style=\"text-align: right;\">\n",
       "      <th></th>\n",
       "      <th>original_title</th>\n",
       "      <th>rating</th>\n",
       "    </tr>\n",
       "  </thead>\n",
       "  <tbody>\n",
       "    <tr>\n",
       "      <th>41938</th>\n",
       "      <td>Harry Potter and the Order of the Phoenix</td>\n",
       "      <td>3</td>\n",
       "    </tr>\n",
       "    <tr>\n",
       "      <th>21577</th>\n",
       "      <td>Harry Potter and the Philosopher's Stone</td>\n",
       "      <td>5</td>\n",
       "    </tr>\n",
       "    <tr>\n",
       "      <th>125164</th>\n",
       "      <td>The Tales of Beedle the Bard</td>\n",
       "      <td>3</td>\n",
       "    </tr>\n",
       "    <tr>\n",
       "      <th>74945</th>\n",
       "      <td>Harry Potter and the Goblet of Fire</td>\n",
       "      <td>5</td>\n",
       "    </tr>\n",
       "    <tr>\n",
       "      <th>116305</th>\n",
       "      <td>The Cuckoo's Calling</td>\n",
       "      <td>4</td>\n",
       "    </tr>\n",
       "    <tr>\n",
       "      <th>59418</th>\n",
       "      <td>Harry Potter and the Chamber of Secrets</td>\n",
       "      <td>5</td>\n",
       "    </tr>\n",
       "    <tr>\n",
       "      <th>125413</th>\n",
       "      <td>The Tales of Beedle the Bard</td>\n",
       "      <td>3</td>\n",
       "    </tr>\n",
       "    <tr>\n",
       "      <th>86057</th>\n",
       "      <td>Harry Potter and the Deathly Hallows</td>\n",
       "      <td>5</td>\n",
       "    </tr>\n",
       "    <tr>\n",
       "      <th>40063</th>\n",
       "      <td>Harry Potter and the Order of the Phoenix</td>\n",
       "      <td>4</td>\n",
       "    </tr>\n",
       "    <tr>\n",
       "      <th>106934</th>\n",
       "      <td>Harry Potter and the Half-Blood Prince</td>\n",
       "      <td>5</td>\n",
       "    </tr>\n",
       "  </tbody>\n",
       "</table>\n",
       "</div>"
      ],
      "text/plain": [
       "                                   original_title  rating\n",
       "41938   Harry Potter and the Order of the Phoenix       3\n",
       "21577    Harry Potter and the Philosopher's Stone       5\n",
       "125164               The Tales of Beedle the Bard       3\n",
       "74945         Harry Potter and the Goblet of Fire       5\n",
       "116305                       The Cuckoo's Calling       4\n",
       "59418     Harry Potter and the Chamber of Secrets       5\n",
       "125413               The Tales of Beedle the Bard       3\n",
       "86057        Harry Potter and the Deathly Hallows       5\n",
       "40063   Harry Potter and the Order of the Phoenix       4\n",
       "106934     Harry Potter and the Half-Blood Prince       5"
      ]
     },
     "execution_count": 25,
     "metadata": {},
     "output_type": "execute_result"
    }
   ],
   "source": [
    "df.sample(10)"
   ]
  },
  {
   "cell_type": "markdown",
   "metadata": {},
   "source": [
    "### <font color=\"magenta\">Q2: How many books in our dataset were originally published in 2016?</font>"
   ]
  },
  {
   "cell_type": "code",
   "execution_count": 27,
   "metadata": {},
   "outputs": [
    {
     "data": {
      "text/html": [
       "<div>\n",
       "<style scoped>\n",
       "    .dataframe tbody tr th:only-of-type {\n",
       "        vertical-align: middle;\n",
       "    }\n",
       "\n",
       "    .dataframe tbody tr th {\n",
       "        vertical-align: top;\n",
       "    }\n",
       "\n",
       "    .dataframe thead th {\n",
       "        text-align: right;\n",
       "    }\n",
       "</style>\n",
       "<table border=\"1\" class=\"dataframe\">\n",
       "  <thead>\n",
       "    <tr style=\"text-align: right;\">\n",
       "      <th></th>\n",
       "      <th>cnt</th>\n",
       "    </tr>\n",
       "  </thead>\n",
       "  <tbody>\n",
       "    <tr>\n",
       "      <th>0</th>\n",
       "      <td>198</td>\n",
       "    </tr>\n",
       "  </tbody>\n",
       "</table>\n",
       "</div>"
      ],
      "text/plain": [
       "   cnt\n",
       "0  198"
      ]
     },
     "execution_count": 27,
     "metadata": {},
     "output_type": "execute_result"
    }
   ],
   "source": [
    "q2 = pd.read_sql('SELECT COUNT(*) as cnt FROM books WHERE original_publication_year = 2016',con=connection)\n",
    "q2"
   ]
  },
  {
   "cell_type": "markdown",
   "metadata": {},
   "source": [
    "There are 198 books in the dataset that were originally published in 2016. "
   ]
  },
  {
   "cell_type": "markdown",
   "metadata": {},
   "source": [
    "### <font color=\"magenta\">Q3: How many books were published in each year of original publication in our dataset?</font>\n"
   ]
  },
  {
   "cell_type": "code",
   "execution_count": 32,
   "metadata": {},
   "outputs": [
    {
     "data": {
      "text/plain": [
       "original_publication_year\n",
       "-1750    1\n",
       "-762     1\n",
       "-750     2\n",
       "-720     1\n",
       "-560     1\n",
       "dtype: int64"
      ]
     },
     "execution_count": 32,
     "metadata": {},
     "output_type": "execute_result"
    }
   ],
   "source": [
    "firstdf.groupby(by='original_publication_year').size().head()"
   ]
  },
  {
   "cell_type": "markdown",
   "metadata": {},
   "source": [
    "### <font color=\"magenta\">Q4: Do you notice anything interesting or strange about your results from the previous question?  Investigate at least one of these anomalies using either an SQL query or pandas filtering. </font>"
   ]
  },
  {
   "cell_type": "markdown",
   "metadata": {},
   "source": [
    "There appear to be books in the database that come from years before 0 (B.C.). I investigate this in the cell below using SQL. "
   ]
  },
  {
   "cell_type": "code",
   "execution_count": 39,
   "metadata": {},
   "outputs": [
    {
     "data": {
      "text/html": [
       "<div>\n",
       "<style scoped>\n",
       "    .dataframe tbody tr th:only-of-type {\n",
       "        vertical-align: middle;\n",
       "    }\n",
       "\n",
       "    .dataframe tbody tr th {\n",
       "        vertical-align: top;\n",
       "    }\n",
       "\n",
       "    .dataframe thead th {\n",
       "        text-align: right;\n",
       "    }\n",
       "</style>\n",
       "<table border=\"1\" class=\"dataframe\">\n",
       "  <thead>\n",
       "    <tr style=\"text-align: right;\">\n",
       "      <th></th>\n",
       "      <th>original_title</th>\n",
       "      <th>original_publication_year</th>\n",
       "    </tr>\n",
       "  </thead>\n",
       "  <tbody>\n",
       "    <tr>\n",
       "      <th>0</th>\n",
       "      <td>á½ˆÎ´ÏÏƒÏƒÎµÎ¹Î±</td>\n",
       "      <td>-720</td>\n",
       "    </tr>\n",
       "    <tr>\n",
       "      <th>1</th>\n",
       "      <td>á¼¸Î»Î¹Î¬Ï‚</td>\n",
       "      <td>-750</td>\n",
       "    </tr>\n",
       "    <tr>\n",
       "      <th>2</th>\n",
       "      <td>å­«å­å…µæ³• [SÅ«nzi bÄ«ngfÇŽ]</td>\n",
       "      <td>-500</td>\n",
       "    </tr>\n",
       "    <tr>\n",
       "      <th>3</th>\n",
       "      <td>Î Î¿Î»Î¹Ï„ÎµÎ¯Î±</td>\n",
       "      <td>-380</td>\n",
       "    </tr>\n",
       "    <tr>\n",
       "      <th>4</th>\n",
       "      <td>ÎŸá¼°Î´Î¯Ï€Î¿Ï…Ï‚ Î¤ÏÏÎ±Î½Î½Î¿Ï‚</td>\n",
       "      <td>-430</td>\n",
       "    </tr>\n",
       "  </tbody>\n",
       "</table>\n",
       "</div>"
      ],
      "text/plain": [
       "                       original_title  original_publication_year\n",
       "0                   á½ˆÎ´ÏÏƒÏƒÎµÎ¹Î±                       -720\n",
       "1                         á¼¸Î»Î¹Î¬Ï‚                       -750\n",
       "2      å­«å­å…µæ³• [SÅ«nzi bÄ«ngfÇŽ]                       -500\n",
       "3                    Î Î¿Î»Î¹Ï„ÎµÎ¯Î±                       -380\n",
       "4  ÎŸá¼°Î´Î¯Ï€Î¿Ï…Ï‚ Î¤ÏÏÎ±Î½Î½Î¿Ï‚                       -430"
      ]
     },
     "execution_count": 39,
     "metadata": {},
     "output_type": "execute_result"
    }
   ],
   "source": [
    "q4 = pd.read_sql('SELECT original_title, original_publication_year FROM books\\\n",
    "                 WHERE original_publication_year < 0', con=connection)\n",
    "q4.head()"
   ]
  },
  {
   "cell_type": "markdown",
   "metadata": {},
   "source": [
    "### <font color=\"magenta\">Q5: Create a dataframe that contains a list of all book titles from 2017 as well as the tag_names associated with each book.</font>"
   ]
  },
  {
   "cell_type": "code",
   "execution_count": 42,
   "metadata": {},
   "outputs": [
    {
     "data": {
      "text/html": [
       "<div>\n",
       "<style scoped>\n",
       "    .dataframe tbody tr th:only-of-type {\n",
       "        vertical-align: middle;\n",
       "    }\n",
       "\n",
       "    .dataframe tbody tr th {\n",
       "        vertical-align: top;\n",
       "    }\n",
       "\n",
       "    .dataframe thead th {\n",
       "        text-align: right;\n",
       "    }\n",
       "</style>\n",
       "<table border=\"1\" class=\"dataframe\">\n",
       "  <thead>\n",
       "    <tr style=\"text-align: right;\">\n",
       "      <th></th>\n",
       "      <th>original_title</th>\n",
       "      <th>tag_name</th>\n",
       "    </tr>\n",
       "  </thead>\n",
       "  <tbody>\n",
       "    <tr>\n",
       "      <th>1095</th>\n",
       "      <td>Norse Mythology</td>\n",
       "      <td>young-adult\\r</td>\n",
       "    </tr>\n",
       "    <tr>\n",
       "      <th>1096</th>\n",
       "      <td>The Hate U Give</td>\n",
       "      <td>young-adult\\r</td>\n",
       "    </tr>\n",
       "    <tr>\n",
       "      <th>1097</th>\n",
       "      <td>Caraval</td>\n",
       "      <td>young-adult-fantasy\\r</td>\n",
       "    </tr>\n",
       "    <tr>\n",
       "      <th>1098</th>\n",
       "      <td>Caraval</td>\n",
       "      <td>young-adult-fiction\\r</td>\n",
       "    </tr>\n",
       "    <tr>\n",
       "      <th>1099</th>\n",
       "      <td>The Hate U Give</td>\n",
       "      <td>young-adult-fiction\\r</td>\n",
       "    </tr>\n",
       "  </tbody>\n",
       "</table>\n",
       "</div>"
      ],
      "text/plain": [
       "       original_title               tag_name\n",
       "1095  Norse Mythology          young-adult\\r\n",
       "1096  The Hate U Give          young-adult\\r\n",
       "1097          Caraval  young-adult-fantasy\\r\n",
       "1098          Caraval  young-adult-fiction\\r\n",
       "1099  The Hate U Give  young-adult-fiction\\r"
      ]
     },
     "execution_count": 42,
     "metadata": {},
     "output_type": "execute_result"
    }
   ],
   "source": [
    "q5 = pd.read_sql('SELECT books.original_title, tags.tag_name\\\n",
    "                  FROM books, tags, books_tags\\\n",
    "                  WHERE books.goodreads_book_id = books_tags.goodreads_book_id\\\n",
    "                  AND books_tags.tag_id = tags.tag_id\\\n",
    "                  AND books.original_publication_year = 2017;', con=connection)\n",
    "q5.tail()"
   ]
  },
  {
   "cell_type": "markdown",
   "metadata": {},
   "source": [
    "# END OF NOTEBOOK: REMEMBER TO STRIP IDETIFYING INFORMATION FROM TOP OF NOTEBOOK!\n",
    "Please submit both ipynb and html formats of this notebook to Canvas."
   ]
  },
  {
   "cell_type": "code",
   "execution_count": null,
   "metadata": {},
   "outputs": [],
   "source": []
  },
  {
   "cell_type": "code",
   "execution_count": null,
   "metadata": {},
   "outputs": [],
   "source": []
  }
 ],
 "metadata": {
  "kernelspec": {
   "display_name": "Python 3",
   "language": "python",
   "name": "python3"
  },
  "language_info": {
   "codemirror_mode": {
    "name": "ipython",
    "version": 3
   },
   "file_extension": ".py",
   "mimetype": "text/x-python",
   "name": "python",
   "nbconvert_exporter": "python",
   "pygments_lexer": "ipython3",
   "version": "3.6.8"
  }
 },
 "nbformat": 4,
 "nbformat_minor": 2
}
